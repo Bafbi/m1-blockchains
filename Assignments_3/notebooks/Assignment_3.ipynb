{
 "cells": [
  {
   "cell_type": "markdown",
   "id": "e22288f1-e868-4657-b9f7-f22ee54955fb",
   "metadata": {},
   "source": [
    "# Assignment 3\n",
    "\n",
    "***\n",
    "\n",
    "*Consensus algorithms*\n",
    "\n",
    "***\n",
    "\n",
    "In this practical work, we will implement the details of both Proof-of-Stake (PoS) and as a bonus Proof-of-Work (PoW). Since PoS is becoming the most popular consensus algorithm, and suits any decentralized system well, it is the most interesting to look after.\n",
    "\n",
    "It may seem counter-intuitive since until now we haven't seen nor coded a decentralized system (this is for Assignment 4). We will stick to one central blockchain on which multiple public keys operate.\n",
    "\n",
    "So one would argue : why doing it now since once we port the model to a decentralized network, blockchain instances will be out of synchronization. Well the answer, as we've seen in the lecture, is **deterministicity**. The consensus is **universal** and does not need people to communicate. Like a law of nature, somehow.\n",
    "\n",
    "Take as an example the pi constant ```𝜋 ≈ 3.14159...```. Since we've all been taught the same mathematics in class, we all learnt the same operators ```+```, ```-```, ```÷``` ..., the traditional digits 0..9, and all the rest, which are all really just a human construct, we are all able to calculate ```𝜋``` (we actually did in Assignment 1). We can thus say there is a universal consensus on ```𝜋```. You do not need to talk with a libanese student to agree on the value of ```𝜋```.\n",
    "\n",
    "For blockchains, the same applies. Every node in the network owns the same software that runs the blockchain (like us, the same mathematics) and can thus **calculate the same forger for next block**. This way, a consensus is reached without exchanging information."
   ]
  },
  {
   "cell_type": "code",
   "execution_count": 3,
   "id": "c2bcb060",
   "metadata": {},
   "outputs": [],
   "source": [
    "%load_ext autoreload\n"
   ]
  },
  {
   "cell_type": "code",
   "execution_count": 4,
   "id": "1ae832cd",
   "metadata": {
    "ExecuteTime": {
     "end_time": "2025-01-28T11:31:56.566562Z",
     "start_time": "2025-01-28T11:31:56.539533Z"
    }
   },
   "outputs": [],
   "source": [
    "# Mandatory cell, please execute it\n",
    "\n",
    "%autoreload 2\n",
    "\n",
    "from sys import path\n",
    "\n",
    "path.append('../scripts')\n",
    "\n",
    "class StopExecution(Exception):\n",
    "    def _render_traceback_(self):\n",
    "        pass"
   ]
  },
  {
   "cell_type": "markdown",
   "id": "b03ad070-51b1-460e-9e6c-f39d632d1a09",
   "metadata": {},
   "source": [
    "### Staking\n",
    "\n",
    "In Proof-of-Stake, there is \"Stake\" so we need the possibility to stake tokens.\n",
    "\n",
    "In the context of blockchains, \"staking\" refers to the action of depositing a fixed amount of tokens to strengthen one's voting rights in important decisions concerning the blockchain. The primary of these decisions is the selection of the next forger, but each blockchain project can include additional decisions, such as the project's direction, reward choices, and more...\n",
    "\n",
    "As we haven't implemented an economic system in our blockchain (our blockchain is purely educational), we will assume that every actor in the blockchain has an infinite amount of tokens in their pocket. Therefore, you can stake any amount you want for each wallet.\n",
    "\n",
    "Now, we need to code the staking operation.\n",
    "\n",
    "***\n",
    "\n",
    "<font color=\"7777aa\">In your \"scripts\" folder, create a file called `stake.py` in which you must implement the `StakingOperation` class. For now, just code its constructor, nothing more.</font>\n",
    "\n",
    "This class should adhere to the following model, as we've just discussed:\n",
    "* A staking operation involves a person and an amount of tokens to be staked (`tokenAmount`).\n",
    "* These operations will be stored in the blockchain (and therefore gain all the properties of security, immutability, etc...)\n",
    "\n",
    "> <details><summary><strong>Click here to show help 1</strong></summary>The description I provided should strongly remind you of another data structure you saw in Assignment 2.</details>\n",
    "\n",
    "> <details><summary><strong>Click here to show help 2</strong></summary><code>StakingOperation</code> inherits from <code>Certificate</code>, you just need to add the <code>tokenAmount</code> field in the class and its constructor.</details>"
   ]
  },
  {
   "cell_type": "code",
   "execution_count": 5,
   "id": "f50c3a7f",
   "metadata": {
    "ExecuteTime": {
     "end_time": "2025-01-28T11:31:58.692406Z",
     "start_time": "2025-01-28T11:31:57.931843Z"
    }
   },
   "outputs": [
    {
     "data": {
      "text/plain": [
       "'Success!'"
      ]
     },
     "execution_count": 5,
     "metadata": {},
     "output_type": "execute_result"
    }
   ],
   "source": [
    "from stake import StakingOperation\n",
    "\n",
    "dummyStakingOperation = StakingOperation('9cbe2a6713', 42)\n",
    "\n",
    "assert dummyStakingOperation.issuerPublicKey == '9cbe2a6713'   # Has an issuer\n",
    "assert dummyStakingOperation.tokenAmount == 42                 # Staking 42 tokens\n",
    "\n",
    "'Success!'"
   ]
  },
  {
   "cell_type": "markdown",
   "id": "2b0bf0f2",
   "metadata": {},
   "source": [
    "***\n",
    "<font color=\"7777aa\">In the same way you did it for the `Block` class in Assignment 2, rewrite the `build_payload()` function to include the additional data.</font>\n",
    "\n",
    "> <details><summary><strong>Click here to show help</strong></summary>You simply need to add <code>tokenAmount</code> to it.</details>"
   ]
  },
  {
   "cell_type": "code",
   "execution_count": 6,
   "id": "9facb33a",
   "metadata": {
    "ExecuteTime": {
     "end_time": "2025-01-28T11:31:59.781409Z",
     "start_time": "2025-01-28T11:31:59.763396Z"
    }
   },
   "outputs": [
    {
     "data": {
      "text/plain": [
       "{'issuerPublicKey': '9cbe2a6713',\n",
       " 'timestamp': 1738830597584,\n",
       " 'tokenAmount': 42}"
      ]
     },
     "execution_count": 6,
     "metadata": {},
     "output_type": "execute_result"
    }
   ],
   "source": [
    "dummyStakingOperation.build_payload()"
   ]
  },
  {
   "cell_type": "markdown",
   "id": "8f5e1e95",
   "metadata": {},
   "source": [
    "You can now use your blockchain to perform staking operations, and the following cell demonstrates how to do it.\n",
    "\n",
    "For the entire duration of the Assignment, we will have the following setup:\n",
    "\n",
    "* Two actors (**Alice** and **Bob**) represented by their wallets (`walletAlice` and `walletBob`).\n",
    "* One and only one **blockchain** (`blockchainAssignment3`) on which we will add staking operations and general certificates.\n",
    "\n",
    "Let's start with Alice and Bob staking the following amounts:\n",
    "* Alice: 4\n",
    "* Bob: 2.5"
   ]
  },
  {
   "cell_type": "code",
   "execution_count": 7,
   "id": "a3960ac2",
   "metadata": {
    "ExecuteTime": {
     "end_time": "2025-01-28T11:32:01.641789Z",
     "start_time": "2025-01-28T11:32:00.931893Z"
    }
   },
   "outputs": [
    {
     "name": "stdout",
     "output_type": "stream",
     "text": [
      "Issuer public key: 000000000000000000000000000000000000000000000000000000000000000000000000000000000000000000000000000000000000000000000000000000000000000000000000000000000000000000000000000000000000000000000000000000000000000000000000000000000000000000000000000000000000000000000000000000000000000000000000000000000000000000000000000000000000000000000000000000000000000000000000000000000000000000000000000000000000000000000000000000000000000000000000000000000000000000000000000000000000000000000000000000000000000000000000000000000000000000000000000000000000000000000000000000000000000000000000000000000000\n",
      "Signature: None\n",
      "Timestamp: 1738830598385\n",
      "Hash: 1ede4baa242162337ecb4f3730b3ee4ce74f980ac614c747ee698496bd7714eb\n",
      "Is legit: True\n",
      "\n",
      "Index in blockchain: 0\n",
      "Parent block hash: 0000000000000000000000000000000000000000000000000000000000000000\n",
      "Certificate list:\n",
      "\n",
      "\n",
      "Issuer public key: 30820122300d06092a864886f70d01010105000382010f003082010a0282010100c4628604d2a52b75bd286f2df5d240ee2e4d5960d1d4520de26bcdc1f5e49ddfcd99f71fd24209b4cb01ebc50d63f09e952597c95fdbe3dd1c679471d66eefd93def1cda1fb0943d36ade8b25a7e93037a34f071974394c3bddf4b6b901fdefef7f75a80c6ab81467c74ed41982146ad4a5400e6d1ab50c1e866176240e5260a59fc8eec2c1b388ee5f9b14a1e748925367ddcc916a0b6adb3ab28a89ac38673b131bfe66f6868ab035e44c538e0ed59b729ad942df6fa8d6142364e9406f46cd5bd27001fee08e917a75ec8e5da5e81979ec10ee5fabfaf1a310143e57e1e75fa0910923fa2a0456e0768a07a9400798e0a9934fcc4166fe176c65c2a49fbe90203010001\n",
      "Signature: 18406218e75d232318274f737b3cfc8c77877b73750856d59c5f3ba620c1310668d6964f5006268f2f543c2d26e1ddc79dc71af35320d13eca009accc0a36944ab2bee0fb9b8d1d7d22947b0ae5d4ebd28380cf4ff6d1fdb44809a310899183f7ee89bb3f29210f3629dd0607513d8697f109dbe22b20facf07524bc61d68e335c4adc7d73ef8887e8e5b2e059a9ed49178c5cea722c26c99ade171e7d41379bba70e9bafefb32ce640cb14ef4d408fd425517e7f38488f28f2dc0859b32644ef334ce0d4703a1f45c0a8235096361f94a1cc62ec1740e8fb1c0f2f5eaea24be6b4b4dd6646d4bd6c3ffad7ac9a08917810951d60c4f2206f297f17bad798b1a\n",
      "Timestamp: 1738830598452\n",
      "Hash: e5644f43ffd7313937a3ebfc3439a7ce917522e6cf3aed318777ee6efa82ca46\n",
      "Is legit: True\n",
      "\n",
      "Index in blockchain: 1\n",
      "Parent block hash: 1ede4baa242162337ecb4f3730b3ee4ce74f980ac614c747ee698496bd7714eb\n",
      "Certificate list:\n",
      "Issuer public key: 30820122300d06092a864886f70d01010105000382010f003082010a0282010100c4628604d2a52b75bd286f2df5d240ee2e4d5960d1d4520de26bcdc1f5e49ddfcd99f71fd24209b4cb01ebc50d63f09e952597c95fdbe3dd1c679471d66eefd93def1cda1fb0943d36ade8b25a7e93037a34f071974394c3bddf4b6b901fdefef7f75a80c6ab81467c74ed41982146ad4a5400e6d1ab50c1e866176240e5260a59fc8eec2c1b388ee5f9b14a1e748925367ddcc916a0b6adb3ab28a89ac38673b131bfe66f6868ab035e44c538e0ed59b729ad942df6fa8d6142364e9406f46cd5bd27001fee08e917a75ec8e5da5e81979ec10ee5fabfaf1a310143e57e1e75fa0910923fa2a0456e0768a07a9400798e0a9934fcc4166fe176c65c2a49fbe90203010001\n",
      "Signature: 7e5cd9c0e090391224220b26d1d1fe8ed771f71f85b319ce4e6701cea4644a4b493c364a9dbe143a444c86d1ad52f045342236ad45225f2488ef5a6ccce75dbeb6705c38b22b424fdc9071a5acaad5ab73123326819dc7ed2e73e8f907c4aa2ddf60ec52e27b36edead01c8f75ac310c0b0baecfd810064d7364da4a8289082d2b5502b22eaa321435b645d23e0a3660dde85a617ce465ccf786941af3229ef5d5234602a6efc1ea040f847e5abe4f679c53d58b65ec7c862f55a270ac59952beaf85210708526a9fea028eb108982deb743ca9fd5cfa2543dea54c4cfd222cbaa89a110873d3a55efb34dd6ec1d05e924aa9493e1260918176b090306d79761\n",
      "Timestamp: 1738830598385\n",
      "Hash: 1b95c781d9c4f109611dab2c1eae93e340f4da71d916cf6c8a340a0fa17de366\n",
      "Is legit: True\n",
      "\n",
      "Issuer public key: 30820122300d06092a864886f70d01010105000382010f003082010a0282010100c0de34f4d63ef6b1e7fb0fbe45041930017a80f352f9fc87fe6bb3a9d82ff05a367942ad2f54386c5c810ae3257aff89f53dd44def99f354b714df11156ac49a08b29e24295e5586b7e14088967e818d1a1f33f086d33813d7d44444afbabdcf0cc7301b0fd407db39dbfc7a1d3eee7a001513933cdde74541b16c75c2ed4574dcd2db1b4687bb0c7c831cca994e541660db7b3ffcfc9b5a740c05108c8bc421af6a080f35a97e57d133ef1cbeaa55e71d4c71e7ea99aa64764c8e5ff03afd919e429438cbf2d629df13e3b932f661b074f6a8a5fb1d43d9255962ea7f533250aeec9358736c49e978ad555d9b13ebf83bd5ef34f09265841bd1f35a40edfae90203010001\n",
      "Signature: 4124433a11e831a9883b2ded62ed9f65db25f88ebc81f26788b4a19d1486d13ed45ecbe95bc700fd86dfd93e44478dcf04a0282dbb86b9cb69c7caa57a13f0f06e878f25f630ecdab7567ec16ba50ee2d0c7625ad0f4fe33a8a768782813946bd2374523d7a60c2976636bab3e19532a334fbf585505b70b53a6ace9c68a529b1bba326c8d3c9326435457e038f7a3b3113d59c8cac90238b43367e4b0e146d592585af4cbc3654218c6f4d9d5fe96fca0b64370c876c2031083ac61f86b29f00758e98a4751775fac44e82dfe953b1acc665206f5b760fadec92394759bef60a9b70b78030f2d4cf9010318bbed899eba79990e5caf1224971a2251a72b3b02\n",
      "Timestamp: 1738830598419\n",
      "Hash: bdf7c1cee7294ba9d9dd720469ce254d464846b0e80a46d40f4c83ba0a9cd05f\n",
      "Is legit: True\n",
      "\n",
      "\n",
      "\n"
     ]
    }
   ],
   "source": [
    "from wallet import Wallet\n",
    "from block import Block\n",
    "from blockchain import Blockchain\n",
    "\n",
    "# Two actors\n",
    "\n",
    "walletAlice = Wallet()\n",
    "walletBob = Wallet()\n",
    "\n",
    "def reset_staking_blockchain():\n",
    "\n",
    "    global walletAlice, walletBob, blockchainAssignment3, stakingAlice1, stakingBob1, block1\n",
    "    \n",
    "    # Our blockchain\n",
    "    \n",
    "    blockchainAssignment3 = Blockchain()\n",
    "    \n",
    "    # Alice wants to stake 4\n",
    "    \n",
    "    stakingAlice1 = StakingOperation(walletAlice.publicKey, 4)\n",
    "    walletAlice.sign(stakingAlice1)\n",
    "    \n",
    "    # Bob wants to stake 2.5\n",
    "    \n",
    "    stakingBob1 = StakingOperation(walletBob.publicKey, 2.5)\n",
    "    walletBob.sign(stakingBob1)\n",
    "    \n",
    "    # To ensure both staking operations are inside the blockchain, Alice creates a block, put them in it and adds the block to the blockchain.\n",
    "    \n",
    "    block1 = Block(walletAlice.publicKey, 1, blockchainAssignment3.get_latest_block().hash(), [stakingAlice1, stakingBob1])\n",
    "    walletAlice.sign(block1)\n",
    "    blockchainAssignment3.blockList.append(block1)\n",
    "\n",
    "reset_staking_blockchain()\n",
    "\n",
    "# If you did bonus 1 of Assignment 2 (or if you downloaded the solution), take a peek at your blockchain :\n",
    "\n",
    "if not hasattr(blockchainAssignment3, 'display'):\n",
    "    raise StopExecution\n",
    "    \n",
    "blockchainAssignment3.display()"
   ]
  },
  {
   "cell_type": "markdown",
   "id": "6db263c8",
   "metadata": {},
   "source": [
    "It would be interesting to code a function that allows us to determine the total staked tokens for each actor. This will be particularly useful for the consensus algorithm.\n",
    "\n",
    "The idea is simple: we will traverse the entire blockchain and calculate, using the staking operations found within it, the total staked tokens for everyone.\n",
    "\n",
    "Since this function only deals with staking operations, we will write it directly in the `StakingOperation` class.\n",
    "\n",
    "***\n",
    "\n",
    "You will need to write a static function. In Python, you can do this by removing `self` from the function's arguments and adding the `@staticmethod` attribute. Here's an example:\n",
    "\n",
    "```python\n",
    "class MyClass:\n",
    "\n",
    "    @staticmethod\n",
    "    def my_static_function(arguments):\n",
    "        pass\n",
    "```\n",
    "\n",
    "To use it, simply call `MyClass.my_static_function(arguments)`.\n",
    "\n",
    "***\n",
    "\n",
    "<font color=\"7777aa\">In your `StakingOperation` class, write the static function `build_staking_accounts(blockList)` that takes as input **any list of blocks** (not a blockchain) and returns a Python dictionary. The keys of this dictionary should be the public keys of the people who have staked tokens in this list of blocks, and the values should be the amount of tokens staked by these individuals.</font>\n",
    "\n",
    "> `build_staking_accounts(blockList)` takes a list of blocks as a parameter rather than a blockchain because it's a function that can be used on a subset of blocks from any blockchain. In general, since this function only deals with a list of blocks, there's no need to complicate the input parameter.\n",
    "\n",
    "> <details><summary><strong>Click here to show help 1</strong></summary>You can use the built-in <code>isinstance(object, class)</code> function as demonstrated in the cell below.</details>\n",
    "\n",
    "> <details><summary><strong>Click here to show help 2</strong></summary>Create an empty dictionary, which will be your output dictionary. Then, iterate through each block in the list and each certificate in those blocks. For each certificate found, check if it's indeed a <code>StakingOperation</code>, and if so, add the amount to your output dictionary.</details>"
   ]
  },
  {
   "cell_type": "code",
   "execution_count": 8,
   "id": "5159254d",
   "metadata": {
    "ExecuteTime": {
     "end_time": "2025-01-28T11:32:03.085441Z",
     "start_time": "2025-01-28T11:32:02.843447Z"
    }
   },
   "outputs": [
    {
     "data": {
      "text/plain": [
       "'Success!'"
      ]
     },
     "execution_count": 8,
     "metadata": {},
     "output_type": "execute_result"
    }
   ],
   "source": [
    "from certificate import Certificate\n",
    "\n",
    "reset_staking_blockchain()\n",
    "\n",
    "# We'll add a second block containing a staking operation as well as an arbitrary certificate\n",
    "\n",
    "if len(blockchainAssignment3.blockList) == 2:\n",
    "    \n",
    "    # Arbitrary certificate of Bob\n",
    "    \n",
    "    certificateBob1 = Certificate(walletBob.publicKey)\n",
    "    walletBob.sign(certificateBob1)\n",
    "    \n",
    "    # Alice eventually decides to get 1 token back\n",
    "    \n",
    "    stakingAlice2 = StakingOperation(walletAlice.publicKey, -1)\n",
    "    walletAlice.sign(stakingAlice2)\n",
    "    \n",
    "    # New block to engrave those certificates\n",
    "    \n",
    "    block2 = Block(walletBob.publicKey, 2, blockchainAssignment3.get_latest_block().hash(), [certificateBob1, stakingAlice2])\n",
    "    walletBob.sign(block2)\n",
    "    blockchainAssignment3.blockList.append(block2)\n",
    "    \n",
    "# Let's calculate the stakings\n",
    "accountsAfterBlock2 = StakingOperation.build_staking_accounts(blockchainAssignment3.blockList)\n",
    "\n",
    "assert isinstance(accountsAfterBlock2, dict)              # I asked for a dictionary\n",
    "assert len(accountsAfterBlock2) == 2                      # 2 actors have staked\n",
    "assert accountsAfterBlock2[walletAlice.publicKey] == 3    # Alice staked 3\n",
    "assert accountsAfterBlock2[walletBob.publicKey] == 2.5    # Bob staked 2.5\n",
    "\n",
    "\"Success!\""
   ]
  },
  {
   "cell_type": "markdown",
   "id": "bb2700a3",
   "metadata": {},
   "source": [
    "### Proof-of-Stake\n",
    "\n",
    "Remember what we learned in class: in a blockchain, different actors agree on the identity of the entity that has the right to forge the next block to be added. This is called the **consensus algorithm**.\n",
    "\n",
    "Now it's time to implement the ***Proof-of-Stake*** consensus algorithm for our blockchain.\n",
    "\n",
    "The idea is quite simple, as we discussed in class; it's a system similar to a lottery or a raffle:\n",
    "\n",
    "* First, we calculate the staking accounts for all actors who have staked (by traversing the blockchain up to this point).\n",
    "* For each actor who has staked, we will assign them as many raffle tickets as they have staked tokens (rounded down to the nearest whole number because we can have fractional tokens...).\n",
    "* Next, we need to decide who has won. To do this, we hash the last block of the blockchain, which we then call `forgeHash`.\n",
    "* Finally, we hash all the raffle tickets. The ticket with the hash closest in numerical distance to `forgeHash` is declared the winner, and its owner gains the right to forge the next block (to get the numerical distance, we convert the hashes to `int`).\n",
    "\n",
    "This algorithm works because, since the blockchain is the same for all network actors, each one can perform these calculations on their own and arrive at the same winner as the others (as explained at the beginning of this notebook).\n",
    "\n",
    "Let's start by modeling a raffle ticket.\n",
    "\n",
    "***\n",
    "\n",
    "<font color=\"7777aa\">In your \"scripts\" folder, create a file called `ticket.py` where you will implement the `RaffleTicket` class. This class should have three public fields: its owner `ownerPublicKey`, its ticket number `number`, and the hash of the raffle it participates in `raffleHash`.</font>"
   ]
  },
  {
   "cell_type": "code",
   "execution_count": 9,
   "id": "b6f358dc",
   "metadata": {
    "ExecuteTime": {
     "end_time": "2025-01-28T11:32:04.053500Z",
     "start_time": "2025-01-28T11:32:04.032787Z"
    }
   },
   "outputs": [
    {
     "data": {
      "text/plain": [
       "'Success!'"
      ]
     },
     "execution_count": 9,
     "metadata": {},
     "output_type": "execute_result"
    }
   ],
   "source": [
    "from ticket import RaffleTicket\n",
    "\n",
    "dummyTicket = RaffleTicket(walletAlice.publicKey, 1, blockchainAssignment3.get_latest_block().hash())\n",
    "\n",
    "assert dummyTicket.ownerPublicKey == walletAlice.publicKey                 # Owner is Alice\n",
    "assert dummyTicket.number == 1                                             # Ticket number is 1\n",
    "assert dummyTicket.raffleHash == blockchainAssignment3.get_latest_block().hash()   # Raffle hash is the hash of latest block\n",
    "\n",
    "'Success!'"
   ]
  },
  {
   "cell_type": "markdown",
   "id": "0467598a",
   "metadata": {},
   "source": [
    "<font color=\"7777aa\">Add a `hash()` function to this class that transforms the ticket into a hash **in hexadecimal form** (it's better to keep our standard format and convert it to an integer later).\n",
    "\n",
    "**Attention! Remember that your hash must be identical if you have exactly the same data in the ticket...**</font>\n",
    "\n",
    "> <details><summary><strong>Click here to show help 1</strong></summary>You have already done this process in Assignment 1, the pattern remains the same. If your <code>build_payload()</code> function returns a dictionary, for example, don't forget to sort the keys in alphabetical order before hashing (<code>dumps(payload, sort_keys=True)</code>).</details>\n",
    "\n",
    "> <details><summary><strong>Click here to show help 2</strong></summary>Convert the ticket into a string and then use the <code>cryptography.hash_string(string)</code> function.</details>\n",
    "\n",
    "> <details><summary><strong>Click here to show help 3</strong></summary>To transform the ticket into a string, take inspiration from the payload: extract the values of the important fields (here <code>ownerPublicKey</code>, <code>number</code>, and <code>raffleHash</code> are relevant), and apply the same process you used for Assignment 2.</details>"
   ]
  },
  {
   "cell_type": "code",
   "execution_count": 10,
   "id": "cc18e875",
   "metadata": {
    "ExecuteTime": {
     "end_time": "2025-01-28T11:32:04.958330Z",
     "start_time": "2025-01-28T11:32:04.939472Z"
    }
   },
   "outputs": [
    {
     "data": {
      "text/plain": [
       "'32edf7f094cbf8b8f30b75129cd937a0047623f0398e998b312fdbe5de67a19c'"
      ]
     },
     "execution_count": 10,
     "metadata": {},
     "output_type": "execute_result"
    }
   ],
   "source": [
    "dummyTicket.hash()"
   ]
  },
  {
   "cell_type": "markdown",
   "id": "a12ce9ba",
   "metadata": {},
   "source": [
    "Now that we are able to distribute raffle tickets to our stakers, we can implement the Proof-of-Stake algorithm.\n",
    "\n",
    "***\n",
    "\n",
    "<font color=\"7777aa\">Create a file called `proof_of_stake.py` (still in the \"scripts\" folder). Since many consensus algorithms exist, and to stay true to the fundamental principles of Object-Oriented Programming, you should create a `ProofOfStake` class that we will use as a consensus object at the `Node` level (Assignment 4).\n",
    "\n",
    "**What should be in its constructor?**\n",
    "\n",
    "This question is very interesting. When we create the blockchain, it only contains the genesis block. So, since no one has staked tokens yet, and staking must be done for a block to be considered, how can we forge block number 1? No raffle tickets can be distributed...\n",
    "\n",
    "In fact, an effective solution would be to have a **default forger**, someone capable of forging if no one has staked. Therefore, in the constructor of `ProofOfStake`, we need a default forger `defaultForgerPublicKey`.</font>"
   ]
  },
  {
   "cell_type": "code",
   "execution_count": 11,
   "id": "e44ea5ce",
   "metadata": {
    "ExecuteTime": {
     "end_time": "2025-01-28T11:32:05.867618Z",
     "start_time": "2025-01-28T11:32:05.846029Z"
    }
   },
   "outputs": [
    {
     "data": {
      "text/plain": [
       "'Success!'"
      ]
     },
     "execution_count": 11,
     "metadata": {},
     "output_type": "execute_result"
    }
   ],
   "source": [
    "from proof_of_stake import ProofOfStake\n",
    "\n",
    "dummyProofOfStake = ProofOfStake(walletAlice.publicKey)\n",
    "\n",
    "assert dummyProofOfStake.defaultForgerPublicKey == walletAlice.publicKey      # Default forger is Alice\n",
    "\n",
    "'Success!'"
   ]
  },
  {
   "cell_type": "markdown",
   "id": "72d434ef",
   "metadata": {},
   "source": [
    "Before we move on to coding the algorithm described with the raffle analogy, let's take the time to implement a small utility function that calculates the distance between two hashes **in their hexadecimal form**.\n",
    "\n",
    "***\n",
    "\n",
    "<font color=\"7777aa\">In your `ProofOfStake` class, implement the `hash_distance(hash1, hash2)` function that returns, as an integer, the integer distance between the two hashes `hash1` and `hash2` **in their hexadecimal form**.\n",
    "\n",
    "Your function does not need to be static. Keep it simple.</font>\n",
    "\n",
    "> <details><summary><strong>Click here to show help 1</strong></summary>To convert a hexadecimal <code>string</code> to an <code>int</code>, use the <code>int(string, 16)</code> function.</details>\n",
    "\n",
    "> <details><summary><strong>Click here to show help 2</strong></summary>The integer distance between two integers <code>a</code> and <code>b</code> is calculated with <code>abs(a - b)</code>.</details>"
   ]
  },
  {
   "cell_type": "code",
   "execution_count": 12,
   "id": "715ddb9d",
   "metadata": {
    "ExecuteTime": {
     "end_time": "2025-01-28T11:32:06.945442Z",
     "start_time": "2025-01-28T11:32:06.926631Z"
    }
   },
   "outputs": [
    {
     "data": {
      "text/plain": [
       "'Success!'"
      ]
     },
     "execution_count": 12,
     "metadata": {},
     "output_type": "execute_result"
    }
   ],
   "source": [
    "hash1 = '67c5ba7'\n",
    "hash2 = 'ff837ea'\n",
    "\n",
    "assert dummyProofOfStake.hash_distance(hash1, hash2) == 159112259\n",
    "\n",
    "\"Success!\""
   ]
  },
  {
   "cell_type": "markdown",
   "id": "623594fc",
   "metadata": {},
   "source": [
    "Remember what we learned in class: **a consensus algorithm is a function that takes as input a list of blocks and the next block to be added to this list, and checks if this block has a valid forger.** This is exactly what we are going to do here.\n",
    "\n",
    "In Proof-of-Stake, **the next block has a valid forger if that forger has won the raffle.** To create the consensus function, we first need to create a function that tells us who wins the raffle.\n",
    "\n",
    "***\n",
    "\n",
    "<font color=\"7777aa\">Now, implement the `get_next_forger_public_key(blockList)` function, which, given any list of blocks, provides the public key of the forger of the next block to be added to this list (and therefore the raffle winner).\n",
    "\n",
    "Please read the algorithm description at the beginning of the **Proof-of-Stake** section carefully.\n",
    "\n",
    "Don't forget to consider the default forger.</font>\n",
    "\n",
    "> `get_next_forger_public_key(blockList)` also takes a list of blocks as a parameter, for the same reasons mentioned earlier for `build_stake_accounts(blockList)`.\n",
    "\n",
    "> <details><summary><strong>Click here to show help 1</strong></summary>To round a number down to the nearest whole number, use the built-in function <code>int(object)</code>.</details>\n",
    "\n",
    "> <details><summary><strong>Click here to show help 2</strong></summary>This is simply an algorithm that calculates the minimum distance between all the tickets and the hash of the last block in the blockchain.</details>\n",
    "\n",
    "> <details><summary><strong>Click here to show help 3</strong></summary>Start by using the <code>build_staking_accounts(blockchain)</code> function, and then allocate the tickets based on what it provides. This means that for each user in this dictionary, you need to create as many tickets as the tokens they have staked. Then, find the closest ticket using the <code>hash_distance(hash1, hash2)</code> function, which will give you the winner.</details>\n",
    "\n",
    "***\n",
    "\n",
    "**The following 2 cells must execute without errors.**"
   ]
  },
  {
   "cell_type": "code",
   "execution_count": 13,
   "id": "ff6bfec0",
   "metadata": {
    "ExecuteTime": {
     "end_time": "2025-01-28T11:32:08.235341Z",
     "start_time": "2025-01-28T11:32:08.212160Z"
    }
   },
   "outputs": [
    {
     "data": {
      "text/plain": [
       "'Success!'"
      ]
     },
     "execution_count": 13,
     "metadata": {},
     "output_type": "execute_result"
    }
   ],
   "source": [
    "# Verifying default forger\n",
    "\n",
    "emptyBlockchain = Blockchain()\n",
    "\n",
    "assert dummyProofOfStake.get_next_forger_public_key(emptyBlockchain.blockList) == walletAlice.publicKey\n",
    "\n",
    "\"Success!\""
   ]
  },
  {
   "cell_type": "code",
   "execution_count": 14,
   "id": "0a679fda",
   "metadata": {
    "ExecuteTime": {
     "end_time": "2025-01-28T11:32:08.784427Z",
     "start_time": "2025-01-28T11:32:08.764130Z"
    }
   },
   "outputs": [
    {
     "name": "stdout",
     "output_type": "stream",
     "text": [
      "Alice is the next forger\n"
     ]
    }
   ],
   "source": [
    "# Is next forger Alice or Bob ?\n",
    "\n",
    "nextForger = dummyProofOfStake.get_next_forger_public_key(blockchainAssignment3.blockList)\n",
    "\n",
    "if nextForger == walletAlice.publicKey:\n",
    "    print('Alice is the next forger')\n",
    "else:\n",
    "    print('Bob is the next forger')"
   ]
  },
  {
   "cell_type": "markdown",
   "id": "214421be",
   "metadata": {},
   "source": [
    "<font color=\"7777aa\">Now, create the `is_next_block_forger_legit(blockList, nextBlock)` function that returns `True` if the issuer of the next block `nextBlock` is indeed the winner of the raffle of `blockList`, and `False` otherwise.</font>\n",
    "\n",
    "> <details><summary><strong>Click here to show help</strong></summary>Use the function you just coded.</details>"
   ]
  },
  {
   "cell_type": "code",
   "execution_count": 15,
   "id": "195c9333",
   "metadata": {
    "ExecuteTime": {
     "end_time": "2025-01-28T11:32:10.213392Z",
     "start_time": "2025-01-28T11:32:10.194350Z"
    }
   },
   "outputs": [
    {
     "data": {
      "text/plain": [
       "'Success!'"
      ]
     },
     "execution_count": 15,
     "metadata": {},
     "output_type": "execute_result"
    }
   ],
   "source": [
    "nextBlock = Block(nextForger, len(blockchainAssignment3.blockList), blockchainAssignment3.get_latest_block().hash(), [])\n",
    "\n",
    "assert dummyProofOfStake.is_next_block_forger_legit(blockchainAssignment3.blockList, nextBlock)\n",
    "\n",
    "\"Success!\""
   ]
  },
  {
   "cell_type": "markdown",
   "id": "238ad6da",
   "metadata": {},
   "source": [
    "So now we have a tool that allows us to know if a new block to be added to our blockchain has been forged by the only person entitled to forge the next block (simply use the `is_next_block_forger_legit(blockList, nextBlock)` function to see if this block was forged by the right person).\n",
    "\n",
    "As capable as we are of preventing new blocks from being forged by the wrong people, if someone sends us a complete blockchain, we cannot yet attest to its validity.\n",
    "\n",
    "Let's say a fraudulent actor on the network decides to completely change the blockchain by becoming the owner of all its blocks. Then they send it to you because you've just joined the network and need to retrieve all the blockchain data to be up to date. From your point of view, since they have signed all the blocks, their blockchain is legal. However, this is not the case at all because they are not entitled to forge all the blocks (or the probability is very low).\n",
    "\n",
    "Remember in Assignment 2, we wrote the `is_legit()` function that validates a blockchain. It's time to also take into account the forger's identity in the validation.\n",
    "\n",
    "Since several consensus algorithms exist, if you change them tomorrow (for example, switch to Proof-of-Work), your code must adapt. For this reason, we will implement an `is_blockchain_legit(blockchain)` function directly in the `ProofOfStake` class.\n",
    "\n",
    "***\n",
    "\n",
    "<font color=\"7777aa\">In the `ProofOfStake` class, implement the `is_blockchain_legit(blockchain)` function. This function should check, for each block in the blockchain, if its forger is indeed the expected forger given the previous block.\n",
    "\n",
    "If any single block has a forger who did not win the raffle, this function should return `False`, otherwise it returns `True`.</font>\n",
    "\n",
    "> <details><summary><strong>Click here to show help 1</strong></summary>Be careful with block index 0 (the first block)!!! Its forger is the black hole.</details>\n",
    "\n",
    "> <details><summary><strong>Click here to show help 2</strong></summary>Iterate through the list of blocks <code>blockchain.blockList</code> in order, and for each block, verify that it was forged by the right person given the previous blocks (what do you put in <code>blockList</code> and <code>nextBlock</code> in the <code>is_next_block_forger_legit(blockList, nextBlock)</code> function?).</details>"
   ]
  },
  {
   "cell_type": "code",
   "execution_count": 16,
   "id": "5cf04d9c",
   "metadata": {
    "ExecuteTime": {
     "end_time": "2025-01-28T11:32:11.484962Z",
     "start_time": "2025-01-28T11:32:11.372188Z"
    }
   },
   "outputs": [
    {
     "data": {
      "text/plain": [
       "'Assignment completed! Congratz!'"
      ]
     },
     "execution_count": 16,
     "metadata": {},
     "output_type": "execute_result"
    }
   ],
   "source": [
    "block2 = blockchainAssignment3.blockList[2]\n",
    "block2LegitForger = dummyProofOfStake.get_next_forger_public_key(blockchainAssignment3.blockList[:-1])\n",
    "block2.issuerPublicKey = block2LegitForger\n",
    "\n",
    "if block2LegitForger == walletAlice.publicKey:\n",
    "    walletAlice.sign(block2)\n",
    "else:\n",
    "    walletBob.sign(block2)\n",
    "\n",
    "assert dummyProofOfStake.is_blockchain_legit(blockchainAssignment3)\n",
    "\n",
    "if block2LegitForger == walletAlice.publicKey:\n",
    "    block2.issuerPublicKey = walletBob.publicKey\n",
    "    walletBob.sign(block2)\n",
    "else:\n",
    "    block2.issuerPublicKey = walletAlice.publicKey\n",
    "    walletAlice.sign(block2)\n",
    "\n",
    "assert not dummyProofOfStake.is_blockchain_legit(blockchainAssignment3)\n",
    "\n",
    "\"Assignment completed! Congratz!\""
   ]
  },
  {
   "cell_type": "markdown",
   "id": "f3a3ed91",
   "metadata": {},
   "source": [
    "### Bonus 1 - Monte Carlo (Episode 2)\n",
    "\n",
    "In our current configuration, Alice has staked 3 tokens, and Bob has staked 2.5 tokens. For our consensus algorithm, this means that Alice has 60% of the decision-making power (3 tickets out of 5), and Bob has 40% (2 tickets out of 5).\n",
    "\n",
    "Let's verify if this is indeed the case with your implementation. We will use the same method as in Assignment 1: the Monte Carlo method. Let's simulate 10,000 raffles and observe the probabilities of Alice and Bob winning.\n",
    "\n",
    "***\n",
    "\n",
    "<font color=\"7777aa\">Complete the following cell to simulate 10,000 raffles. Ensure that the hash of the last block in the `blockchainAssignment3` blockchain changes with each simulation (to vary the raffles).</font>"
   ]
  },
  {
   "cell_type": "code",
   "execution_count": 17,
   "id": "b0cffb1d",
   "metadata": {
    "ExecuteTime": {
     "end_time": "2025-01-28T11:34:39.420244Z",
     "start_time": "2025-01-28T11:34:38.389259Z"
    }
   },
   "outputs": [
    {
     "name": "stdout",
     "output_type": "stream",
     "text": [
      "Expected Alice: 0.6666666666666666\n",
      "Expected Bob: 0.3333333333333333\n",
      "Alice has a 61% chance to forge\n",
      "Bob has a 39% chance to forge\n"
     ]
    }
   ],
   "source": [
    "import random\n",
    "\n",
    "\n",
    "nSimulations = 100\n",
    "\n",
    "winsAlice = 0\n",
    "winsBob = 0\n",
    "\n",
    "reset_staking_blockchain()\n",
    "\n",
    "stackingAccounts = StakingOperation.build_staking_accounts(blockchainAssignment3.blockList)\n",
    "# The espected porcentage of wins\n",
    "aliceStaking = int( stackingAccounts[walletAlice.publicKey])\n",
    "bobStaking = int(stackingAccounts[walletBob.publicKey])\n",
    "expectedAlice = aliceStaking / (aliceStaking + bobStaking)\n",
    "expectedBob = bobStaking / (aliceStaking + bobStaking)\n",
    "print(f'Expected Alice: {expectedAlice}')\n",
    "print(f'Expected Bob: {expectedBob}')\n",
    "\n",
    "for _ in range(nSimulations):\n",
    "    \n",
    "    nextForger = dummyProofOfStake.get_next_forger_public_key(blockchainAssignment3.blockList)\n",
    "    nonce = random.randint(0, 1000000)\n",
    "    nextBlock = Block(nextForger, len(blockchainAssignment3.blockList), blockchainAssignment3.get_latest_block().hash(), [], nonce)\n",
    "    \n",
    "    if nextForger == walletAlice.publicKey:\n",
    "        walletAlice.sign(nextBlock)\n",
    "        winsAlice += 1\n",
    "    elif nextForger == walletBob.publicKey:\n",
    "        walletBob.sign(nextBlock)\n",
    "        winsBob += 1\n",
    "    \n",
    "    blockchainAssignment3.blockList.append(nextBlock)\n",
    "    \n",
    "        \n",
    "print(f'Alice has a {int(round(winsAlice / nSimulations, 2) * 100)}% chance to forge')\n",
    "print(f'Bob has a {int(round(winsBob / nSimulations, 2) * 100)}% chance to forge')"
   ]
  },
  {
   "cell_type": "markdown",
   "id": "69d92545",
   "metadata": {},
   "source": [
    "### Bonus 2 - Proof-of-Work\n",
    "\n",
    "You've learned all about Proof-of-Work in the course. For this bonus, I'm asking you to implement the basic mechanics of this algorithm (we won't change the puzzle difficulty based on forging speed).\n",
    "\n",
    "***\n",
    "\n",
    "<font color=\"7777aa\">Add the `nonce` field to your `Block` class. This new field should be considered in all blockchain mechanisms. **Do not add it to the constructor parameters; simply initialize it to 0**.</font>"
   ]
  },
  {
   "cell_type": "code",
   "execution_count": 18,
   "id": "814097e3",
   "metadata": {
    "ExecuteTime": {
     "end_time": "2025-01-28T11:32:16.415110Z",
     "start_time": "2025-01-28T11:32:16.396178Z"
    }
   },
   "outputs": [
    {
     "data": {
      "text/plain": [
       "'Success!'"
      ]
     },
     "execution_count": 18,
     "metadata": {},
     "output_type": "execute_result"
    }
   ],
   "source": [
    "block = Block(walletAlice.publicKey, 0, 'void', [])\n",
    "\n",
    "assert 'nonce' in block.__dict__\n",
    "\n",
    "\"Success!\""
   ]
  },
  {
   "cell_type": "markdown",
   "id": "06aa3a51",
   "metadata": {},
   "source": [
    "Let's start by providing ourselves with the means to solve the puzzle of this consensus algorithm. Just like we designed the `ProofOfStake` class, we will create the `ProofOfWork` class.\n",
    "\n",
    "***\n",
    "\n",
    "<font color=\"7777aa\">Create the `ProofOfWork` class in a file named `proof_of_work.py`. Its constructor takes an integer `difficulty` as a parameter, which represents the number of leading zeros required to solve the puzzle.</font>"
   ]
  },
  {
   "cell_type": "code",
   "execution_count": 21,
   "id": "3f3db7b9",
   "metadata": {
    "ExecuteTime": {
     "end_time": "2025-01-28T11:32:17.331443Z",
     "start_time": "2025-01-28T11:32:17.310084Z"
    }
   },
   "outputs": [
    {
     "data": {
      "text/plain": [
       "'Success!'"
      ]
     },
     "execution_count": 21,
     "metadata": {},
     "output_type": "execute_result"
    }
   ],
   "source": [
    "from proof_of_work import ProofOfWork\n",
    "\n",
    "dummyProofOfWork = ProofOfWork(3)\n",
    "\n",
    "assert dummyProofOfWork.difficulty == 3\n",
    "\n",
    "\"Success!\""
   ]
  },
  {
   "cell_type": "markdown",
   "id": "64a3fe9c",
   "metadata": {},
   "source": [
    "<font color=\"7777aa\">Add the `solve_puzzle(block)` function to it, which finds a nonce sufficient for the hash of the `block` to begin with at least as many zeros as indicated by `difficulty`. **This function then applies this nonce to the block**.</font>"
   ]
  },
  {
   "cell_type": "code",
   "execution_count": 22,
   "id": "3cd14a51",
   "metadata": {
    "ExecuteTime": {
     "end_time": "2025-01-28T11:32:18.670713Z",
     "start_time": "2025-01-28T11:32:18.642349Z"
    }
   },
   "outputs": [
    {
     "name": "stdout",
     "output_type": "stream",
     "text": [
      "Try 5119 - 0000cc6865555a9cf599b39174e420b773b4f46d8c0084efb76335efea726b1e\n"
     ]
    },
    {
     "data": {
      "text/plain": [
       "'Success for a nonce of 4946244 (hash = 0000cc6865555a9cf599b39174e420b773b4f46d8c0084efb76335efea726b1e)'"
      ]
     },
     "execution_count": 22,
     "metadata": {},
     "output_type": "execute_result"
    }
   ],
   "source": [
    "dummyProofOfWork.solve_puzzle(block)\n",
    "\n",
    "assert block.hash()[:dummyProofOfWork.difficulty] == '0' * dummyProofOfWork.difficulty\n",
    "\n",
    "f\"Success for a nonce of {block.nonce} (hash = {block.hash()})\""
   ]
  },
  {
   "cell_type": "markdown",
   "id": "045e6d09",
   "metadata": {},
   "source": [
    "<font color=\"7777aa\">To maintain consistency with the interface of the `ProofOfStake` class, this class should have two functions: `is_next_block_forger_legit(blockList, nextBlock)` and `is_blockchain_legit(blockchain)`. Implement them.</font>"
   ]
  },
  {
   "cell_type": "code",
   "execution_count": 68,
   "id": "8b634f8f",
   "metadata": {
    "ExecuteTime": {
     "end_time": "2025-01-28T11:32:23.293837Z",
     "start_time": "2025-01-28T11:32:23.148013Z"
    }
   },
   "outputs": [
    {
     "name": "stdout",
     "output_type": "stream",
     "text": [
      "Try 7000 - 721ed7bac8e8a2507f784b3bc4a4846b2f6e2eb26b4973b1726889cdd097ee08\r"
     ]
    },
    {
     "data": {
      "text/plain": [
       "'Your PoW implementation seems to work. Congratz!'"
      ]
     },
     "execution_count": 68,
     "metadata": {},
     "output_type": "execute_result"
    }
   ],
   "source": [
    "powBlockchain = Blockchain()\n",
    "\n",
    "powBlock1 = Block(walletAlice.publicKey, 1, powBlockchain.get_latest_block().hash(), [])\n",
    "walletAlice.sign(powBlock1)\n",
    "dummyProofOfWork.solve_puzzle(powBlock1)\n",
    "powBlockchain.blockList.append(powBlock1)\n",
    "\n",
    "powBlock2 = Block(walletBob.publicKey, 2, powBlockchain.get_latest_block().hash(), [])\n",
    "walletBob.sign(powBlock2)\n",
    "dummyProofOfWork.solve_puzzle(powBlock2)\n",
    "\n",
    "assert dummyProofOfWork.is_next_block_forger_legit(powBlockchain.blockList, powBlock2)\n",
    "\n",
    "powBlockchain.blockList.append(powBlock2)\n",
    "\n",
    "assert dummyProofOfWork.is_blockchain_legit(powBlockchain)\n",
    "\n",
    "powBlock1.nonce -= 1\n",
    "\n",
    "assert not dummyProofOfWork.is_blockchain_legit(powBlockchain)\n",
    "\n",
    "\"Your PoW implementation seems to work. Congratz!\""
   ]
  },
  {
   "cell_type": "code",
   "execution_count": null,
   "id": "6bd60547",
   "metadata": {},
   "outputs": [],
   "source": []
  }
 ],
 "metadata": {
  "kernelspec": {
   "display_name": "venv",
   "language": "python",
   "name": "python3"
  },
  "language_info": {
   "codemirror_mode": {
    "name": "ipython",
    "version": 3
   },
   "file_extension": ".py",
   "mimetype": "text/x-python",
   "name": "python",
   "nbconvert_exporter": "python",
   "pygments_lexer": "ipython3",
   "version": "3.13.1"
  }
 },
 "nbformat": 4,
 "nbformat_minor": 5
}
