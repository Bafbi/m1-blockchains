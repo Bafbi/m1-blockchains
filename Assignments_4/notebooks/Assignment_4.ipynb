{
 "cells": [
  {
   "cell_type": "markdown",
   "id": "d29f683c",
   "metadata": {},
   "source": [
    "# Assignment 4\n",
    "\n",
    "***\n",
    "\n",
    "*Peer-to-peer*\n",
    "\n",
    "***\n",
    "\n",
    "The last major part of your blockchain in Python boils down to the **management of communication between the different actors in the network** of this blockchain. Now that you have defined all the rules governing the stability and security of your blockchain on your local machine, you still need to manage the sending and receiving of information with others on the network, who will probably try to cheat you with blocks that turn the system to their advantage.\n",
    "\n",
    "Remember the concepts discussed in class: a **node** is an entity operating on the communication network and interacting with other nodes. For our blockchain, a node ensures the management of the blockchain locally and shares it on the network, while providing easy access to any user who connects to it. Its tasks include:\n",
    "* Keeping a copy of the blockchain\n",
    "* Allowing a \"human\" user to consult or feed this local blockchain with new information\n",
    "* Sharing the new information received with other nodes on the network\n",
    "* Filtering information from other nodes to destroy what is not legal\n",
    "\n",
    "Don't worry, you don't have to implement the purely *networking* part of peer-to-peer. In this assignment, you will work with a class that **simulates a peer-to-peer network**. You will only need to implement the four behaviors described above."
   ]
  },
  {
   "cell_type": "code",
   "execution_count": 121,
   "id": "a1352751",
   "metadata": {
    "ExecuteTime": {
     "end_time": "2025-02-03T14:38:39.510522Z",
     "start_time": "2025-02-03T14:38:39.484686Z"
    }
   },
   "outputs": [
    {
     "name": "stdout",
     "output_type": "stream",
     "text": [
      "The autoreload extension is already loaded. To reload it, use:\n",
      "  %reload_ext autoreload\n"
     ]
    }
   ],
   "source": [
    "# Mandatory cell, please execute it\n",
    "\n",
    "%load_ext autoreload\n",
    "%autoreload 2\n",
    "\n",
    "from sys import path\n",
    "\n",
    "path.append('../scripts')"
   ]
  },
  {
   "cell_type": "markdown",
   "id": "53c04d21",
   "metadata": {},
   "source": [
    "### Node\n",
    "\n",
    "The term **node** is not specific to blockchain. Generally, in any communication network, a \"**node**\" describes an entity that **sends messages to other nodes** and **receives messages from other nodes**.\n",
    "\n",
    "With this Assignment 4, you have downloaded a new folder \"**scripts**\" which contains a folder \"**network**\". You must place this \"network\" folder in the same location as your \"helpers\" folder. Your folder architecture should be as follows:\n",
    "\n",
    "* SomeFolder\n",
    "    * scripts\n",
    "        * helpers\n",
    "            * ...\n",
    "        * network\n",
    "            * \\_\\_init\\_\\_.py\n",
    "            * dummy_node.py\n",
    "            * node_base.py\n",
    "        * Your Python scripts...\n",
    "    * notebooks\n",
    "        * **This notebook**\n",
    "    * ...\n",
    "\n",
    "This folder contains a `Node` class that simulates a network node. You can access it by writing `from network import Node`, and then making your class inherit from `Node`. If you do this, you must do two things in your class:\n",
    "* Call the constructor of `Node` by doing `super().__init__(nodeIdentifier)` where `nodeIdentifier` is an identifier of your choice, to distinguish the nodes in the network. Take inspiration from the example in the following cell as well as your work on the `Block` class which inherits from `Certificate` and passes to the constructor of `Certificate` the public key of the issuer.\n",
    "* Implement the function `receive_object_from_node(obj, nodeIdentifier)`, which is used to receive objects sent to you by other nodes in the network (again, see the following cell for an example).\n",
    "\n",
    "Furthermore, you can also use the Node class to send objects to other nodes in the network, via two functions:\n",
    "* `self.send_object_to_node(object, nodeIdentifier)`: Sends the Python object `object` to the node whose identifier is `nodeIdentifier`. The `receive_object_from_node` function implemented in the node with the identifier `nodeIdentifier` will then be called with the parameters `object` and `nodeIdentifier` in order.\n",
    "* `self.broadcast_object(object)`: Identical to the previous function, but this time it sends the Python object `object` to all nodes in the network (except ourselves).\n",
    "\n",
    "You can certainly rewrite them in your class that inherits from `Node`, but don't forget to call their parent class by doing `super().send_object_to_node(object, nodeIdentifier)` or `super().broadcast_object(object)`, otherwise the network behavior will be broken (see cell just after).\n",
    "\n",
    "**The following cells illustrate an example of use**."
   ]
  },
  {
   "cell_type": "code",
   "execution_count": 122,
   "id": "385e9c68",
   "metadata": {
    "ExecuteTime": {
     "end_time": "2025-02-03T14:39:12.875754Z",
     "start_time": "2025-02-03T14:39:12.854084Z"
    }
   },
   "outputs": [],
   "source": [
    "from network import Node\n",
    "\n",
    "# Creating a mini class \"ExampleNode\", which inherits the \"Node\" class.\n",
    "# You will need to do the same for your \"BlockchainNode\" class.\n",
    "# The code snippet between the two lines will probably be the same for your \"BlockchainNode\" class.\n",
    "# The rest is just here for demonstration purposes.\n",
    "\n",
    "class ExampleNode(Node):\n",
    "    \n",
    "    #———————————————————————————————————————————————————————————————————————————————————————————————————\n",
    "    \n",
    "    # We call \"Node\"'s constructor to register the node identifier\n",
    "    \n",
    "    def __init__(self, nodeIdentifier):\n",
    "        super().__init__(nodeIdentifier)\n",
    "        \n",
    "    # The following function serves as a receiver for any data sent by other node to us\n",
    "        \n",
    "    def receive_object_from_node(self, obj, senderNodeIdentifier):\n",
    "        if isinstance(obj, int):\n",
    "            self.print(f\"\\\"{senderNodeIdentifier}\\\" sent me the integer \\\"{obj}\\\"\")\n",
    "        elif isinstance(obj, str):\n",
    "            self.print(f\"\\\"{senderNodeIdentifier}\\\" sent me the string \\\"{obj}\\\"\")\n",
    "        elif isinstance(obj, bool):\n",
    "            self.print(f\"\\\"{senderNodeIdentifier}\\\" sent me the boolean \\\"{obj}\\\"\")\n",
    "        else:\n",
    "            self.print(f\"I do not know the type of data \\\"{senderNodeIdentifier}\\\" just sent me...\")\n",
    "            \n",
    "    #———————————————————————————————————————————————————————————————————————————————————————————————————\n",
    "        \n",
    "    # Small print function\n",
    "        \n",
    "    def print(self, message):\n",
    "        print(f'[{self.nodeIdentifier}] {message}')\n",
    "            \n",
    "    # Here we CAN (not mandatory) override the send_object_to_node function to include a pretty print\n",
    "            \n",
    "    def send_object_to_node(self, obj, nodeIdentifier):\n",
    "        self.print(f\"I am sending the data \\\"{obj}\\\" to \\\"{nodeIdentifier}\\\"\")\n",
    "        super().send_object_to_node(obj, nodeIdentifier)\n",
    "            \n",
    "    # ...here too\n",
    "        \n",
    "    def broadcast_object(self, obj):\n",
    "        self.print(f\"I am sending the data \\\"{obj}\\\" to EVERYBODY!\")\n",
    "        super().broadcast_object(obj)\n",
    "        \n",
    "# We reset the whole network to avoid duplicate nodes\n",
    "Node.reset_network()\n",
    "        \n",
    "# Creating 3 nodes on the network\n",
    "exampleNode1 = ExampleNode(\"Example Node 1\")\n",
    "exampleNode2 = ExampleNode(\"Example Node 2\")\n",
    "exampleNode3 = ExampleNode(\"Example Node 3\")"
   ]
  },
  {
   "cell_type": "markdown",
   "id": "144d4cba",
   "metadata": {},
   "source": [
    "```\"Example Node 1\"``` sends the integer ```42``` to ```\"Example Node 2\"```"
   ]
  },
  {
   "cell_type": "code",
   "execution_count": 123,
   "id": "23a81fd1",
   "metadata": {
    "ExecuteTime": {
     "end_time": "2025-02-03T14:39:13.959103Z",
     "start_time": "2025-02-03T14:39:13.941971Z"
    }
   },
   "outputs": [
    {
     "name": "stdout",
     "output_type": "stream",
     "text": [
      "[Example Node 1] I am sending the data \"42\" to \"Example Node 2\"\n",
      "[Example Node 2] \"Example Node 1\" sent me the integer \"42\"\n"
     ]
    }
   ],
   "source": [
    "exampleNode1.send_object_to_node(42, \"Example Node 2\")"
   ]
  },
  {
   "cell_type": "markdown",
   "id": "c05f81bc",
   "metadata": {},
   "source": [
    "```\"Example Node 2\"``` sends the string ```\"bonjour\"``` to ```\"Example Node 3\"```"
   ]
  },
  {
   "cell_type": "code",
   "execution_count": 124,
   "id": "2df91670",
   "metadata": {
    "ExecuteTime": {
     "end_time": "2025-02-03T14:39:14.713205Z",
     "start_time": "2025-02-03T14:39:14.694577Z"
    }
   },
   "outputs": [
    {
     "name": "stdout",
     "output_type": "stream",
     "text": [
      "[Example Node 2] I am sending the data \"bonjour\" to \"Example Node 3\"\n",
      "[Example Node 3] \"Example Node 2\" sent me the string \"bonjour\"\n"
     ]
    }
   ],
   "source": [
    "exampleNode2.send_object_to_node(\"bonjour\", \"Example Node 3\")"
   ]
  },
  {
   "cell_type": "markdown",
   "id": "9fba55fc",
   "metadata": {},
   "source": [
    "Notice how the type of data is recognized by the receiver, as per how we implemented it in the cell.\n",
    "\n",
    "***\n",
    "\n",
    "```\"Example Node 3\"``` sends the **decimal number** ```3.14159``` (Pi) to everybody."
   ]
  },
  {
   "cell_type": "code",
   "execution_count": 125,
   "id": "a0e1d88c",
   "metadata": {
    "ExecuteTime": {
     "end_time": "2025-02-03T14:39:16.553270Z",
     "start_time": "2025-02-03T14:39:16.536653Z"
    }
   },
   "outputs": [
    {
     "name": "stdout",
     "output_type": "stream",
     "text": [
      "[Example Node 3] I am sending the data \"3.14159\" to EVERYBODY!\n",
      "[Example Node 3] I am sending the data \"3.14159\" to \"Example Node 1\"\n",
      "[Example Node 1] I do not know the type of data \"Example Node 3\" just sent me...\n",
      "[Example Node 3] I am sending the data \"3.14159\" to \"Example Node 2\"\n",
      "[Example Node 2] I do not know the type of data \"Example Node 3\" just sent me...\n"
     ]
    }
   ],
   "source": [
    "exampleNode3.broadcast_object(3.14159)"
   ]
  },
  {
   "cell_type": "markdown",
   "id": "e135020d",
   "metadata": {},
   "source": [
    "### Blockchain Nodes\n",
    "\n",
    "In the same way that nodes exchange Python objects in our above example, nodes in the blockchain network exchange information (blocks and certificates) among themselves.\n",
    "\n",
    "In our current configuration, which you have obtained after completing Assignments 2 and 3, we are going to implement the `BlockchainNode` class. The goal of this class is to combine the blockchain and the consensus algorithm to, on the one hand, participate in the creation of blocks on the blockchain, and on the other hand, filter out bad additions and modifications to it. All this takes place on a network of nodes.\n",
    "\n",
    "Your class should inherit from `Node` to enable communication with other nodes in the network. Again, refer to the example with the `ExampleNode` class above.\n",
    "\n",
    "***\n",
    "\n",
    "<font color=\"7777aa\">In \"scripts\", create the file `node.py`, in which you must implement the `BlockchainNode` class. In its constructor, in addition to initializing the `Node` class, you need to take care of initializing each component of the node:\n",
    "* a `wallet` **(which you will pass as an argument to the constructor)** to have a digital identity on the blockchain, as well as to sign and forge blocks,\n",
    "* a consensus algorithm `consensusAlgorithm` **(which you will also pass as an argument to the constructor)**,\n",
    "* a `blockchain` that will be synchronized with that of other nodes. **Do not pass it as an argument; it must be created from scratch by the node.**</font>\n",
    "\n",
    "> <details><summary><strong>Click here for help</strong></summary>As a node identifier, you could, for example, use the public key of the node's wallet, but it's really up to you...</details>"
   ]
  },
  {
   "cell_type": "code",
   "execution_count": 126,
   "id": "49f5367a",
   "metadata": {
    "ExecuteTime": {
     "end_time": "2025-02-03T14:39:27.373737Z",
     "start_time": "2025-02-03T14:39:26.459725Z"
    }
   },
   "outputs": [
    {
     "data": {
      "text/plain": [
       "'Success!'"
      ]
     },
     "execution_count": 126,
     "metadata": {},
     "output_type": "execute_result"
    }
   ],
   "source": [
    "from wallet import Wallet\n",
    "from node import BlockchainNode\n",
    "from proof_of_stake import ProofOfStake\n",
    "\n",
    "# First node's wallet, also the default forger\n",
    "defaultForgerWallet = Wallet()\n",
    "\n",
    "# We use Proof-of-Stake (PoS) for our blockchain\n",
    "proofOfStake = ProofOfStake(defaultForgerWallet.publicKey)\n",
    "\n",
    "Node.reset_network()  # We completely reset the network\n",
    "node1 = BlockchainNode(defaultForgerWallet, proofOfStake)  # Creating first node\n",
    "\n",
    "assert node1.wallet.publicKey == proofOfStake.defaultForgerPublicKey # Node's wallet is the default forger\n",
    "assert node1.consensusAlgorithm == proofOfStake                      # It knows we are using PoS\n",
    "assert node1.nodeIdentifier                                          # It has a node identifier\n",
    "assert node1.blockchain.is_legit()                                   # Its blockchain exists and is legit\n",
    "\n",
    "\"Success!\""
   ]
  },
  {
   "cell_type": "markdown",
   "id": "35335ecf",
   "metadata": {},
   "source": [
    "For the rest of this Assignment, we'll need 4 humans that are interacting with the blockchain."
   ]
  },
  {
   "cell_type": "code",
   "execution_count": 127,
   "id": "6ed8fead",
   "metadata": {
    "ExecuteTime": {
     "end_time": "2025-02-03T14:39:31.350287Z",
     "start_time": "2025-02-03T14:39:28.374284Z"
    }
   },
   "outputs": [],
   "source": [
    "Alice = Wallet()    # Alice's wallet\n",
    "Bob = Wallet()      # Bob's wallet\n",
    "Charlie = Wallet()  # Charlie's wallet\n",
    "Delphine = Wallet() # Delphine's wallet\n",
    "\n",
    "humans = [Alice, Bob, Charlie, Delphine]  # A list with our 4 humans\n",
    "\n",
    "# We will keep track of each certificates\n",
    "certificates = {\n",
    "    Alice: [],\n",
    "    Bob: [],\n",
    "    Charlie: [],\n",
    "    Delphine: []\n",
    "}"
   ]
  },
  {
   "cell_type": "markdown",
   "id": "adfba0b8",
   "metadata": {},
   "source": [
    "### Certificate Box\n",
    "\n",
    "As we discussed in the course on consensus algorithms, certificates are only added to a block at the time of forging that block. Until then, they need to be stored somewhere.\n",
    "\n",
    "It is common practice for each node to keep a \"certificate box\" in which it places the certificates given to it (whether they come from a human or another node) and only empties it when forging a block.\n",
    "\n",
    "Remember: **certificates are always unique in the blockchain!!** Two certificates that have the same hash are strictly identical (same issuer, same creation date, and same data). Normally, issuing the same certificate twice in a blockchain is prohibited, and if this happens, it is probably a duplicate and therefore should be discarded.\n",
    "\n",
    "In Python, there is a data structure that acts a bit like a list but refuses duplicates: this is the `set()`. When you add an object `object` to a set `dummySet` using `dummySet.add(object)`, Python first checks if this object already exists in `dummySet`, and if so, adds nothing. Similarly, you can remove an object with `dummySet.remove(object)` and check if an object is present with `if object in dummySet: ...`. **Be aware though, sets are not indexed like lists, which means you cannot get the i-th element using** `dummySet[i]`**.**\n",
    "\n",
    "Thus, you can be sure that all your objects in `dummySet` are present in only **one single copy**.\n",
    "\n",
    "A set works with hashes to check the presence or absence of a Python object in itself. When you want to add, remove, or verify the presence of an object in the set, it compares the hash of the object with the hashes of the objects present in the set. This is convenient because our certificates already have a `hash()` function and an `equals(otherCertificate)` function. We just need to make Python understand that it should use these functions for the set.\n",
    "\n",
    "***\n",
    "\n",
    "For hashing any object, Python has a generic function `hash(object)` that takes an object as input and returns an **integer**. In reality, `hash(object)` is strictly equivalent to `object.__hash__()`, and therefore every Python object has a `__hash__()` function.\n",
    "\n",
    "<font color=\"7777aa\">In your `Certificate` class, rewrite the `__hash__()` function so that it uses your `hash()` function defined in Tutorial 2. **Remember that it must return an integer!! Not a hexadecimal string...**</font>\n",
    "\n",
    "> <details><summary><strong>Click here for help</strong></summary>Remember that to convert a hexadecimal string to an integer, you can use the function <code>int(hashString, 16)</code></details>"
   ]
  },
  {
   "cell_type": "code",
   "execution_count": 128,
   "id": "02b39331",
   "metadata": {
    "ExecuteTime": {
     "end_time": "2025-02-03T14:39:33.561247Z",
     "start_time": "2025-02-03T14:39:33.536055Z"
    }
   },
   "outputs": [
    {
     "data": {
      "text/plain": [
       "\"Success! Certificate's hash : 971479530933394428\""
      ]
     },
     "execution_count": 128,
     "metadata": {},
     "output_type": "execute_result"
    }
   ],
   "source": [
    "from certificate import Certificate\n",
    "\n",
    "# Two certificates created at the exact same time by the same person : they are identical\n",
    "dummyCertificate1 = Certificate(Alice.publicKey)\n",
    "dummyCertificate2 = Certificate(Alice.publicKey)\n",
    "\n",
    "# ...However, it is possible that successive calls to timestamp.now() yield timestamps 1 milliseconds apart...\n",
    "dummyCertificate2.timestamp = dummyCertificate1.timestamp\n",
    "\n",
    "assert isinstance(hash(dummyCertificate1), int)            # The hash is an integer\n",
    "assert hash(dummyCertificate1) == hash(dummyCertificate2)  # Both certificates have the same hash (using Python's hash function)\n",
    "\n",
    "f\"Success! Certificate's hash : {hash(dummyCertificate1)}\""
   ]
  },
  {
   "cell_type": "markdown",
   "id": "9b2a968d",
   "metadata": {},
   "source": [
    "Similar to the hashing process, when you perform `object1 == object2` in Python, what actually happens behind the scenes is that Python executes `object1.__eq__(object2)` (assuming neither of the objects is `None`).\n",
    "\n",
    "<font color=\"7777aa\">In your `Certificate` class, rewrite the `__eq__(otherCertificate)` function so that it uses your `equals(otherCertificate)` function defined in Tutorial 2.</font>"
   ]
  },
  {
   "cell_type": "code",
   "execution_count": 129,
   "id": "11e099f7",
   "metadata": {
    "ExecuteTime": {
     "end_time": "2025-02-03T14:39:35.637572Z",
     "start_time": "2025-02-03T14:39:35.617784Z"
    }
   },
   "outputs": [
    {
     "data": {
      "text/plain": [
       "'Success!'"
      ]
     },
     "execution_count": 129,
     "metadata": {},
     "output_type": "execute_result"
    }
   ],
   "source": [
    "assert dummyCertificate1 == dummyCertificate2  # Both certificates are different but considered identical\n",
    "\n",
    "\"Success!\""
   ]
  },
  {
   "cell_type": "markdown",
   "id": "45782d35",
   "metadata": {},
   "source": [
    "Now, we can use `set`s properly with our certificates."
   ]
  },
  {
   "cell_type": "code",
   "execution_count": 130,
   "id": "b722dd4a",
   "metadata": {
    "ExecuteTime": {
     "end_time": "2025-02-03T14:39:38.295043Z",
     "start_time": "2025-02-03T14:39:38.271381Z"
    }
   },
   "outputs": [
    {
     "data": {
      "text/plain": [
       "'Success!'"
      ]
     },
     "execution_count": 130,
     "metadata": {},
     "output_type": "execute_result"
    }
   ],
   "source": [
    "dummySet = set()\n",
    "\n",
    "# We try to add both identical certificates to the set\n",
    "dummySet.add(dummyCertificate1)\n",
    "dummySet.add(dummyCertificate2)\n",
    "\n",
    "assert len(dummySet) == 1              # The set discarded the \"duplicate\" certificate\n",
    "assert dummyCertificate1 in dummySet   # The first certificate is inside the set\n",
    "assert dummyCertificate2 in dummySet   # The second certificate too since it is \"identical\"\n",
    "\n",
    "dummySet.remove(dummyCertificate2)  # Here we remove the second certificate (which was never here in the first place since it got discarded)\n",
    "\n",
    "assert len(dummySet) == 0   # We nonetheless end up with an empty set\n",
    "\n",
    "\"Success!\""
   ]
  },
  {
   "cell_type": "markdown",
   "id": "90ad31d5",
   "metadata": {},
   "source": [
    "Returning to your certificate box, using a set will give you exactly the desired behavior: a collection of unique certificates. Therefore, you can now equip your node with a certificate box.\n",
    "\n",
    "***\n",
    "\n",
    "<font color=\"7777aa\">Add to your `BlockchainNode` constructor the initialization of the field `self.__certificateBox = set()`. The double underscores `__` make the field private, in the same way as you did with the private key of the wallet, because we do not want to give users full control over the addition and removal of certificates (especially as we do not want to see illegal certificates in there).</font>"
   ]
  },
  {
   "cell_type": "code",
   "execution_count": 131,
   "id": "9a25607b",
   "metadata": {
    "ExecuteTime": {
     "end_time": "2025-02-03T14:39:39.792029Z",
     "start_time": "2025-02-03T14:39:39.770497Z"
    }
   },
   "outputs": [
    {
     "data": {
      "text/plain": [
       "'Success!'"
      ]
     },
     "execution_count": 131,
     "metadata": {},
     "output_type": "execute_result"
    }
   ],
   "source": [
    "Node.reset_network()                                        # We reset the network\n",
    "node1 = BlockchainNode(defaultForgerWallet, proofOfStake)   # We connect 1 node on the network\n",
    "\n",
    "assert hasattr(node1, '_BlockchainNode__certificateBox')    # Sometimes Python just looks awful...\n",
    "\n",
    "\"Success!\""
   ]
  },
  {
   "cell_type": "markdown",
   "id": "dcfe84e0",
   "metadata": {},
   "source": [
    "Now that we have a way to receive certificates that other actors (humans or nodes) send us, we can start to design the behavior of the node.\n",
    "\n",
    "As we saw in class, since the blockchain is fixed at a node, the only information that circulates between nodes are certificates and blocks, so that everyone has an up-to-date version of the blockchain. We could even go further and only circulate blocks (since blocks contain certificates, killing two birds with one stone), but the risk is that some certificates never end up in the blockchain because their owner is never the forger. So, we will circulate both.\n",
    "\n",
    "But let's start with the basics: what happens when the node receives a certificate from a human?\n",
    "\n",
    "***\n",
    "\n",
    "<font color=\"7777aa\">Write in the `BlockchainNode` class a function `new_certificate(certificate)` that manages the addition of new certificates to the node. The process is as follows:\n",
    "* Verify that the certificate is honest and that it should indeed be added to our certificate box. This is the validation step. If yes, add it to the box and continue, otherwise stop here because nothing has changed.\n",
    "* If our box contains more than an arbitrary number of certificates (in this Assignment, let's take **5**), we need to check if it's our turn to forge the next block. If yes, we forge it with all the certificates in the box, add it to our blockchain, and send it to everyone.\n",
    "* Otherwise, send the certificate to everyone to make sure everyone is up to date.</font>\n",
    "\n",
    "**Remember that the blockchain hates duplicates!!! A certificate should never end up in double inside it.**\n",
    "\n",
    "> <details><summary><strong>Click here for help 1</strong></summary>The validation step involves 3 tests. For one of these tests, I recommend creating a function <code>contains_certificate(certificate)</code> in the <code>Blockchain</code> class that returns <code>True</code> if the certificate is present in the blockchain and <code>False</code> otherwise. You might reuse it later.</details>\n",
    "\n",
    "> <details><summary><strong>Click here for help 2</strong></summary>To know if you are the next forger, you have precisely coded in Assignment 3 the function <code>is_next_block_forger_legit(blockList, block)</code> in Proof-of-Stake (and PoW if you did the bonus). So, create a block as if you were going to forge it, and use this function on it: it will tell you whether you can add it to your blockchain and share it with everyone as a forger or not.</details>\n",
    "\n",
    "> <details><summary><strong>Click here for help 3</strong></summary>Forging a block means signing it, adding it to your blockchain, and then sending it to everyone. You have the duty to give it the correct index, the correct parent, and to put yourself as the issuer of this block.</details>"
   ]
  },
  {
   "cell_type": "code",
   "execution_count": 132,
   "id": "77ddaeed",
   "metadata": {
    "ExecuteTime": {
     "end_time": "2025-02-03T14:39:41.497089Z",
     "start_time": "2025-02-03T14:39:41.208083Z"
    }
   },
   "outputs": [
    {
     "name": "stdout",
     "output_type": "stream",
     "text": [
      "Issuer public key: 000000000000000000000000000000000000000000000000000000000000000000000000000000000000000000000000000000000000000000000000000000000000000000000000000000000000000000000000000000000000000000000000000000000000000000000000000000000000000000000000000000000000000000000000000000000000000000000000000000000000000000000000000000000000000000000000000000000000000000000000000000000000000000000000000000000000000000000000000000000000000000000000000000000000000000000000000000000000000000000000000000000000000000000000000000000000000000000000000000000000000000000000000000000000000000000000000000000000\n",
      "Signature: None\n",
      "Timestamp: 0\n",
      "Hash: 12ecda150a06590707c9acdfbb7d9a4b4b26e4a104fca661ecd3eebd177e532b\n",
      "Is legit: True\n",
      "Index in blockchain: 0\n",
      "Parent block hash: 0000000000000000000000000000000000000000000000000000000000000000\n",
      "Certificate list:\n",
      "\n",
      "----------------------------------\n",
      "Issuer public key: 30820122300d06092a864886f70d01010105000382010f003082010a0282010100c32a60af5db8dadd30adf1ef1c9112ae0e49b31f72c21317eaeebf929e6000e4696d5406d9dc67f7e4e64a5a36c618a136c7e753d9e6629a9027e43fb119f6f909b4a062702499bf5fac3edeade92ea60f8fe3b1d0f037067198dd9c5c484edc21d4eccf1d87e3b1f1b6e7a0a29c74b9c0be6c82c7e9fd45fb72da3bc6b5da50caabf9334b95f3b05a4d330c21463a5a1eb41a8eaea647513305f83fa3c580635a74ae62817470794d796cc1f156c47eab8d3bd6154652ae90495051dbeab51b77722abf099834905bffffbd2ee156689e1577cc0b780ff1dadf304e7ce4101d4877921bf90bf419694b7343d5cf168e01497f144f7ee75c9707fe5c4528b8950203010001\n",
      "Signature: 03efd92401a078ba16ba5723fe0093d43c88d6ab6e6cea318c53013240897177bf8938054c4ec7c1448c66f9f03e456b8594632010ae5565f08ad8662516efd4641342c7f7f3c3894c6e63a55be14ba1ac5d8178bb43c2465ba4d020fa31d7983746f3cb13f2503084eb500eb9228950a0009eff26483866cfe15c0430c62684ef2af61b2a5f3028d3e13abafe84765040c7720b4c3c221e7c01bcad535ececb3723d3270c4a677119f454354275e9e467670feeb481af785934dad8f87b386980cc00f0614c697e8caefb4c73301e360bc9332532e25b86fbddc456f9bfb493c2267674d9b0b13d7bff06db27dc098a02eb6828ab1958fe912ae6c572bdc57d\n",
      "Timestamp: 1738944909662\n",
      "Hash: c17aaba850ac33a1c232b44fc230317f3dda0d3dfd3b190ed61abeca2963f520\n",
      "Is legit: True\n",
      "Index in blockchain: 1\n",
      "Parent block hash: 12ecda150a06590707c9acdfbb7d9a4b4b26e4a104fca661ecd3eebd177e532b\n",
      "Certificate list:\n",
      "Issuer public key: 30820122300d06092a864886f70d01010105000382010f003082010a02820101008dbf835e207160755a8618932af85e3850abeb94d615f23daabafb722752587e177846897d4fc39369601eaaa2b1ec7f1376600fb9790c752c0977c021a4064de94b11ae0e354cb4980eba9e1e5ab45b691197ec7c9e5b8127136b32a20b8fc67e6df7dd16f95e7c3d57a75b8684fe6fab2341e0e17ceb152a1fcc642e417ead13513c57f833b39ff9ccfe9a42b3998ca8c9f2fdf32b12928ee368a8adb04e6e59c45c74efed0c89fd3410c6714042a7d3e33dbf1a9cf0ddfab0a7dc54dd122bf9bc327f2d2e7f37d59dcfa71bfb89cbf4fc30a5bce1f170f935b6a60efa644d6bd2dbb0021cdc434e88c74601490af9c6ff58e2b022e1e0f772c100673b83430203010001\n",
      "Signature: 2dac0aa1f4c3425e76f9e9847e97400e76dfb14ad34665633e7e628455e66d3c0da1db19ad2e9cb86500f650f83564f8a1e24161599e0f79daac64be7cf91f25242d5d41d070d2c057387d397b99212a83c47c2f47ebee37bc4b2eff1616b32d589a114793aef7d794eaef36afbfe06d6d45d1729d41420cd892f2b2d5963a43438dbd8fedc0d82be1f57b543b68598fa268feedbd5f7ca6ade989d9e5fa86ad01c9af86c25965037f9122a9719ca1b605db0055c10426a534ff1b5af8a6c4021495da7af1877916ac55db2a971b5c5ecca96cb2b71852f154077b39ac7625a9cc4b7a900b09a862c5e9975712ebc75bf470ec3cb8a7a18fbad2591711992c1c\n",
      "Timestamp: 5\n",
      "Hash: 0b0d9b5ce0933528a475e95d548752e219007c9e9a7f0b54e5e3496e914fca5a\n",
      "Is legit: True\n",
      "---\n",
      "Issuer public key: 30820122300d06092a864886f70d01010105000382010f003082010a0282010100d02b5b509f515ea1f7f1c6065499dce6c1cc80459f153814490ee54db4e17dc322181e4f56dc659b18afeb294a5f337e34180bb4dab7d7851cf17c2696663739ce06ad51470e6c1fa6f433364d48332a4f5d478cc6cbe05a46d51ce66d6a206455e80eaf7d3840d61838313afbeae66357fbce0428b3e83a9c1611fcfa21c0803de9eb6238890d354d3fe557ed2534c9b5f30270ebe93dc1a273c073877293ded3ea8e5f5c51f37a91b25fe0dbfad1d6e1dd71a6204a7574847b5e09ed7f1315a29a27524704c5878acdbfed49de31a31a66576150d7481d2168817fb43ea6aa030dfcdeb2068c94a9313dbd13e8f8863f98bb4ce42b7795db6504b9f0c5a5530203010001\n",
      "Signature: c7e47c1ae8b87beaa302c6bf9e1945bfa00c4f45121b1ef763625c333250cbf40bde84e4bbf1ac6ec885c8ef03a492b5d3bb31773149b789fd98c036e9ed3c4c99b209774983858bb1570df4bcc3b2ecf2b7ae23b044095ecdee9c628f64c0e6d5b89814ebc73e6ff626e14fe3a965d56896b008ddacee26bbf12727ae05bab5725a1eece2389ac7a68b71948a5789375fe04c7129e2c14d3da6b3f31b65c7d6d5021751a7ec0c9a9a521ebd192719f215800fdd08affa60b5f4052b0eba61baf3e0f0b2b38c48e1eb28e17310e4602de321fc47b00766423b5a533a5e95b5682e6b38419e05968dc5dd0cc13f71973c2ea20055f70de8eff96f9434a14e0d24\n",
      "Timestamp: 3\n",
      "Hash: 2ad20fa8a4a047845902a25ce5b4e0f23987019bb5e2fa7382c0cdfb01ad2ce0\n",
      "Is legit: True\n",
      "---\n",
      "Issuer public key: 30820122300d06092a864886f70d01010105000382010f003082010a0282010100e51bf8eec114d11721285717baecc525e97852a38a3273f779f0ade71a7bacb3180ecc50286166f574fd451380171e8a28eee75ee49fe5dfb8b7b317deb8a7ab90c10d9c717f38dd662000369a101049f4c87cc682cc3ae746280b8ecb288719d4fdb06fb2e6792f03aa3878ee1e85d069962862bc57491940b3a5d3480eff06751551582cb4f291dee131526fe263ec67d1cbf788a0869fd0c29e0cac0994497d043baef0c4d327eabd239233b67e2ee5f199a3f37c29a9fcac022a524fa7f54147a01b07b2c73b7bb42c81cccc610ad7ae72519d800d29f68f3ccdf33508e1d9b9811ed69a2545ac6572a810bb870f2ff5e1a14a9ba170b7f2e58cb1c5444f0203010001\n",
      "Signature: df736cfe745633ae5ef8f7c2897eae0822fefad07d5f7151f5a610792a74cd61361c060a3349a25390e0122fe9b2a88034fe671f7412ca7d9e8f5658bb3609a6bd15c038bdee1608a179cb7201ba29d368358b0fd4a0eb217b3a38d075b720cbfc76af986ede416c6d7928db486c81a83e0e2fd426d2e2316c6990e689395af1b221a4a131eea1fe74d5898994fa37c2de5bf70d2bcd99af790d8e9dd02a8c993e7b8c8071b4f50680df0b9bcb3db30ab436a838e10d0fb84fda0a5675d077d089493ed3366c3e5f9568546398bc90be72015eb4b70a13cae3deed88f4d0eb8506a48cc3e2b23b078eb94899eff1027cdda8cf2fd6f0b6e4e6fe1820bb7403ed\n",
      "Timestamp: 0\n",
      "Hash: 25f70b4b5842d0ac0532463c839b3c2713d1b63f44f13c5b1640a8081be908e3\n",
      "Is legit: True\n",
      "---\n",
      "Issuer public key: 30820122300d06092a864886f70d01010105000382010f003082010a0282010100e51bf8eec114d11721285717baecc525e97852a38a3273f779f0ade71a7bacb3180ecc50286166f574fd451380171e8a28eee75ee49fe5dfb8b7b317deb8a7ab90c10d9c717f38dd662000369a101049f4c87cc682cc3ae746280b8ecb288719d4fdb06fb2e6792f03aa3878ee1e85d069962862bc57491940b3a5d3480eff06751551582cb4f291dee131526fe263ec67d1cbf788a0869fd0c29e0cac0994497d043baef0c4d327eabd239233b67e2ee5f199a3f37c29a9fcac022a524fa7f54147a01b07b2c73b7bb42c81cccc610ad7ae72519d800d29f68f3ccdf33508e1d9b9811ed69a2545ac6572a810bb870f2ff5e1a14a9ba170b7f2e58cb1c5444f0203010001\n",
      "Signature: a62ccb68864c1aa4adbd87969c0e92fbbafb18734f75b08f12c4b70c80d8bdeec8a958c5cd67c6e181cb5f0d51e7f32dcf213d901dd47b5c8d3e4ddc7d90e4427f1f119189ee01202b83a7e455e4f2f0e694066534afbad336640563ffa2a9ef75a6b2c392ece66811a60db55a3c49cfa25c5f3f77da6f35c3f25cff023746aa9b2661b1275f0b0ceda740d34123ffcaabea00a3d61add92b96cf6a2aabc34585148f9b42ea3112da56dc63d124ff6c8571469264e23882db8905190c46c2a086c149cdf39b31c2b076baef24bcb87ee5aae880dec93e4440aa38a27abb3f4e560191d3af5b7a80c5dee6aa0c55191c0e5924f4488777c25247cd3dd4c6e5a0e\n",
      "Timestamp: 4\n",
      "Hash: a7726671493b8d13764a279a9f37b9b68aed050c3cc61bfd48ac17839608ea41\n",
      "Is legit: True\n",
      "---\n",
      "Issuer public key: 30820122300d06092a864886f70d01010105000382010f003082010a02820101008dbf835e207160755a8618932af85e3850abeb94d615f23daabafb722752587e177846897d4fc39369601eaaa2b1ec7f1376600fb9790c752c0977c021a4064de94b11ae0e354cb4980eba9e1e5ab45b691197ec7c9e5b8127136b32a20b8fc67e6df7dd16f95e7c3d57a75b8684fe6fab2341e0e17ceb152a1fcc642e417ead13513c57f833b39ff9ccfe9a42b3998ca8c9f2fdf32b12928ee368a8adb04e6e59c45c74efed0c89fd3410c6714042a7d3e33dbf1a9cf0ddfab0a7dc54dd122bf9bc327f2d2e7f37d59dcfa71bfb89cbf4fc30a5bce1f170f935b6a60efa644d6bd2dbb0021cdc434e88c74601490af9c6ff58e2b022e1e0f772c100673b83430203010001\n",
      "Signature: 0596d5480d0829ad52cfe2bc32c1e516435e2ff88ddebc5f4445e22448a25c57fe9ed32e16e9a40e0f936bffbfc7683058763c03c397f32e16d53f40dc176f59b1b11624164ed6d83dec8a14a32d710d8c4c563b45ceb3808b98aeb7f85ac4d8d699e2b47792b5b20414ca06457dd11315aafb49b4f2f177c27813e8a4ddbf90b85ca47077a81ffb1f7416d9458348d38257bd8d78ee1c37d470eb0e347bad1cbec4bf263a4292dccdaa7f82f987aff38aeca116e91c9804622d41210093796c9f593d9a9af0d92ad75b1b123d122de86fb3b5cd426076fb78aeec25977d513e06839b592213868f7b1322ff5ba3a5df12a7e8859e8c3147a2a344ce3c3805cb\n",
      "Timestamp: 1\n",
      "Hash: 0febae55a0fa49ce5e99cffcca75cb9e0f2a352a6a72909774bc76d8a1867f5d\n",
      "Is legit: True\n",
      "---\n",
      "\n",
      "----------------------------------\n"
     ]
    },
    {
     "data": {
      "text/plain": [
       "'Success!'"
      ]
     },
     "execution_count": 132,
     "metadata": {},
     "output_type": "execute_result"
    }
   ],
   "source": [
    "# We will generate 6 certificates, 1 being fraudulous (Charlie's) and add them twice each to the node. \n",
    "\n",
    "for i in range(6):\n",
    "    selectedHuman = humans[i % len(humans)]\n",
    "    if selectedHuman == Charlie:\n",
    "        certificate = Certificate(Alice.publicKey)\n",
    "    else:\n",
    "        certificate = Certificate(selectedHuman.publicKey)\n",
    "    certificate.timestamp = i\n",
    "    selectedHuman.sign(certificate)\n",
    "    certificates[selectedHuman].append(certificate)\n",
    "    node1.new_certificate(certificate)\n",
    "    node1.new_certificate(certificate)\n",
    "    \n",
    "# To push our system further, let's add Bob's one more time\n",
    "\n",
    "node1.new_certificate(certificates[Bob][0])\n",
    "\n",
    "# Without any duplicity and/or legality tests, we would normally have 13 certificates inside the box\n",
    "# And thus, 3 blocks (containing each 0, 5 and 5 certificates) inside our blockchain\n",
    "# Except invalid certificates are discarded, which means Charlie's (in double)\n",
    "# We are short 2 certificates, down to 11\n",
    "# Then we discard duplicates (2 for Alice, 3 for Bob and 1 for Delphine)\n",
    "# We end up with 5 certificates which means 2 blocks in the blockchain and no certificate in the box\n",
    "\n",
    "if hasattr(node1.blockchain, 'display'):\n",
    "    node1.blockchain.display()\n",
    "\n",
    "assert len(node1.blockchain.blockList) == 2   # We have 2 blocks since we only have 5 different legit certificates\n",
    "assert len(node1._BlockchainNode__certificateBox) == 0  # No pending certificate\n",
    "\n",
    "# Charlie's invalid certificate is not in the blockchain\n",
    "assert certificates[Charlie][0] not in node1.blockchain.blockList[0].certificateList\n",
    "\n",
    "\"Success!\""
   ]
  },
  {
   "cell_type": "markdown",
   "id": "84c1bba9",
   "metadata": {},
   "source": [
    "Our humans are now capable of providing certificates to our nodes using the function we just created.\n",
    "\n",
    "Generally, this is the only thing humans are allowed to give to the node. They can also consult the blockchain, but nothing more.\n",
    "\n",
    "Let's now focus on the case of other nodes: in the network, we will receive either blocks or certificates from other nodes (see for yourself your function `new_certificate(certificate)`: it sends certificates and blocks).\n",
    "\n",
    "Receiving a certificate from a node is fundamentally identical to receiving it from a human since in both cases we assume it's a new certificate (otherwise we simply ignore it).\n",
    "\n",
    "So, we really only have to write a function that handles the management of blocks arriving at the node.\n",
    "\n",
    "***\n",
    "\n",
    "Write in the `BlockchainNode` class a function `new_block(block)` that manages the addition of new blocks to the node. You must follow the same procedure as for certificates, namely validating the addition of the block to the end of your blockchain, and then broadcasting it to all your peers if the block is validated.\n",
    "\n",
    "We will assume that in our simulations, blocks are always added in the right order and that the case where we would receive two different but valid blocks, and therefore have to keep the longest blockchain (as seen in class), never happens. Simply refuse any block that is not directly addable to the blockchain in its current state.\n",
    "\n",
    "**Be careful, you might be sent a block containing a certificate that you already have pending at your place...**\n",
    "\n",
    "> <details><summary><strong>Click here for help 1</strong></summary>The validation step involves exactly 6 tests. What are they? (One of them is harder to find, see help 2.)</details>\n",
    "\n",
    "> <details><summary><strong>Click here for help 2</strong></summary>Remember that the blockchain hates déjà vu...</details>\n",
    "\n",
    "> <details><summary><strong>Click here for help 3</strong></summary>Once the block is validated and added to your blockchain, before passing it on to others, there is a bit of cleaning up to do and then only it might be your turn to contribute to the edifice...</details>"
   ]
  },
  {
   "cell_type": "code",
   "execution_count": 133,
   "id": "a55fab0d",
   "metadata": {
    "ExecuteTime": {
     "end_time": "2025-02-03T14:39:46.625976Z",
     "start_time": "2025-02-03T14:39:42.918556Z"
    }
   },
   "outputs": [
    {
     "name": "stdout",
     "output_type": "stream",
     "text": [
      "Issuer public key: 000000000000000000000000000000000000000000000000000000000000000000000000000000000000000000000000000000000000000000000000000000000000000000000000000000000000000000000000000000000000000000000000000000000000000000000000000000000000000000000000000000000000000000000000000000000000000000000000000000000000000000000000000000000000000000000000000000000000000000000000000000000000000000000000000000000000000000000000000000000000000000000000000000000000000000000000000000000000000000000000000000000000000000000000000000000000000000000000000000000000000000000000000000000000000000000000000000000000\n",
      "Signature: None\n",
      "Timestamp: 0\n",
      "Hash: 12ecda150a06590707c9acdfbb7d9a4b4b26e4a104fca661ecd3eebd177e532b\n",
      "Is legit: True\n",
      "Index in blockchain: 0\n",
      "Parent block hash: 0000000000000000000000000000000000000000000000000000000000000000\n",
      "Certificate list:\n",
      "\n",
      "----------------------------------\n",
      "Issuer public key: 30820122300d06092a864886f70d01010105000382010f003082010a0282010100c32a60af5db8dadd30adf1ef1c9112ae0e49b31f72c21317eaeebf929e6000e4696d5406d9dc67f7e4e64a5a36c618a136c7e753d9e6629a9027e43fb119f6f909b4a062702499bf5fac3edeade92ea60f8fe3b1d0f037067198dd9c5c484edc21d4eccf1d87e3b1f1b6e7a0a29c74b9c0be6c82c7e9fd45fb72da3bc6b5da50caabf9334b95f3b05a4d330c21463a5a1eb41a8eaea647513305f83fa3c580635a74ae62817470794d796cc1f156c47eab8d3bd6154652ae90495051dbeab51b77722abf099834905bffffbd2ee156689e1577cc0b780ff1dadf304e7ce4101d4877921bf90bf419694b7343d5cf168e01497f144f7ee75c9707fe5c4528b8950203010001\n",
      "Signature: 03efd92401a078ba16ba5723fe0093d43c88d6ab6e6cea318c53013240897177bf8938054c4ec7c1448c66f9f03e456b8594632010ae5565f08ad8662516efd4641342c7f7f3c3894c6e63a55be14ba1ac5d8178bb43c2465ba4d020fa31d7983746f3cb13f2503084eb500eb9228950a0009eff26483866cfe15c0430c62684ef2af61b2a5f3028d3e13abafe84765040c7720b4c3c221e7c01bcad535ececb3723d3270c4a677119f454354275e9e467670feeb481af785934dad8f87b386980cc00f0614c697e8caefb4c73301e360bc9332532e25b86fbddc456f9bfb493c2267674d9b0b13d7bff06db27dc098a02eb6828ab1958fe912ae6c572bdc57d\n",
      "Timestamp: 1738944909662\n",
      "Hash: c17aaba850ac33a1c232b44fc230317f3dda0d3dfd3b190ed61abeca2963f520\n",
      "Is legit: True\n",
      "Index in blockchain: 1\n",
      "Parent block hash: 12ecda150a06590707c9acdfbb7d9a4b4b26e4a104fca661ecd3eebd177e532b\n",
      "Certificate list:\n",
      "Issuer public key: 30820122300d06092a864886f70d01010105000382010f003082010a02820101008dbf835e207160755a8618932af85e3850abeb94d615f23daabafb722752587e177846897d4fc39369601eaaa2b1ec7f1376600fb9790c752c0977c021a4064de94b11ae0e354cb4980eba9e1e5ab45b691197ec7c9e5b8127136b32a20b8fc67e6df7dd16f95e7c3d57a75b8684fe6fab2341e0e17ceb152a1fcc642e417ead13513c57f833b39ff9ccfe9a42b3998ca8c9f2fdf32b12928ee368a8adb04e6e59c45c74efed0c89fd3410c6714042a7d3e33dbf1a9cf0ddfab0a7dc54dd122bf9bc327f2d2e7f37d59dcfa71bfb89cbf4fc30a5bce1f170f935b6a60efa644d6bd2dbb0021cdc434e88c74601490af9c6ff58e2b022e1e0f772c100673b83430203010001\n",
      "Signature: 2dac0aa1f4c3425e76f9e9847e97400e76dfb14ad34665633e7e628455e66d3c0da1db19ad2e9cb86500f650f83564f8a1e24161599e0f79daac64be7cf91f25242d5d41d070d2c057387d397b99212a83c47c2f47ebee37bc4b2eff1616b32d589a114793aef7d794eaef36afbfe06d6d45d1729d41420cd892f2b2d5963a43438dbd8fedc0d82be1f57b543b68598fa268feedbd5f7ca6ade989d9e5fa86ad01c9af86c25965037f9122a9719ca1b605db0055c10426a534ff1b5af8a6c4021495da7af1877916ac55db2a971b5c5ecca96cb2b71852f154077b39ac7625a9cc4b7a900b09a862c5e9975712ebc75bf470ec3cb8a7a18fbad2591711992c1c\n",
      "Timestamp: 5\n",
      "Hash: 0b0d9b5ce0933528a475e95d548752e219007c9e9a7f0b54e5e3496e914fca5a\n",
      "Is legit: True\n",
      "---\n",
      "Issuer public key: 30820122300d06092a864886f70d01010105000382010f003082010a0282010100d02b5b509f515ea1f7f1c6065499dce6c1cc80459f153814490ee54db4e17dc322181e4f56dc659b18afeb294a5f337e34180bb4dab7d7851cf17c2696663739ce06ad51470e6c1fa6f433364d48332a4f5d478cc6cbe05a46d51ce66d6a206455e80eaf7d3840d61838313afbeae66357fbce0428b3e83a9c1611fcfa21c0803de9eb6238890d354d3fe557ed2534c9b5f30270ebe93dc1a273c073877293ded3ea8e5f5c51f37a91b25fe0dbfad1d6e1dd71a6204a7574847b5e09ed7f1315a29a27524704c5878acdbfed49de31a31a66576150d7481d2168817fb43ea6aa030dfcdeb2068c94a9313dbd13e8f8863f98bb4ce42b7795db6504b9f0c5a5530203010001\n",
      "Signature: c7e47c1ae8b87beaa302c6bf9e1945bfa00c4f45121b1ef763625c333250cbf40bde84e4bbf1ac6ec885c8ef03a492b5d3bb31773149b789fd98c036e9ed3c4c99b209774983858bb1570df4bcc3b2ecf2b7ae23b044095ecdee9c628f64c0e6d5b89814ebc73e6ff626e14fe3a965d56896b008ddacee26bbf12727ae05bab5725a1eece2389ac7a68b71948a5789375fe04c7129e2c14d3da6b3f31b65c7d6d5021751a7ec0c9a9a521ebd192719f215800fdd08affa60b5f4052b0eba61baf3e0f0b2b38c48e1eb28e17310e4602de321fc47b00766423b5a533a5e95b5682e6b38419e05968dc5dd0cc13f71973c2ea20055f70de8eff96f9434a14e0d24\n",
      "Timestamp: 3\n",
      "Hash: 2ad20fa8a4a047845902a25ce5b4e0f23987019bb5e2fa7382c0cdfb01ad2ce0\n",
      "Is legit: True\n",
      "---\n",
      "Issuer public key: 30820122300d06092a864886f70d01010105000382010f003082010a0282010100e51bf8eec114d11721285717baecc525e97852a38a3273f779f0ade71a7bacb3180ecc50286166f574fd451380171e8a28eee75ee49fe5dfb8b7b317deb8a7ab90c10d9c717f38dd662000369a101049f4c87cc682cc3ae746280b8ecb288719d4fdb06fb2e6792f03aa3878ee1e85d069962862bc57491940b3a5d3480eff06751551582cb4f291dee131526fe263ec67d1cbf788a0869fd0c29e0cac0994497d043baef0c4d327eabd239233b67e2ee5f199a3f37c29a9fcac022a524fa7f54147a01b07b2c73b7bb42c81cccc610ad7ae72519d800d29f68f3ccdf33508e1d9b9811ed69a2545ac6572a810bb870f2ff5e1a14a9ba170b7f2e58cb1c5444f0203010001\n",
      "Signature: df736cfe745633ae5ef8f7c2897eae0822fefad07d5f7151f5a610792a74cd61361c060a3349a25390e0122fe9b2a88034fe671f7412ca7d9e8f5658bb3609a6bd15c038bdee1608a179cb7201ba29d368358b0fd4a0eb217b3a38d075b720cbfc76af986ede416c6d7928db486c81a83e0e2fd426d2e2316c6990e689395af1b221a4a131eea1fe74d5898994fa37c2de5bf70d2bcd99af790d8e9dd02a8c993e7b8c8071b4f50680df0b9bcb3db30ab436a838e10d0fb84fda0a5675d077d089493ed3366c3e5f9568546398bc90be72015eb4b70a13cae3deed88f4d0eb8506a48cc3e2b23b078eb94899eff1027cdda8cf2fd6f0b6e4e6fe1820bb7403ed\n",
      "Timestamp: 0\n",
      "Hash: 25f70b4b5842d0ac0532463c839b3c2713d1b63f44f13c5b1640a8081be908e3\n",
      "Is legit: True\n",
      "---\n",
      "Issuer public key: 30820122300d06092a864886f70d01010105000382010f003082010a0282010100e51bf8eec114d11721285717baecc525e97852a38a3273f779f0ade71a7bacb3180ecc50286166f574fd451380171e8a28eee75ee49fe5dfb8b7b317deb8a7ab90c10d9c717f38dd662000369a101049f4c87cc682cc3ae746280b8ecb288719d4fdb06fb2e6792f03aa3878ee1e85d069962862bc57491940b3a5d3480eff06751551582cb4f291dee131526fe263ec67d1cbf788a0869fd0c29e0cac0994497d043baef0c4d327eabd239233b67e2ee5f199a3f37c29a9fcac022a524fa7f54147a01b07b2c73b7bb42c81cccc610ad7ae72519d800d29f68f3ccdf33508e1d9b9811ed69a2545ac6572a810bb870f2ff5e1a14a9ba170b7f2e58cb1c5444f0203010001\n",
      "Signature: a62ccb68864c1aa4adbd87969c0e92fbbafb18734f75b08f12c4b70c80d8bdeec8a958c5cd67c6e181cb5f0d51e7f32dcf213d901dd47b5c8d3e4ddc7d90e4427f1f119189ee01202b83a7e455e4f2f0e694066534afbad336640563ffa2a9ef75a6b2c392ece66811a60db55a3c49cfa25c5f3f77da6f35c3f25cff023746aa9b2661b1275f0b0ceda740d34123ffcaabea00a3d61add92b96cf6a2aabc34585148f9b42ea3112da56dc63d124ff6c8571469264e23882db8905190c46c2a086c149cdf39b31c2b076baef24bcb87ee5aae880dec93e4440aa38a27abb3f4e560191d3af5b7a80c5dee6aa0c55191c0e5924f4488777c25247cd3dd4c6e5a0e\n",
      "Timestamp: 4\n",
      "Hash: a7726671493b8d13764a279a9f37b9b68aed050c3cc61bfd48ac17839608ea41\n",
      "Is legit: True\n",
      "---\n",
      "Issuer public key: 30820122300d06092a864886f70d01010105000382010f003082010a02820101008dbf835e207160755a8618932af85e3850abeb94d615f23daabafb722752587e177846897d4fc39369601eaaa2b1ec7f1376600fb9790c752c0977c021a4064de94b11ae0e354cb4980eba9e1e5ab45b691197ec7c9e5b8127136b32a20b8fc67e6df7dd16f95e7c3d57a75b8684fe6fab2341e0e17ceb152a1fcc642e417ead13513c57f833b39ff9ccfe9a42b3998ca8c9f2fdf32b12928ee368a8adb04e6e59c45c74efed0c89fd3410c6714042a7d3e33dbf1a9cf0ddfab0a7dc54dd122bf9bc327f2d2e7f37d59dcfa71bfb89cbf4fc30a5bce1f170f935b6a60efa644d6bd2dbb0021cdc434e88c74601490af9c6ff58e2b022e1e0f772c100673b83430203010001\n",
      "Signature: 0596d5480d0829ad52cfe2bc32c1e516435e2ff88ddebc5f4445e22448a25c57fe9ed32e16e9a40e0f936bffbfc7683058763c03c397f32e16d53f40dc176f59b1b11624164ed6d83dec8a14a32d710d8c4c563b45ceb3808b98aeb7f85ac4d8d699e2b47792b5b20414ca06457dd11315aafb49b4f2f177c27813e8a4ddbf90b85ca47077a81ffb1f7416d9458348d38257bd8d78ee1c37d470eb0e347bad1cbec4bf263a4292dccdaa7f82f987aff38aeca116e91c9804622d41210093796c9f593d9a9af0d92ad75b1b123d122de86fb3b5cd426076fb78aeec25977d513e06839b592213868f7b1322ff5ba3a5df12a7e8859e8c3147a2a344ce3c3805cb\n",
      "Timestamp: 1\n",
      "Hash: 0febae55a0fa49ce5e99cffcca75cb9e0f2a352a6a72909774bc76d8a1867f5d\n",
      "Is legit: True\n",
      "---\n",
      "\n",
      "----------------------------------\n",
      "Issuer public key: 30820122300d06092a864886f70d01010105000382010f003082010a0282010100c32a60af5db8dadd30adf1ef1c9112ae0e49b31f72c21317eaeebf929e6000e4696d5406d9dc67f7e4e64a5a36c618a136c7e753d9e6629a9027e43fb119f6f909b4a062702499bf5fac3edeade92ea60f8fe3b1d0f037067198dd9c5c484edc21d4eccf1d87e3b1f1b6e7a0a29c74b9c0be6c82c7e9fd45fb72da3bc6b5da50caabf9334b95f3b05a4d330c21463a5a1eb41a8eaea647513305f83fa3c580635a74ae62817470794d796cc1f156c47eab8d3bd6154652ae90495051dbeab51b77722abf099834905bffffbd2ee156689e1577cc0b780ff1dadf304e7ce4101d4877921bf90bf419694b7343d5cf168e01497f144f7ee75c9707fe5c4528b8950203010001\n",
      "Signature: 4584ec42c5968ffbeafcaf07e9ee8fac76a6c18ebc537e952f5b595f86aac0978207313d5ef153795583f8f558fcba295cb5c79f97ca09423425fdb59b3c42dd27ecaf579274853e2ce1ede174b18e25f690b32c770de02518f4c12a340502e071108881031340a3c631f7ad45552f543c6460d1ca042d197bd41fc9331be1f06d1aafb62417a7ad8cddccc34164e4059df1f8d39d4d2d2276f3793c187ca8fa48173ed09a059d0218fadfa5f2c50c077203a39f063b542fe17c04782ec81dc7d5233791a40f5c99887332b838344ff135eec09adf77500eb987d4a4f56df2bd4989e6fc32f63acc12e7794370935a7854c95d8cbaccfed7ea0f1cbc00bfcf4e\n",
      "Timestamp: 1738944910857\n",
      "Hash: d5b42fe22d1ab38e57584d1461b1ff67e6125eba7b88bb6b8e4043b498b27b5a\n",
      "Is legit: True\n",
      "Index in blockchain: 2\n",
      "Parent block hash: c17aaba850ac33a1c232b44fc230317f3dda0d3dfd3b190ed61abeca2963f520\n",
      "Certificate list:\n",
      "Issuer public key: 30820122300d06092a864886f70d01010105000382010f003082010a0282010100e51bf8eec114d11721285717baecc525e97852a38a3273f779f0ade71a7bacb3180ecc50286166f574fd451380171e8a28eee75ee49fe5dfb8b7b317deb8a7ab90c10d9c717f38dd662000369a101049f4c87cc682cc3ae746280b8ecb288719d4fdb06fb2e6792f03aa3878ee1e85d069962862bc57491940b3a5d3480eff06751551582cb4f291dee131526fe263ec67d1cbf788a0869fd0c29e0cac0994497d043baef0c4d327eabd239233b67e2ee5f199a3f37c29a9fcac022a524fa7f54147a01b07b2c73b7bb42c81cccc610ad7ae72519d800d29f68f3ccdf33508e1d9b9811ed69a2545ac6572a810bb870f2ff5e1a14a9ba170b7f2e58cb1c5444f0203010001\n",
      "Signature: 7e030bc044cb190c89b957b8a873a724489600de1c1833bf37711c48702081064c7364c51cc4479b39cf661b902146149435f9530fa6d02c7e883e41838b50779b6926dea4265f612b11f308e744dc7f2433b50ec1c8dde19a5b8cc399eee9b965dce604038f88e75690475d77aaf076e8cde842d2e97be50a058282507317d7f867099cac7904f94e2ca0e27099ed6a93225eb0a2470c3a9bdc33ebbb8f60d31a157f68d61c30205270afa430fc501c47ee3b35e04fa4cec360311f5e22bdf140bde09e869aafeed76873f48e30f312763b7814b3a6affb42ddbb00b452a1736ea1bac5aed3339aee8c9e002f0dba980f5a301289c074341b8cc7490bdc12b3\n",
      "Timestamp: 1738944910682\n",
      "Hash: 6be252bbd5cf0cb6c9a2435ae2e7ef5090456eafbbc093fa5666bcd5aa7526a6\n",
      "Is legit: True\n",
      "---\n",
      "Issuer public key: 30820122300d06092a864886f70d01010105000382010f003082010a02820101008dbf835e207160755a8618932af85e3850abeb94d615f23daabafb722752587e177846897d4fc39369601eaaa2b1ec7f1376600fb9790c752c0977c021a4064de94b11ae0e354cb4980eba9e1e5ab45b691197ec7c9e5b8127136b32a20b8fc67e6df7dd16f95e7c3d57a75b8684fe6fab2341e0e17ceb152a1fcc642e417ead13513c57f833b39ff9ccfe9a42b3998ca8c9f2fdf32b12928ee368a8adb04e6e59c45c74efed0c89fd3410c6714042a7d3e33dbf1a9cf0ddfab0a7dc54dd122bf9bc327f2d2e7f37d59dcfa71bfb89cbf4fc30a5bce1f170f935b6a60efa644d6bd2dbb0021cdc434e88c74601490af9c6ff58e2b022e1e0f772c100673b83430203010001\n",
      "Signature: 5f794cf4430391d405788ad10753cb6fa0ea0d631b564f5f190ba1ed3081bdada5645cae7029f53726712c3c7d7301f46986d6120fdd0cab0fa0fd166b5ad3149dc2e5ebc5daa864b1c23ec91636afd5d6dfea531f5ab0fd16366bd0528101bdd861329258e84d7a37e56e8e4df4f2260f6a9ff4071120c936a5bee4c2c28b1321b086ee9e5222284831f85d930706c4d67fb998a5eb0c7ac7fa298a1321d99ea2607f31915ef5873ad539ea86f60616e4bae991b28b49846f1e4da6d79dd79d7a3d5284bf499da2baa1fce2adf343ffe1daf768ccace40047acd10f63d38bdc2516b9337ff49db3dc55c0066522e40d34fc29eb3764ca570402f260bc40621c\n",
      "Timestamp: 1738944910717\n",
      "Hash: 995e5987a5faf98d249b3f0b04fb9c4fc59a0044fc1cb458b5f50b3817e03752\n",
      "Is legit: True\n",
      "---\n",
      "Issuer public key: 30820122300d06092a864886f70d01010105000382010f003082010a028201010090ddf67485a6d4b7538cc7dac922cba162b05db84c1159fcc61f8d097836198c2349498887e493a20e6ed4ee9cdfbacef70e8be303d1ccae863766714bd136bee5f10be9f930b650ab54d2f2b97220a6744acaf9401be8dcc98e556a26748232b9e42a12dc4d923e60b99d6e2db7b71d236885a37e5346b18dfa4b2692fb7208806fb27685d25710963676aec853cc8e8d68b8cf334bb31c12df71aeab234986c2467f030ec185e9a8ad17d19aad101f06e611f47e0865f8767c4642c5de9658489b68cc41bcb33996a8579b3ceb33597dbb637e1af76a8888da7c1bee17705a0d1e5d669fdd3cefdc064505201a6231d8478e10c0ad3b36b9a9b93553d78f1b0203010001\n",
      "Signature: 4a21aff44a47bcf79402294c4e7b0a2e26c41cfac6ad4a7cd22e37906a25d2c08111b090ef29044c6e0445cf3cd4aca3b7bce45365d9f4cffe5b7aea23b375a74f94674a6f7920079279cb26811b8dc73c5a049715b88e34af8af61294b16161b80a82bf1f39e2767bd1f45011f7af86559af0329ded8b0aa6c4ae765cad3dd6e772512916482d15253a32cae5654c8a641be38484569feb8e71c1da35f95c9dc6f8a93916f14fc80fec79d74b8ad12e9dcddf20a807f386571889cddf2dbacc97e1bb2792d1e54e2c68ed707663e8bed7660e7d4555d9629c3db3a314d7d01ccb3a2d21ae4a4ff474886d0d319e7fc5ecb83073d865a3659686bce8d2a3e104\n",
      "Timestamp: 1738944910752\n",
      "Hash: 29f08cd75e85a800a5c59278bf8b50d796af4d06d09bfab9a03931d8b51f4be5\n",
      "Is legit: True\n",
      "---\n",
      "Issuer public key: 30820122300d06092a864886f70d01010105000382010f003082010a0282010100d02b5b509f515ea1f7f1c6065499dce6c1cc80459f153814490ee54db4e17dc322181e4f56dc659b18afeb294a5f337e34180bb4dab7d7851cf17c2696663739ce06ad51470e6c1fa6f433364d48332a4f5d478cc6cbe05a46d51ce66d6a206455e80eaf7d3840d61838313afbeae66357fbce0428b3e83a9c1611fcfa21c0803de9eb6238890d354d3fe557ed2534c9b5f30270ebe93dc1a273c073877293ded3ea8e5f5c51f37a91b25fe0dbfad1d6e1dd71a6204a7574847b5e09ed7f1315a29a27524704c5878acdbfed49de31a31a66576150d7481d2168817fb43ea6aa030dfcdeb2068c94a9313dbd13e8f8863f98bb4ce42b7795db6504b9f0c5a5530203010001\n",
      "Signature: 7da4946a5869b52754359cf9a5a7ca8a0a8fede3d168b41e1e714445c54c15e6a7a878360fb076ebea3fedca944891f2e0de8892dd585935d21ed4d28d89ce30d7124ced6f109e01b9f1b07e6a503e7b023f703fd1c5e58f14f1e6ea50b40c69ae50b0a29c866f17d735de42ef42ffd811859de390eb61eb50e62bad045b1605a324d9ef1036f2004d6c62681aa3819b7d66e0acea498955b026da2fc9753e2db192a18d9557a319caae5638aa904aad93a2db61c07c4f8ef0b6154fb27d6dadbf7be713fde63a843f470f0d14f7302b39b67d359834e547d64cf8ef46dfdcec36499b70489f77c8d47e17a46fa88804526c482b8ad184d2172f95bf5bc4bcae\n",
      "Timestamp: 1738944910788\n",
      "Hash: f3290dbce1eeece38682d7773b95b400091c8580a2df72e72d70980a6a1278b3\n",
      "Is legit: True\n",
      "---\n",
      "Issuer public key: 30820122300d06092a864886f70d01010105000382010f003082010a0282010100e51bf8eec114d11721285717baecc525e97852a38a3273f779f0ade71a7bacb3180ecc50286166f574fd451380171e8a28eee75ee49fe5dfb8b7b317deb8a7ab90c10d9c717f38dd662000369a101049f4c87cc682cc3ae746280b8ecb288719d4fdb06fb2e6792f03aa3878ee1e85d069962862bc57491940b3a5d3480eff06751551582cb4f291dee131526fe263ec67d1cbf788a0869fd0c29e0cac0994497d043baef0c4d327eabd239233b67e2ee5f199a3f37c29a9fcac022a524fa7f54147a01b07b2c73b7bb42c81cccc610ad7ae72519d800d29f68f3ccdf33508e1d9b9811ed69a2545ac6572a810bb870f2ff5e1a14a9ba170b7f2e58cb1c5444f0203010001\n",
      "Signature: 59e895f802705a70bdb9c03d80647e8ebddebdd56a28823a975211a6592c64a75d3dc3b61c1de17f554ce94965ff81ceeedb53a0a5009ef13f2eb614648297585fc2edd04fba7c63ba255253eeec65c53fd8be989bde2f72c5f9f153206be058754b48a36213bd4c88f101f9b310f9be696b7b86ce59f78834cf7fe638b3bebc70e734e5b00c09d0f3188b9fe13416b6d7ebacd9f4c36034bfd71c48a844715a0f49f6227c84a059ac4f3fdf53b6c412e4e26a6a5dcf94877bd3ac63a165e1d4b3d8ee23268ba0d136f9471fc053a91551568cc93b3cdc1f16e23ab357ba9f1ea69c8d41e61f22b311a6b094e249dbec4ba5d2e6b92ee3db88cee45dec9eeafd\n",
      "Timestamp: 1738944910823\n",
      "Hash: 5d5ac9c8bf59d3fb1d6fc85adb3a8ce6f0b3b0f4c6fc73dd042e9a610a0ac529\n",
      "Is legit: True\n",
      "---\n",
      "\n",
      "----------------------------------\n",
      "Issuer public key: 30820122300d06092a864886f70d01010105000382010f003082010a0282010100c32a60af5db8dadd30adf1ef1c9112ae0e49b31f72c21317eaeebf929e6000e4696d5406d9dc67f7e4e64a5a36c618a136c7e753d9e6629a9027e43fb119f6f909b4a062702499bf5fac3edeade92ea60f8fe3b1d0f037067198dd9c5c484edc21d4eccf1d87e3b1f1b6e7a0a29c74b9c0be6c82c7e9fd45fb72da3bc6b5da50caabf9334b95f3b05a4d330c21463a5a1eb41a8eaea647513305f83fa3c580635a74ae62817470794d796cc1f156c47eab8d3bd6154652ae90495051dbeab51b77722abf099834905bffffbd2ee156689e1577cc0b780ff1dadf304e7ce4101d4877921bf90bf419694b7343d5cf168e01497f144f7ee75c9707fe5c4528b8950203010001\n",
      "Signature: 10362bf31140309c1eac7fb58651f471dee3afb29ef4d309c85b8f360c1adbad3627399c1300e183770e84197bc9908ffa71ec83a4df2211dc30c1f5ed15f7d7a8b331dbdc7909b01c10d316b723fb70ab2ab22e1e06b7f68f14f9ee3447c85c0d087e627d75b4093ea87f7c86e5ef9a08b7f747e30529c85ab4c2830009c64b5b856f354f840ac43044e9af6cd4b0040c87fec032b0a41f48eb46dad45c23b4cbce0ad4a5bfb58c54d48dc247f3e59e69ec9cf4af9bf6b55461b1e412cbf9e5529d9713dd2de4bb7a3fa42dfdf537af51c2e0e6695a1bd491d90df9e9fcbd7933b52779c6c2291ccc7e9c217e0f0c05a8ca0933d3c4ec2a23d82904869f02d0\n",
      "Timestamp: 1738944912036\n",
      "Hash: 4d272dd7a21e2dd57c6c8b954cb5ea8895fae9843b7755c81c3e7a503527a096\n",
      "Is legit: True\n",
      "Index in blockchain: 3\n",
      "Parent block hash: d5b42fe22d1ab38e57584d1461b1ff67e6125eba7b88bb6b8e4043b498b27b5a\n",
      "Certificate list:\n",
      "Issuer public key: 30820122300d06092a864886f70d01010105000382010f003082010a0282010100e51bf8eec114d11721285717baecc525e97852a38a3273f779f0ade71a7bacb3180ecc50286166f574fd451380171e8a28eee75ee49fe5dfb8b7b317deb8a7ab90c10d9c717f38dd662000369a101049f4c87cc682cc3ae746280b8ecb288719d4fdb06fb2e6792f03aa3878ee1e85d069962862bc57491940b3a5d3480eff06751551582cb4f291dee131526fe263ec67d1cbf788a0869fd0c29e0cac0994497d043baef0c4d327eabd239233b67e2ee5f199a3f37c29a9fcac022a524fa7f54147a01b07b2c73b7bb42c81cccc610ad7ae72519d800d29f68f3ccdf33508e1d9b9811ed69a2545ac6572a810bb870f2ff5e1a14a9ba170b7f2e58cb1c5444f0203010001\n",
      "Signature: 2c6710069a1cf9bf51cee15d0a020beb23d609571e7a8ef87626963c5d0920b1ad972b0a497017c04fa3521000718c668e29d0e0c8708ddd21f3c4cf68880e06f3f5c120013034400a62e6426ea715eeb61c66dde5d2ce6c086cfb34753736f0f59190967fad82b26ecfc838bc1e041e9a9fb834bd04b7109830fc0e72a5fb96a0f7c91e871b0a2de95ddecbc6889678ab1cf719c135eb075b7ba81027f45b892dca6153720a20d25b5de470748c2ca17fc9d0453bba5ff3f63a56dc47a3bec8e175b6ad0efe2c6a59fc8c42a0c123b0df03e126553f53b4543166913d928e5f98e04294f9793c01d1f8fc2a023421c2624a2b6f6b8beb6153fe094cdfb70dc0\n",
      "Timestamp: 1738944911866\n",
      "Hash: 96b3ae2245303d5098cfa304197ebe67af1c4d2e33c4bc16e890c3d37d94da58\n",
      "Is legit: True\n",
      "---\n",
      "Issuer public key: 30820122300d06092a864886f70d01010105000382010f003082010a02820101008dbf835e207160755a8618932af85e3850abeb94d615f23daabafb722752587e177846897d4fc39369601eaaa2b1ec7f1376600fb9790c752c0977c021a4064de94b11ae0e354cb4980eba9e1e5ab45b691197ec7c9e5b8127136b32a20b8fc67e6df7dd16f95e7c3d57a75b8684fe6fab2341e0e17ceb152a1fcc642e417ead13513c57f833b39ff9ccfe9a42b3998ca8c9f2fdf32b12928ee368a8adb04e6e59c45c74efed0c89fd3410c6714042a7d3e33dbf1a9cf0ddfab0a7dc54dd122bf9bc327f2d2e7f37d59dcfa71bfb89cbf4fc30a5bce1f170f935b6a60efa644d6bd2dbb0021cdc434e88c74601490af9c6ff58e2b022e1e0f772c100673b83430203010001\n",
      "Signature: 74195312cc217b3c9df90305e654606896ff4019f68963e2449763c49b3f23461301ccb7487fd79f08aa9944ee8f2b88372ecad9266e1b70e378be02f249ce7e89b93f13779f0df5b62bacdc9e797c7e779090f142bc3741dad34959e5d8fe1c0b2c4edb3d9bb6064a29eda03769b8127b53b503bdce5559d2d4407d377ca47211b68d2f3c8d4693aef4af71cbb7cfb173abef70a8913710f9dc800968b7b8731f47ae61e59ee57570426ae2da1890037cb3174fc4da53dc4b6fd2e6e9536563833f4d1d666dbc60ef58232ea4e0bde07ec65d67cf5fd77fd54bc4f0cefc04c89b1b248785492bfd21ad382bffddce6d1dc8d2d2b52b0f0da4b1b436c3fedf36\n",
      "Timestamp: 1738944911900\n",
      "Hash: 2d9f999ecee248336987de5741c487144addf2caba1a7dc07617815ebd449c4e\n",
      "Is legit: True\n",
      "---\n",
      "Issuer public key: 30820122300d06092a864886f70d01010105000382010f003082010a028201010090ddf67485a6d4b7538cc7dac922cba162b05db84c1159fcc61f8d097836198c2349498887e493a20e6ed4ee9cdfbacef70e8be303d1ccae863766714bd136bee5f10be9f930b650ab54d2f2b97220a6744acaf9401be8dcc98e556a26748232b9e42a12dc4d923e60b99d6e2db7b71d236885a37e5346b18dfa4b2692fb7208806fb27685d25710963676aec853cc8e8d68b8cf334bb31c12df71aeab234986c2467f030ec185e9a8ad17d19aad101f06e611f47e0865f8767c4642c5de9658489b68cc41bcb33996a8579b3ceb33597dbb637e1af76a8888da7c1bee17705a0d1e5d669fdd3cefdc064505201a6231d8478e10c0ad3b36b9a9b93553d78f1b0203010001\n",
      "Signature: 7324eef0b4d302bf8b66c0a8454a28c77512d2a18ed06c8a2dd6d67e6e62440e7a80e5cf2afccdbf97a2db9bbedb42db0289678418a728301b7fe6169bd33f81ee316872aa111d7491fa70c974061b3a4e920a130a496e9b0e2a781674d7070957290884fab80f55227fe56f9820f8f959824fe94c459c3022d5be3780ca412adc9947218f6fdc1a0e3a8035746735b616f1070b8683c1fd3809f926b5491783e4b8c329c02b0c190cbfa9691bf6d3ac54afbd22072338d525266b6dde7f5f154ba9ee627642dd5fd8dffd6fead1e8d96eb3d5842c9082a720fee946e5b6f356842fd7775caa72b077420b8764b70fa1bc17b46bf4979e3461cef700ef54379d\n",
      "Timestamp: 1738944911934\n",
      "Hash: 01cc0c6a7b9b768bc29f85872c2900f9a19b573255cb918260fa5dd6d346d281\n",
      "Is legit: True\n",
      "---\n",
      "Issuer public key: 30820122300d06092a864886f70d01010105000382010f003082010a0282010100d02b5b509f515ea1f7f1c6065499dce6c1cc80459f153814490ee54db4e17dc322181e4f56dc659b18afeb294a5f337e34180bb4dab7d7851cf17c2696663739ce06ad51470e6c1fa6f433364d48332a4f5d478cc6cbe05a46d51ce66d6a206455e80eaf7d3840d61838313afbeae66357fbce0428b3e83a9c1611fcfa21c0803de9eb6238890d354d3fe557ed2534c9b5f30270ebe93dc1a273c073877293ded3ea8e5f5c51f37a91b25fe0dbfad1d6e1dd71a6204a7574847b5e09ed7f1315a29a27524704c5878acdbfed49de31a31a66576150d7481d2168817fb43ea6aa030dfcdeb2068c94a9313dbd13e8f8863f98bb4ce42b7795db6504b9f0c5a5530203010001\n",
      "Signature: 92e9ce5fda5d5df70aa939432dac68918b788c3b7ecc23fdc164168d96c6b173fd0e98dcb6b58ea3b50c824a3a341b3a0c2c08158f382a37d5bef15caaf7cc00020f82e565c0bfe8c21a4535d47407724b4c7af4bb1b5eb1e668eab969336a1de690932fce8aa28956062b43be4bc8a5e049517bb47ecc21188cfcc03754fda5bf7f4a6f23ea3fb4f810a2fd65ad11dd6ba56a068c8b0ffdf8e3df8bb9f44e462d9250ada1384a3698912f0941a50091bb4f6eddf44661d229664ade245bd3264c61874107d6eb63990c136c0bd1ac7c9a37674b2e02bfdc3e36d46f47715aa35ede7ac5e184de7de6fd214b2db0574bfb0579d367ae14de6184efe4d36fdf6c\n",
      "Timestamp: 1738944911968\n",
      "Hash: e143c8a5fcd22c2b5256dbf6f756fada04d931f452b5e6fd3e80b6888e958d99\n",
      "Is legit: True\n",
      "---\n",
      "Issuer public key: 30820122300d06092a864886f70d01010105000382010f003082010a0282010100e51bf8eec114d11721285717baecc525e97852a38a3273f779f0ade71a7bacb3180ecc50286166f574fd451380171e8a28eee75ee49fe5dfb8b7b317deb8a7ab90c10d9c717f38dd662000369a101049f4c87cc682cc3ae746280b8ecb288719d4fdb06fb2e6792f03aa3878ee1e85d069962862bc57491940b3a5d3480eff06751551582cb4f291dee131526fe263ec67d1cbf788a0869fd0c29e0cac0994497d043baef0c4d327eabd239233b67e2ee5f199a3f37c29a9fcac022a524fa7f54147a01b07b2c73b7bb42c81cccc610ad7ae72519d800d29f68f3ccdf33508e1d9b9811ed69a2545ac6572a810bb870f2ff5e1a14a9ba170b7f2e58cb1c5444f0203010001\n",
      "Signature: b3272ee8f5cb60dcc9adaa697794b019011306ac8898b66c67e195335041cf18bc8d5f967c1ab400e383ea46e70c77f1d3ea0516b77b74d824d4b7ef2ada3b1095e7ad065288876028a8bc6b893c1ccca98b2552470a725fa54dce46c8be6265f8b615ca606a8eb610d8d778b6f8b180c7b2e24b8d69b40ad9f4f10e77f6ffa871f052e55673d7a7a87b6174d8f6927d75c7a0d70a9ca323c5ed44b48fb4a649a299da316c33b258c332e31a01538847c1b44802e6057e151a2357b4edc2581d3a1d8a335cf13c705fc546e3f85c803bdad89598fbbf1228e02165436f099a884ceff9a27fa70efa33b46d59586716a0e48dfcda22d34b13a1d97a6eadd0f92b\n",
      "Timestamp: 1738944912002\n",
      "Hash: 11aa05c7f948e1bbd5cd6071f2cf425893aaa4102411a06017956a4b6d51d85f\n",
      "Is legit: True\n",
      "---\n",
      "\n",
      "----------------------------------\n"
     ]
    },
    {
     "data": {
      "text/plain": [
       "'Success?'"
      ]
     },
     "execution_count": 133,
     "metadata": {},
     "output_type": "execute_result"
    }
   ],
   "source": [
    "from random import random\n",
    "from block import Block\n",
    "\n",
    "# To be able to reexecute this cell, let's set the blockchain back to its previous state\n",
    "\n",
    "if len(node1.blockchain.blockList) > 2:\n",
    "    node1.blockchain.blockList = node1.blockchain.blockList[:2]\n",
    "\n",
    "# The following loop tries many different reasons to reject a block\n",
    "# Over the 20 blocks we try to forge, only 2 are valid\n",
    "\n",
    "actors = [Alice, node1.wallet]\n",
    "    \n",
    "for i in range(20):\n",
    "    blockIssuer = actors[min(1, (i * 3) % 6)]\n",
    "    blockIndexInBlockchain = 2 + (i % 5)\n",
    "    blockParentBlockHash = node1.blockchain.blockList[i % len(node1.blockchain.blockList)].hash()\n",
    "    blockCertificateList = []\n",
    "    for j in range(4 + i % 2):\n",
    "        selectedHuman = humans[j % len(humans)]\n",
    "        certificate = Certificate(selectedHuman.publicKey)\n",
    "        selectedHuman.sign(certificate)\n",
    "        blockCertificateList.append(certificate)\n",
    "    block = Block(blockIssuer.publicKey, blockIndexInBlockchain, blockParentBlockHash, blockCertificateList)\n",
    "    blockIssuer.sign(block)\n",
    "    node1.new_block(block)\n",
    "node1.blockchain.display()\n",
    "assert len(node1.blockchain.blockList) == 4  # Only 2 of the 20 blocks are valid\n",
    "\n",
    "\"Success?\""
   ]
  },
  {
   "cell_type": "markdown",
   "id": "6fd9fe6a",
   "metadata": {},
   "source": [
    "Now, we just need to connect our two functions `new_certificate(certificate)` and `new_block(block)` to the network in order to receive information from other nodes and ensure that everyone has the same blockchain.\n",
    "\n",
    "***\n",
    "\n",
    "<font color=\"7777aa\">In your `BlockchainNode` class, rewrite the function `receive_object_from_node(obj, nodeIdentifier)` as in the example with `ExampleNode`: distribute the objects received from other nodes according to their type. Keep in mind that you will only receive objects of type `Certificate` and `Block`.</font>\n",
    "\n",
    "***\n",
    "***\n",
    "\n",
    "To conclude these three tutorials, the following cell simulates 3 honest nodes synchronizing their blockchain. Our 4 favorite humans (Alice, Bob, Delphine, and Charlie the fraudulent) will add certificates to it. To diversify the identity of the forgers, the 3 nodes will stake an identical amount of tokens in the first block.\n",
    "\n",
    "<font color=\"7777aa\">The goal of this simulation is to validate the synchronization of the blockchain between the 3 nodes. To ensure that the 3 blockchains are identical, what simple test can you perform? Complete the function `are_nodes_synchronized(node1, node2, node3)` so that it returns `True` if the three nodes have exactly the same blockchain and `False` otherwise.</font>"
   ]
  },
  {
   "cell_type": "code",
   "execution_count": 134,
   "id": "c0e6aee5",
   "metadata": {
    "ExecuteTime": {
     "end_time": "2025-02-03T14:39:52.540957Z",
     "start_time": "2025-02-03T14:39:50.169690Z"
    }
   },
   "outputs": [
    {
     "name": "stdout",
     "output_type": "stream",
     "text": [
      "Issuer public key: 000000000000000000000000000000000000000000000000000000000000000000000000000000000000000000000000000000000000000000000000000000000000000000000000000000000000000000000000000000000000000000000000000000000000000000000000000000000000000000000000000000000000000000000000000000000000000000000000000000000000000000000000000000000000000000000000000000000000000000000000000000000000000000000000000000000000000000000000000000000000000000000000000000000000000000000000000000000000000000000000000000000000000000000000000000000000000000000000000000000000000000000000000000000000000000000000000000000000\n",
      "Signature: None\n",
      "Timestamp: 0\n",
      "Hash: 12ecda150a06590707c9acdfbb7d9a4b4b26e4a104fca661ecd3eebd177e532b\n",
      "Is legit: True\n",
      "Index in blockchain: 0\n",
      "Parent block hash: 0000000000000000000000000000000000000000000000000000000000000000\n",
      "Certificate list:\n",
      "\n",
      "----------------------------------\n",
      "Issuer public key: 000000000000000000000000000000000000000000000000000000000000000000000000000000000000000000000000000000000000000000000000000000000000000000000000000000000000000000000000000000000000000000000000000000000000000000000000000000000000000000000000000000000000000000000000000000000000000000000000000000000000000000000000000000000000000000000000000000000000000000000000000000000000000000000000000000000000000000000000000000000000000000000000000000000000000000000000000000000000000000000000000000000000000000000000000000000000000000000000000000000000000000000000000000000000000000000000000000000000\n",
      "Signature: None\n",
      "Timestamp: 0\n",
      "Hash: 12ecda150a06590707c9acdfbb7d9a4b4b26e4a104fca661ecd3eebd177e532b\n",
      "Is legit: True\n",
      "Index in blockchain: 0\n",
      "Parent block hash: 0000000000000000000000000000000000000000000000000000000000000000\n",
      "Certificate list:\n",
      "\n",
      "----------------------------------\n",
      "Issuer public key: 000000000000000000000000000000000000000000000000000000000000000000000000000000000000000000000000000000000000000000000000000000000000000000000000000000000000000000000000000000000000000000000000000000000000000000000000000000000000000000000000000000000000000000000000000000000000000000000000000000000000000000000000000000000000000000000000000000000000000000000000000000000000000000000000000000000000000000000000000000000000000000000000000000000000000000000000000000000000000000000000000000000000000000000000000000000000000000000000000000000000000000000000000000000000000000000000000000000000\n",
      "Signature: None\n",
      "Timestamp: 0\n",
      "Hash: 12ecda150a06590707c9acdfbb7d9a4b4b26e4a104fca661ecd3eebd177e532b\n",
      "Is legit: True\n",
      "Index in blockchain: 0\n",
      "Parent block hash: 0000000000000000000000000000000000000000000000000000000000000000\n",
      "Certificate list:\n",
      "\n",
      "----------------------------------\n",
      "Staking operation 1\n",
      "Staking operation 2\n",
      "Staking operation 3\n",
      "Staking operation 4\n",
      "Staking operation 5\n",
      "Node Node 2 received certificate 1\n",
      "Node Node 1 received certificate 2\n",
      "Node Node 1 received certificate 3\n",
      "Node Node 2 received certificate 4\n",
      "Node Node 1 received certificate 5\n",
      "Node Node 1 received certificate 6\n",
      "Node Node 1 received certificate 7\n",
      "Node Node 1 received certificate 8\n",
      "Node Node 1 received certificate 9\n",
      "Node Node 3 received certificate 10\n",
      "Node Node 1 received certificate 11\n",
      "Node Node 3 received certificate 12\n",
      "Node Node 1 received certificate 13\n",
      "Node Node 1 received certificate 14\n",
      "Node Node 2 received certificate 15\n",
      "Node Node 1 received certificate 16\n",
      "Node Node 3 received certificate 17\n",
      "Node Node 1 received certificate 18\n",
      "Node Node 1 received certificate 19\n",
      "Node Node 3 received certificate 20\n",
      "[<block.Block object at 0x76b970afced0>, <block.Block object at 0x76b9708a7e50>, <block.Block object at 0x76b970c489d0>, <block.Block object at 0x76b9708a69d0>, <block.Block object at 0x76b970c4bdd0>, <block.Block object at 0x76b9708a7c50>, <block.Block object at 0x76b970a9c4d0>, <block.Block object at 0x76b970afc850>, <block.Block object at 0x76b970aff250>, <block.Block object at 0x76b9708a60d0>, <block.Block object at 0x76b970e39c50>, <block.Block object at 0x76b970d1fa50>, <block.Block object at 0x76b970c4bf50>]\n",
      "[<block.Block object at 0x76b970aff4d0>, <block.Block object at 0x76b9708a7e50>, <block.Block object at 0x76b970c489d0>, <block.Block object at 0x76b9708a69d0>, <block.Block object at 0x76b970c4bdd0>, <block.Block object at 0x76b9708a7c50>, <block.Block object at 0x76b970a9c4d0>, <block.Block object at 0x76b970afc850>, <block.Block object at 0x76b970aff250>, <block.Block object at 0x76b9708a60d0>, <block.Block object at 0x76b970e39c50>, <block.Block object at 0x76b970d1fa50>, <block.Block object at 0x76b970c4bf50>]\n",
      "[<block.Block object at 0x76b970aff550>, <block.Block object at 0x76b9708a7e50>, <block.Block object at 0x76b970c489d0>, <block.Block object at 0x76b9708a69d0>, <block.Block object at 0x76b970c4bdd0>, <block.Block object at 0x76b9708a7c50>, <block.Block object at 0x76b970a9c4d0>, <block.Block object at 0x76b970afc850>, <block.Block object at 0x76b970aff250>, <block.Block object at 0x76b9708a60d0>, <block.Block object at 0x76b970e39c50>, <block.Block object at 0x76b970d1fa50>, <block.Block object at 0x76b970c4bf50>]\n"
     ]
    },
    {
     "data": {
      "text/plain": [
       "'Assignment completed, good work!'"
      ]
     },
     "execution_count": 134,
     "metadata": {},
     "output_type": "execute_result"
    }
   ],
   "source": [
    "from stake import StakingOperation\n",
    "\n",
    "# Restart the network\n",
    "Node.reset_network()\n",
    "\n",
    "# Add 3 nodes\n",
    "\n",
    "walletNode1 = defaultForgerWallet\n",
    "node1 = BlockchainNode(walletNode1, proofOfStake, \"Node 1\")\n",
    "node1.blockchain.display()\n",
    "\n",
    "walletNode2 = Wallet()\n",
    "node2 = BlockchainNode(walletNode2, proofOfStake, \"Node 2\")\n",
    "node2.blockchain.display()\n",
    "\n",
    "walletNode3 = Wallet()\n",
    "node3 = BlockchainNode(walletNode3, proofOfStake, \"Node 3\")\n",
    "node3.blockchain.display()\n",
    "\n",
    "nodes = [node1, node2, node3]\n",
    "\n",
    "# 5 staking operations to start second block\n",
    "# Each node will have 2 tokens staked after second block is forged\n",
    "\n",
    "staking1 = StakingOperation(walletNode1.publicKey, 2)\n",
    "walletNode1.sign(staking1)\n",
    "print(\"Staking operation 1\")\n",
    "node1.new_certificate(staking1)\n",
    "\n",
    "staking2 = StakingOperation(walletNode2.publicKey, 1)\n",
    "walletNode2.sign(staking2)\n",
    "print(\"Staking operation 2\")\n",
    "node2.new_certificate(staking2)\n",
    "\n",
    "staking3 = StakingOperation(walletNode2.publicKey, 1)\n",
    "walletNode2.sign(staking3)\n",
    "print(\"Staking operation 3\")\n",
    "node2.new_certificate(staking3)\n",
    "\n",
    "staking4 = StakingOperation(walletNode3.publicKey, 1)\n",
    "walletNode3.sign(staking4)\n",
    "print(\"Staking operation 4\")\n",
    "node3.new_certificate(staking4)\n",
    "\n",
    "staking5 = StakingOperation(walletNode3.publicKey, 1)\n",
    "walletNode3.sign(staking5)\n",
    "print(\"Staking operation 5\")\n",
    "node3.new_certificate(staking5)\n",
    "\n",
    "# We will generate 100 certificates for our 4 humans\n",
    "# Charlie's ones will all be invalid\n",
    "# Every certificate is randomly given to one node\n",
    "\n",
    "for i in range(20):\n",
    "    selectedHuman = humans[i % len(humans)]\n",
    "    if selectedHuman == Charlie:\n",
    "        certificate = Certificate(Alice.publicKey)\n",
    "    else:\n",
    "        certificate = Certificate(selectedHuman.publicKey)\n",
    "    selectedHuman.sign(certificate)\n",
    "    nodeIndex = int(random() * len(nodes))\n",
    "    print(f\"Node {nodes[nodeIndex].nodeIdentifier} received certificate {i + 1}\")\n",
    "    nodes[nodeIndex].new_certificate(certificate)\n",
    "    \n",
    "# Here, write a small test to verify that all blockchains (one for each node) are synchronized.\n",
    "    \n",
    "def are_nodes_synchronized(node1, node2, node3):\n",
    "    print(node1.blockchain.blockList)\n",
    "    print(node2.blockchain.blockList)\n",
    "    print(node3.blockchain.blockList)\n",
    "    return node1.blockchain == node2.blockchain == node3.blockchain\n",
    "\n",
    "    \n",
    "assert are_nodes_synchronized(node1, node2, node3)\n",
    "\n",
    "\"Assignment completed, good work!\""
   ]
  },
  {
   "cell_type": "markdown",
   "id": "54f03946",
   "metadata": {},
   "source": [
    "### Bonus — Late to the Party\n",
    "\n",
    "In our simulation, our three nodes are created simultaneously at the birth of the blockchain. Thus, when a block is forged, it is sent simultaneously to the three nodes and we never have indexing problems.\n",
    "\n",
    "However, in reality, it doesn't work that smoothly. Some nodes may join the blockchain well after the first block has been forged. So, this new node, which only has the genesis block (index 0), will reject all the blocks relayed to it because all the other nodes are already on block index 10, or 100, etc.\n",
    "\n",
    "To do things properly, the following process should be included in our `BlockchainNode` class:\n",
    "* When receiving a block, if its index is higher than the index of our last block + 1, it may mean we are behind compared to all other nodes in the network. In this case, we set this block aside until we have the missing blocks.\n",
    "* After setting a block aside, we send a request to everyone to receive the missing blocks by index.\n",
    "* If we receive a request for missing blocks, we send back to the requester the blocks we have among those requested.\n",
    "* Whenever we forge/receive a block, we check if one of the blocks set aside can be added following it. If so, we repeat this step.\n",
    "\n",
    "<font color=\"77aa77\">***Example:*** Nodes 1, 2, and 3 all have the same blockchain composed of 10 blocks. A new node joins the network: node 4. It only has the genesis block, index 0. Node 2 forges block index 11: it then transmits it to 1, 3, and 4. Nodes 1 and 3 accept it, while 4 cannot accept it because it is waiting for block index 1. Realizing its delay, it broadcasts a request to all nodes asking for blocks 1 to 10, and it sets aside block 11. Nodes 1, 2, and 3 hear its request and send blocks 1 to 10. Node 4 receives them, integrates them into its blockchain, and can thus add block 11 to them.</font>\n",
    "\n",
    "To achieve this result, you will necessarily need to send and receive an additional type of object via your portal: the block request. To keep your implementation as simple as possible, make requests for one block at a time: you can thus reduce the request to a single integer representing the index of the block to be requested. Thus, enhance your `receive_object_from_node` function to take into account integers.\n",
    "\n",
    "I recommend creating a new class to manage the set-aside blocks. However, don't worry about sending too many requests and overloading the network with information, as long as your code works, I will be happy.\n",
    "\n",
    "**You will probably need to restart the entire notebook once to make the following cell work.**"
   ]
  },
  {
   "cell_type": "code",
   "execution_count": 135,
   "id": "8a4a9093",
   "metadata": {
    "ExecuteTime": {
     "end_time": "2023-02-27T14:04:34.402742Z",
     "start_time": "2023-02-27T14:04:31.649916Z"
    }
   },
   "outputs": [
    {
     "name": "stdout",
     "output_type": "stream",
     "text": [
      "Node Node 3 received certificate 1\n",
      "Node Node 3 received certificate 2\n",
      "Node Node 2 received certificate 3\n",
      "Node Node 3 received certificate 4\n",
      "Node Node 3 received certificate 5\n",
      "Node Node 1 received certificate 6\n",
      "Node Node 2 received certificate 7\n",
      "Node Node 3 received certificate 8\n",
      "Node Node 1 received certificate 9\n",
      "Node Node 1 received certificate 10\n",
      "[<block.Block object at 0x76b970afced0>, <block.Block object at 0x76b9708a7e50>, <block.Block object at 0x76b970c489d0>, <block.Block object at 0x76b9708a69d0>, <block.Block object at 0x76b970c4bdd0>, <block.Block object at 0x76b9708a7c50>, <block.Block object at 0x76b970a9c4d0>, <block.Block object at 0x76b970afc850>, <block.Block object at 0x76b970aff250>, <block.Block object at 0x76b9708a60d0>, <block.Block object at 0x76b970e39c50>, <block.Block object at 0x76b970d1fa50>, <block.Block object at 0x76b970c4bf50>, <block.Block object at 0x76b970e38850>]\n",
      "[<block.Block object at 0x76b970aff4d0>, <block.Block object at 0x76b9708a7e50>, <block.Block object at 0x76b970c489d0>, <block.Block object at 0x76b9708a69d0>, <block.Block object at 0x76b970c4bdd0>, <block.Block object at 0x76b9708a7c50>, <block.Block object at 0x76b970a9c4d0>, <block.Block object at 0x76b970afc850>, <block.Block object at 0x76b970aff250>, <block.Block object at 0x76b9708a60d0>, <block.Block object at 0x76b970e39c50>, <block.Block object at 0x76b970d1fa50>, <block.Block object at 0x76b970c4bf50>, <block.Block object at 0x76b970e38850>]\n",
      "[<block.Block object at 0x76b970afd050>, <block.Block object at 0x76b9708a7e50>, <block.Block object at 0x76b970c489d0>, <block.Block object at 0x76b9708a69d0>, <block.Block object at 0x76b970c4bdd0>, <block.Block object at 0x76b9708a7c50>, <block.Block object at 0x76b970a9c4d0>, <block.Block object at 0x76b970afc850>, <block.Block object at 0x76b970aff250>, <block.Block object at 0x76b9708a60d0>, <block.Block object at 0x76b970e39c50>, <block.Block object at 0x76b970d1fa50>, <block.Block object at 0x76b970c4bf50>, <block.Block object at 0x76b970e38850>]\n"
     ]
    },
    {
     "data": {
      "text/plain": [
       "'Congratz for finishing this difficult bonus!'"
      ]
     },
     "execution_count": 135,
     "metadata": {},
     "output_type": "execute_result"
    }
   ],
   "source": [
    "# Let's add a 4th node to the network\n",
    "\n",
    "walletNode4 = Wallet()\n",
    "node4 = BlockchainNode(walletNode4, proofOfStake , \"Node 4 a\")\n",
    "\n",
    "# Then let's redistribute 10 certificates to trigger a block forge\n",
    "\n",
    "for i in range(10):\n",
    "    selectedHuman = humans[i % len(humans)]\n",
    "    if selectedHuman == Charlie:\n",
    "        certificate = Certificate(Alice.publicKey)\n",
    "    else:\n",
    "        certificate = Certificate(selectedHuman.publicKey)\n",
    "    selectedHuman.sign(certificate)\n",
    "    nodeIndex = int(random() * len(nodes))\n",
    "    print(f\"Node {nodes[nodeIndex].nodeIdentifier} received certificate {i + 1}\")\n",
    "    nodes[nodeIndex].new_certificate(certificate)\n",
    "    \n",
    "# We should have 4th node synchronized with the others\n",
    "    \n",
    "assert are_nodes_synchronized(node1, node2, node4)\n",
    "\n",
    "\"Congratz for finishing this difficult bonus!\""
   ]
  }
 ],
 "metadata": {
  "kernelspec": {
   "display_name": "venv",
   "language": "python",
   "name": "python3"
  },
  "language_info": {
   "codemirror_mode": {
    "name": "ipython",
    "version": 3
   },
   "file_extension": ".py",
   "mimetype": "text/x-python",
   "name": "python",
   "nbconvert_exporter": "python",
   "pygments_lexer": "ipython3",
   "version": "3.13.1"
  }
 },
 "nbformat": 4,
 "nbformat_minor": 5
}
