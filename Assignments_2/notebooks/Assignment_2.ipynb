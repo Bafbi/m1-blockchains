{
 "cells": [
  {
   "cell_type": "markdown",
   "id": "8e4df458-c2cc-420c-8f20-3080a3a4c3e1",
   "metadata": {},
   "source": [
    "# TD 2\n",
    "\n",
    "***\n",
    "\n",
    "*Blockchains as a data structure*\n",
    "\n",
    "***\n",
    "\n",
    "#### Blockchain and Applications Project\n",
    "\n",
    "As part of the evaluation for this course on Blockchain and Applications, over the next four tutorial sessions, you will **code your own blockchain**, including **Smart Contracts**. The aim of this tutorial and the next three is to *guide you step by step* in its creation.\n",
    "\n",
    "Each of the four tutorials dedicated to the project involves **implementing a set of features** that will allow you to run a **real blockchain on your computer** by the end.\n",
    "\n",
    "This **first tutorial** will involve the implementation of the **data structure**. It will build on all the concepts covered in the course.\n",
    "\n",
    "Throughout the tutorial, we will intentionally make all the fields of the blockchain public, because anyway, if they are modified, it will invalidate the rest of the blockchain."
   ]
  },
  {
   "cell_type": "code",
   "execution_count": 6,
   "id": "8698e7f2",
   "metadata": {
    "ExecuteTime": {
     "end_time": "2025-01-14T08:17:50.621621Z",
     "start_time": "2025-01-14T08:17:50.596462Z"
    }
   },
   "outputs": [
    {
     "name": "stdout",
     "output_type": "stream",
     "text": [
      "The autoreload extension is already loaded. To reload it, use:\n",
      "  %reload_ext autoreload\n"
     ]
    }
   ],
   "source": [
    "%load_ext autoreload\n",
    "%autoreload 2"
   ]
  },
  {
   "cell_type": "markdown",
   "id": "92e627cf",
   "metadata": {},
   "source": [
    "At the same time as this tutorial, you should have downloaded a folder named \"**helpers**\". It contains two important scripts that cover the implementation details of certain cryptographic functions useful for our course. These functions rely on the ```pycryptodome``` package that you installed during Tutorial 1. You do not need to read their content, but you are welcome to do so if you are interested.\n",
    "\n",
    "To summarize, and to make sure that you have the correct architecture for all the tutorials, here is how the different folders are organized:\n",
    "\n",
    "* Assingments/\n",
    "    * scripts/\n",
    "        * helpers/\n",
    "            * \\_\\_init\\_\\_.py\n",
    "            * cryptography_base.py\n",
    "            * rsa_cryptography.py\n",
    "        * *You'll put all of your scripts here*\n",
    "    * notebooks/\n",
    "        * **This notebook (Assignment_2)**\n",
    "        * ...\n",
    "    * ...\n",
    "\n",
    "***To validate this architecture, the following cell should run without error and display a beautiful hash.***"
   ]
  },
  {
   "cell_type": "code",
   "execution_count": 7,
   "id": "dd0a6806",
   "metadata": {
    "ExecuteTime": {
     "end_time": "2025-01-14T08:18:00.526799Z",
     "start_time": "2025-01-14T08:17:59.536227Z"
    }
   },
   "outputs": [
    {
     "ename": "ModuleNotFoundError",
     "evalue": "No module named 'Crypto'",
     "output_type": "error",
     "traceback": [
      "\u001b[0;31m---------------------------------------------------------------------------\u001b[0m",
      "\u001b[0;31mModuleNotFoundError\u001b[0m                       Traceback (most recent call last)",
      "Cell \u001b[0;32mIn[7], line 5\u001b[0m\n\u001b[1;32m      1\u001b[0m \u001b[38;5;28;01mfrom\u001b[39;00m\u001b[38;5;250m \u001b[39m\u001b[38;5;21;01msys\u001b[39;00m\u001b[38;5;250m \u001b[39m\u001b[38;5;28;01mimport\u001b[39;00m path\n\u001b[1;32m      3\u001b[0m path\u001b[38;5;241m.\u001b[39mappend(\u001b[38;5;124m'\u001b[39m\u001b[38;5;124m../scripts\u001b[39m\u001b[38;5;124m'\u001b[39m)           \u001b[38;5;66;03m# We add the \"scripts\" folder to our search path\u001b[39;00m\n\u001b[0;32m----> 5\u001b[0m \u001b[38;5;28;01mfrom\u001b[39;00m\u001b[38;5;250m \u001b[39m\u001b[38;5;21;01mhelpers\u001b[39;00m\u001b[38;5;250m \u001b[39m\u001b[38;5;28;01mimport\u001b[39;00m cryptography\n\u001b[1;32m      7\u001b[0m cryptography\u001b[38;5;241m.\u001b[39mhash_string(\u001b[38;5;124m'\u001b[39m\u001b[38;5;124mJUNIA\u001b[39m\u001b[38;5;124m'\u001b[39m)   \u001b[38;5;66;03m# A RSA hash function\u001b[39;00m\n",
      "File \u001b[0;32m~/school/blockchain/Assignments_2/notebooks/../scripts/helpers/__init__.py:3\u001b[0m\n\u001b[1;32m      1\u001b[0m \u001b[38;5;28;01mfrom\u001b[39;00m\u001b[38;5;250m \u001b[39m\u001b[38;5;21;01mdatetime\u001b[39;00m\u001b[38;5;250m \u001b[39m\u001b[38;5;28;01mimport\u001b[39;00m datetime\n\u001b[0;32m----> 3\u001b[0m \u001b[38;5;28;01mfrom\u001b[39;00m\u001b[38;5;250m \u001b[39m\u001b[38;5;21;01m.\u001b[39;00m\u001b[38;5;21;01mrsa_cryptography\u001b[39;00m\u001b[38;5;250m \u001b[39m\u001b[38;5;28;01mimport\u001b[39;00m RSACryptography\n\u001b[1;32m      5\u001b[0m cryptography \u001b[38;5;241m=\u001b[39m RSACryptography(\u001b[38;5;241m2048\u001b[39m)\n\u001b[1;32m      7\u001b[0m \u001b[38;5;28;01mclass\u001b[39;00m\u001b[38;5;250m \u001b[39m\u001b[38;5;21;01mtimestamp\u001b[39;00m:\n",
      "File \u001b[0;32m~/school/blockchain/Assignments_2/notebooks/../scripts/helpers/rsa_cryptography.py:1\u001b[0m\n\u001b[0;32m----> 1\u001b[0m \u001b[38;5;28;01mfrom\u001b[39;00m\u001b[38;5;250m \u001b[39m\u001b[38;5;21;01mCrypto\u001b[39;00m\u001b[38;5;21;01m.\u001b[39;00m\u001b[38;5;21;01mPublicKey\u001b[39;00m\u001b[38;5;250m \u001b[39m\u001b[38;5;28;01mimport\u001b[39;00m RSA\n\u001b[1;32m      2\u001b[0m \u001b[38;5;28;01mfrom\u001b[39;00m\u001b[38;5;250m \u001b[39m\u001b[38;5;21;01mCrypto\u001b[39;00m\u001b[38;5;21;01m.\u001b[39;00m\u001b[38;5;21;01mHash\u001b[39;00m\u001b[38;5;250m \u001b[39m\u001b[38;5;28;01mimport\u001b[39;00m SHA256\n\u001b[1;32m      3\u001b[0m \u001b[38;5;28;01mfrom\u001b[39;00m\u001b[38;5;250m \u001b[39m\u001b[38;5;21;01mCrypto\u001b[39;00m\u001b[38;5;21;01m.\u001b[39;00m\u001b[38;5;21;01mSignature\u001b[39;00m\u001b[38;5;250m \u001b[39m\u001b[38;5;28;01mimport\u001b[39;00m PKCS1_v1_5\n",
      "\u001b[0;31mModuleNotFoundError\u001b[0m: No module named 'Crypto'"
     ]
    }
   ],
   "source": [
    "from sys import path\n",
    "\n",
    "path.append('../scripts')           # We add the \"scripts\" folder to our search path\n",
    "\n",
    "from helpers import cryptography\n",
    "\n",
    "cryptography.hash_string('JUNIA')   # A RSA hash function"
   ]
  },
  {
   "cell_type": "markdown",
   "id": "a5401bd0",
   "metadata": {
    "ExecuteTime": {
     "end_time": "2023-01-02T09:51:06.334635Z",
     "start_time": "2023-01-02T09:51:06.327344Z"
    }
   },
   "source": [
    "The small module `cryptography` that I have implemented for you contains all the **cryptographic functions** you will need during the project. To see the **list of functions** available in this module, you can have them displayed **in Jupyter Notebook by pressing** `Tab` **after typing** `cryptography.` *(don't forget the period)*.\n",
    "\n",
    "> The names of the functions are clear enough to allow you to differentiate them easily. Similarly, the order of the function arguments is reflected in the name of the function. For example, the function `has_public_key_signed_this_hash` has the signature `cryptography.has_public_key_signed_this_hash(publicKey, signature, hash)`.\n",
    "\n",
    "***\n",
    "\n",
    "In addition to the cryptography module, you have a small `timestamp` module, useful for dating."
   ]
  },
  {
   "cell_type": "code",
   "execution_count": 135,
   "id": "2f1958ec",
   "metadata": {
    "ExecuteTime": {
     "end_time": "2025-01-14T08:19:06.335974Z",
     "start_time": "2025-01-14T08:19:06.317043Z"
    }
   },
   "outputs": [
    {
     "data": {
      "text/plain": [
       "1736945826941"
      ]
     },
     "execution_count": 135,
     "metadata": {},
     "output_type": "execute_result"
    }
   ],
   "source": [
    "from helpers import timestamp\n",
    "\n",
    "timestamp.now()  # Time in millisecondes since an arbitrary date"
   ]
  },
  {
   "cell_type": "markdown",
   "id": "a1fffc83",
   "metadata": {},
   "source": [
    "To ensure a good understanding of the rest of the tutorial, here is a list of elements covered in the course that we will use, along with their **variable type** and an example:\n",
    "\n",
    "* **Public Key** (`publicKey`): `string(588)` (e.g., <font color=\"bb9534\">\"5329b3ede6de58cf...\"</font>)\n",
    "* **Private Key** (`privateKey`): `string(2380)` (e.g., <font color=\"bb9534\">\"f5b38ccd9dc77221...\"</font>)\n",
    "* **Creation Date** (`timestamp`): `int` in **milliseconds** (e.g., <font color=\"2267a5\">1673183195004</font>)\n",
    "* **Signature** (`signature`): `string(512)` (e.g., <font color=\"bb9534\">\"2c290ba99465f4b5...\"</font>)\n",
    "* **Block Number in the Blockchain** (`indexInBlockchain`): `int` (e.g., <font color=\"2267a5\">1</font>)\n",
    "* **Parent Block (previous block in the blockchain)** (`parentBlockHash`): `string(64)` (e.g., <font color=\"bb9534\">\"22b46d2c579aa2c2...\"</font>)\n",
    "\n",
    "Generally, all our hashes will have a length of 64.\n",
    "\n",
    "***\n",
    "\n",
    "**Throughout this tutorial and the next three, you will mostly have coding tasks with hints available to reveal by yourself if needed. The order indicates their level of help. Try to use them only if you are really stuck.**\n",
    "\n",
    "***\n",
    "\n",
    "### Certificate\n",
    "\n",
    "We choose to call \"**certificate**\" an **arbitrary entry in the registry** of a block. It is this famous document we saw in class that is issued and signed by a single person. A certificate (`Certificate`) therefore *necessarily* contains an **issuer** (`issuerPublicKey`) and a **signature** (`signature`). Conceptually, a certificate does not need to contain data, as this depends on the type of certificate.\n",
    "\n",
    "To reinforce the conformity of a certificate, we also add its **creation date** (`timestamp`), which we choose to express in **milliseconds** for easier sorting (number of milliseconds since an arbitrary date).\n",
    "\n",
    "***\n",
    "\n",
    "<font color=\"8888CC\">Create a file `certificate.py` in the \"scripts\" folder.</font>\n",
    "\n",
    "<font color=\"8888CC\">In this file, you must create a `Certificate` class containing a constructor and public fields in accordance with the statement just above.<br/><br/> This class will serve as the base class for any registry entry you will characterize in the future (you can then build classes that inherit from `Certificate` if they are meant to be signed and stored in the blockchain).</font>\n",
    "\n",
    "<font color=\"8888CC\">The `signature` field just needs to exist, regardless of the value with which you initialize it.</font>\n",
    "\n",
    "> <details><summary><strong>Click to display help 1</strong></summary>Use the <code>timestamp</code> module that I introduced above.</details>\n",
    "\n",
    "> <details><summary><strong>Click to display help 2</strong></summary>Your constructor must take the issuer's public key <code>issuerPublicKey</code> as a parameter and initialize the fields <code>issuerPublicKey</code>, <code>timestamp</code>, and <code>signature</code>.</details>"
   ]
  },
  {
   "cell_type": "code",
   "execution_count": 136,
   "id": "95faa137",
   "metadata": {
    "ExecuteTime": {
     "end_time": "2025-01-14T08:22:05.938244Z",
     "start_time": "2025-01-14T08:22:05.914459Z"
    }
   },
   "outputs": [
    {
     "data": {
      "text/plain": [
       "'Success!'"
      ]
     },
     "execution_count": 136,
     "metadata": {},
     "output_type": "execute_result"
    }
   ],
   "source": [
    "from certificate import Certificate\n",
    "\n",
    "dummyCertificate = Certificate('9cbe2a6713')\n",
    "\n",
    "assert dummyCertificate.issuerPublicKey == '9cbe2a6713'         # The issuer is \"9cbe2a6713\"\n",
    "assert 'signature' in dummyCertificate.__dict__                 # The \"signature\" field exists\n",
    "assert dummyCertificate.timestamp                               # Date is not empty\n",
    "\n",
    "'Success!'"
   ]
  },
  {
   "cell_type": "markdown",
   "id": "c86f72c4",
   "metadata": {},
   "source": [
    "<font color=\"8888CC\">Create a `build_payload()` function in this new class that returns the certificate data that are part of its **payload**.\n",
    "\n",
    "You have the freedom to choose the return format of your function (list, dictionary, etc.) as long as it contains all the data of the payload.</font>\n",
    "\n",
    "> <details><summary><strong>Click to display help 1</strong></summary>As a reminder: the payload of a certificate corresponds to the certificate data that are considered unalterable. It represents the set of values of the document that we want to protect and that characterize the certificate. Not all the values of the certificate necessarily form part of the payload.</details>\n",
    "\n",
    "> <details><summary><strong>Click to display help 2</strong></summary>You could, for example, return a Python dictionary where the keys are the names of the fields that are part of the payload, and the values are the values of these fields.</details>\n",
    "\n",
    "> <details><summary><strong>Click to display help 3</strong></summary>If you include the signature in the payload, won't you have a problem if you sign the certificate twice?</details>"
   ]
  },
  {
   "cell_type": "code",
   "execution_count": 137,
   "id": "4f2738ba",
   "metadata": {
    "ExecuteTime": {
     "end_time": "2025-01-14T08:22:27.986587Z",
     "start_time": "2025-01-14T08:22:27.967709Z"
    }
   },
   "outputs": [
    {
     "data": {
      "text/plain": [
       "{'issuerPublicKey': '9cbe2a6713', 'timestamp': 1736945826951}"
      ]
     },
     "execution_count": 137,
     "metadata": {},
     "output_type": "execute_result"
    }
   ],
   "source": [
    "dummyCertificate.build_payload()"
   ]
  },
  {
   "cell_type": "markdown",
   "id": "25204415",
   "metadata": {},
   "source": [
    "<font color=\"8888CC\">Using this new function `build_payload()`, now introduce the function `hash()` which transforms the certificate into a hexadecimal `string` hash.\n",
    "\n",
    "Here too, you have the freedom to choose the transformation process. The main thing is that the hash should always be the same for the same payload, and vary if the payload varies.</font>\n",
    "\n",
    "> You are entirely allowed to use the built-in `str` function, even though it's not very secure, as for example `str(1.0)` and `str(1.0000000000000001)` both give `'1.0'`. `str` is a function highly dependent on the implementation of the object you are converting. Ideally, you should go through the binary representation of the objects. But I consider that to be beyond the scope of this tutorial.\n",
    "\n",
    "> <details><summary><strong>Click to display help 1</strong></summary>You need to write a function that starts from <code>build_payload()</code>, transforms this payload into a <code>string</code> in the way you wish, and then changes the <code>string</code> into a hash using the <code>cryptography</code> module.</details>\n",
    "\n",
    "> <details><summary><strong>Click to display help 2</strong></summary>If your <code>build_payload()</code> function returns a list, you can use the <code>dumps(object)</code> function from the <code>json</code> package.<br/>If it returns a dictionary, you can use it too but add the <code>sort_keys=True</code> parameter, because from one Python version to another, your elements in the dictionary will be in a different order.</details>"
   ]
  },
  {
   "cell_type": "code",
   "execution_count": 138,
   "id": "303e8512",
   "metadata": {
    "ExecuteTime": {
     "end_time": "2025-01-14T08:22:41.775429Z",
     "start_time": "2025-01-14T08:22:41.756153Z"
    }
   },
   "outputs": [
    {
     "data": {
      "text/plain": [
       "'5ce4c419b4b30411f036e1ae7eb5c4a35d6d1dff99e1ce8527b65bee7fb5e108'"
      ]
     },
     "execution_count": 138,
     "metadata": {},
     "output_type": "execute_result"
    }
   ],
   "source": [
    "dummyCertificate.hash()"
   ]
  },
  {
   "cell_type": "markdown",
   "id": "696480f1",
   "metadata": {},
   "source": [
    "To help you understand how impossible it is to find the same hash twice, even if you only slightly modify the data, observe the result of the following cell."
   ]
  },
  {
   "cell_type": "code",
   "execution_count": 139,
   "id": "d5539103",
   "metadata": {
    "ExecuteTime": {
     "end_time": "2025-01-14T08:22:43.316999Z",
     "start_time": "2025-01-14T08:22:43.297089Z"
    }
   },
   "outputs": [
    {
     "data": {
      "text/plain": [
       "'f114455fdcdc3f280dc67bcb1baa1b4b746db3c426b06bd928c6451d1a7448eb'"
      ]
     },
     "execution_count": 139,
     "metadata": {},
     "output_type": "execute_result"
    }
   ],
   "source": [
    "dummyCertificate.timestamp -= 1            # Here we only change one bit of the whole certificate\n",
    "dummyCertificate.hash()"
   ]
  },
  {
   "cell_type": "markdown",
   "id": "82defd54",
   "metadata": {},
   "source": [
    "With this `hash()` function, we now have the first of the two pieces of the puzzle to be able to cryptographically sign our certificates. The missing piece is the **private key / public key** pair.\n",
    "\n",
    "Before moving on to this missing piece, let's implement one last function that will prove very useful later on (especially for the end of the tutorial...)\n",
    "\n",
    "***\n",
    "\n",
    "<font color=\"8888CC\">Create the function `equals(otherCertificate)` that returns `True` if the certificate and `otherCertificate` are identical, and `False` otherwise.\n",
    "    \n",
    "Consider what really makes two certificates identical. You will not need to implement this function in classes that inherit from `Certificate`.</font>\n",
    "\n",
    "> <details><summary><strong>Click to display help 1</strong></summary>No need to make it complicated, there's a reason this is the function you're implementing last in this class.</details>\n",
    "\n",
    "> <details><summary><strong>Click to display help 2</strong></summary>Use the `hash()` function.</details>"
   ]
  },
  {
   "cell_type": "code",
   "execution_count": 140,
   "id": "ce12d553",
   "metadata": {
    "ExecuteTime": {
     "end_time": "2025-01-14T08:22:49.677947Z",
     "start_time": "2025-01-14T08:22:49.658182Z"
    }
   },
   "outputs": [
    {
     "data": {
      "text/plain": [
       "'Success!'"
      ]
     },
     "execution_count": 140,
     "metadata": {},
     "output_type": "execute_result"
    }
   ],
   "source": [
    "assert dummyCertificate.equals(dummyCertificate)                    # A certificate is equal to itself\n",
    "\n",
    "otherCertificate = Certificate(dummyCertificate.issuerPublicKey)\n",
    "otherCertificate.timestamp = dummyCertificate.timestamp\n",
    "assert otherCertificate.equals(dummyCertificate)                    # Two certificates having different signatures\n",
    "\n",
    "otherCertificate.issuerPublicKey = 'bbc887326a'\n",
    "otherCertificate.timestamp = 84539\n",
    "assert not otherCertificate.equals(dummyCertificate)                # Two completely different certificates\n",
    "\n",
    "\"Success!\""
   ]
  },
  {
   "cell_type": "markdown",
   "id": "6a06decb",
   "metadata": {},
   "source": [
    "### Wallet\n",
    "\n",
    "In the course, we covered how a **private key / public key pair** works, and what a wallet is, especially in the realm of cryptocurrencies. To simplify the terminology, we will keep the term \"**wallet**\" to refer to this **pair of keys**.\n",
    "\n",
    "Thus, the sole and unique role of our wallet will be to **store this pair of keys** and to **sign** using it.\n",
    "\n",
    "***\n",
    "\n",
    "<font color=\"8888CC\">Create a file `wallet.py` containing the `Wallet` class. This class should contain a private key and a public key upon creation. The public key is represented by the field `publicKey`.\n",
    "    \n",
    "**To stay true to the aspect of secrecy, ensure that the private key is as inaccessible as possible from the outside.** However, the public key should be accessible.</font>\n",
    "\n",
    "> The `cryptography` module can help you generate a pair of keys.\n",
    "\n",
    "> In Python, putting two underscores `__` at the beginning of the field name allows very restricted access to the said field. Only the internal code of the class can then access it (if one stays within a classic development framework, of course, this limit can be easily crossed with a bit more knowledge in Python...)."
   ]
  },
  {
   "cell_type": "code",
   "execution_count": 141,
   "id": "3298ef6f",
   "metadata": {
    "ExecuteTime": {
     "end_time": "2025-01-14T08:22:56.421759Z",
     "start_time": "2025-01-14T08:22:55.459863Z"
    }
   },
   "outputs": [
    {
     "data": {
      "text/plain": [
       "'30820122300d06092a864886f70d01010105000382010f003082010a0282010100b5af16d1c5ce0f9631f3c09254da4685b529d63cfe45f8b8782478f6c817760186b80762a880f5b5e5c6a5e5ab7b2175398915b0ff0672b650515485d4837e8d6b169e6af691ba9b617ede3fdd9255151405b2f8801f1cca8aa057d50655f5a87f615542f8456356d4c525219f0421911eae9c6ed41c02b64f13235fef617a61ad1417c2aa13e16754e4b93e63d99244c24c1741ff4ff19c3f80dee50b92114845cd1f8f744fa2956b0cf4f3da422ae3fdc7ab31c66a8591f73535b6e5e7d0264f847f76839c2d43aefec4e1a34f20c5ecfdc1710df73a020d7ac1c699b9de7eca415de0d144eb81fe9e88c23425229bf3eca99512cddb613a39b3dac5cb56dd0203010001'"
      ]
     },
     "execution_count": 141,
     "metadata": {},
     "output_type": "execute_result"
    }
   ],
   "source": [
    "from wallet import Wallet\n",
    "\n",
    "dummyWallet = Wallet()\n",
    "\n",
    "assert len(dummyWallet.publicKey) == 588           # We expect a RSA public key of length 588\n",
    "\n",
    "dummyWallet.publicKey"
   ]
  },
  {
   "cell_type": "markdown",
   "id": "c8d356a1",
   "metadata": {},
   "source": [
    "We only have to use our **private key** to **sign any certificate** now.\n",
    "\n",
    "***\n",
    "\n",
    "<font color=\"8888CC\">Add to the `Wallet` class a function `sign(certificate)` that takes a certificate as input and signs it. **This function does not return anything: it simply applies the signature to the certificate.**</font>\n",
    "\n",
    "> <details><summary><strong>Click to display help 1</strong></summary>You have a great function in the `cryptography` module that signs any <code>string</code>.</details>\n",
    "\n",
    "> <details><summary><strong>Click to display help 2</strong></summary>We could have implemented <code>Wallet</code> first, but to sign a certificate you first need to transform it into a <code>string</code>, something you can now do thanks to your work...</details>"
   ]
  },
  {
   "cell_type": "code",
   "execution_count": 142,
   "id": "461189b1",
   "metadata": {
    "ExecuteTime": {
     "end_time": "2025-01-14T08:23:01.556201Z",
     "start_time": "2025-01-14T08:23:01.444764Z"
    }
   },
   "outputs": [
    {
     "data": {
      "text/plain": [
       "'Success!'"
      ]
     },
     "execution_count": 142,
     "metadata": {},
     "output_type": "execute_result"
    }
   ],
   "source": [
    "dummyWallet.sign(dummyCertificate)\n",
    "\n",
    "assert dummyCertificate.signature                          # We apply the signature\n",
    "\n",
    "previousSignature = dummyCertificate.signature\n",
    "\n",
    "dummyWallet.sign(dummyCertificate)\n",
    "\n",
    "assert previousSignature == dummyCertificate.signature     # If we sign twice, the same signature should be applied\n",
    "\n",
    "'Success!'"
   ]
  },
  {
   "cell_type": "markdown",
   "id": "9843e20c",
   "metadata": {},
   "source": [
    "### Block\n",
    "\n",
    "We learned during the course that a **block** is a **set of data**, it comes **from an issuer** (the forger), and this issuer must **sign** it. Does this remind you of something?\n",
    "\n",
    "*A block is nothing more than a certificate that contains other certificates.*\n",
    "\n",
    "However, you need to add additional fields related to the use of blocks: `indexInBlockchain`, which keeps track of the block number in the blockchain, `parentBlockHash`, which refers to the block just before it in the chain (via its hash), and finally `certificateList`, which is a list containing all the certificates stored in the block (the block's data).\n",
    "\n",
    "***\n",
    "\n",
    "<font color=\"8888CC\">Following this schema, create the file `block.py` containing the `Block` class. **This class must inherit from the** `Certificate` **class, and its constructor then takes 4 parameters.**</font>\n",
    "\n",
    "> <details><summary><strong>Click to display help 1</strong></summary>The built-in function <code>super()</code> returns <code>self</code> but with the interface of the parent class (here the interface of <code>Certificate</code>). You can therefore reuse functions that you have written in the parent class, which is very useful when you want to replace them while still using them.</details>\n",
    "\n",
    "> <details><summary><strong>Click to display help 2</strong></summary>In the constructor, do not forget to call <code>super().__init__(issuerPublicKey)</code>.</details>"
   ]
  },
  {
   "cell_type": "code",
   "execution_count": 143,
   "id": "009d8916",
   "metadata": {
    "ExecuteTime": {
     "end_time": "2025-01-14T08:23:20.688608Z",
     "start_time": "2025-01-14T08:23:20.667203Z"
    }
   },
   "outputs": [
    {
     "data": {
      "text/plain": [
       "'Success!'"
      ]
     },
     "execution_count": 143,
     "metadata": {},
     "output_type": "execute_result"
    }
   ],
   "source": [
    "from block import Block\n",
    "\n",
    "dummyCertificateList = [dummyCertificate, otherCertificate]\n",
    "dummyBlock = Block('9cbe2a6713', 0, 'void', dummyCertificateList)\n",
    "\n",
    "assert dummyBlock.__class__.__bases__[-1].__name__ == \"Certificate\" # Our block is a certificate\n",
    "assert dummyBlock.issuerPublicKey == '9cbe2a6713'                   # The issuer is \"9cbe2a6713\"\n",
    "assert dummyBlock.indexInBlockchain == 0                            # The index is 0\n",
    "assert dummyBlock.parentBlockHash == 'void'                         # The parent is the block of hash \"void\" \n",
    "assert len(dummyBlock.certificateList) == 2                         # The block contains 2 certificates\n",
    "\n",
    "'Success!'"
   ]
  },
  {
   "cell_type": "markdown",
   "id": "bbfeb299",
   "metadata": {},
   "source": [
    "<font color=\"222277\">Still in the `Block` class, rewrite (override) the `build_payload()` function to include the block's data.</font>\n",
    "\n",
    "> <details><summary><strong>Click to display help 1</strong></summary>Be careful to have in the block's payload the payloads of its certificates and not the certificates directly.</details>\n",
    "\n",
    "> <details><summary><strong>Click to display help 2</strong></summary>This function already exists in `Certificate`, so you need to redefine it, but inside it, you must also call the base function by writing `super().build_payload()`</details>"
   ]
  },
  {
   "cell_type": "code",
   "execution_count": 144,
   "id": "a79f63d4",
   "metadata": {
    "ExecuteTime": {
     "end_time": "2025-01-14T08:23:39.933670Z",
     "start_time": "2025-01-14T08:23:39.915154Z"
    }
   },
   "outputs": [
    {
     "data": {
      "text/plain": [
       "{'issuerPublicKey': '9cbe2a6713',\n",
       " 'timestamp': 1736945827132,\n",
       " 'indexInBlockchain': 0,\n",
       " 'parentBlockHash': 'void',\n",
       " 'certificateList': [{'issuerPublicKey': '9cbe2a6713',\n",
       "   'timestamp': 1736945826950},\n",
       "  {'issuerPublicKey': 'bbc887326a', 'timestamp': 84539}]}"
      ]
     },
     "execution_count": 144,
     "metadata": {},
     "output_type": "execute_result"
    }
   ],
   "source": [
    "dummyBlock.build_payload()"
   ]
  },
  {
   "cell_type": "markdown",
   "id": "8c2772d0",
   "metadata": {},
   "source": [
    "You don't need to rewrite the `hash()` function since it is based exclusively on the `build_payload()` function which you have already completed."
   ]
  },
  {
   "cell_type": "code",
   "execution_count": 145,
   "id": "4fb04746",
   "metadata": {
    "ExecuteTime": {
     "end_time": "2025-01-14T08:23:40.797485Z",
     "start_time": "2025-01-14T08:23:40.779009Z"
    }
   },
   "outputs": [
    {
     "data": {
      "text/plain": [
       "'9f1532c3d41a9381d45e94ebef315eaed1cbdd2bf655474bdac105d22eb24a56'"
      ]
     },
     "execution_count": 145,
     "metadata": {},
     "output_type": "execute_result"
    }
   ],
   "source": [
    "dummyBlock.hash()"
   ]
  },
  {
   "cell_type": "markdown",
   "id": "2953cfba",
   "metadata": {},
   "source": [
    "### Blockchain\n",
    "\n",
    "We have implemented blocks and certificates, and thanks to our wallet, we are capable of signing all of this. We now need to create our **blockchain** so that we can add our freshly generated blocks to it.\n",
    "\n",
    "***\n",
    "\n",
    "<font color=\"8888CC\">Create the file `blockchain.py`. In this file, implement the `Blockchain` class, with a public field `blockList` that contains the list of blocks in their index order and the appropriate constructor.\n",
    "\n",
    "Remember that a blockchain is **never empty**; it always has at least one specific block we talked about in class...</font>\n",
    "\n",
    "> <details><summary><strong>Click to display help 1</strong></summary>Initialize <code>blockList</code> with the genesis block.</details>\n",
    "\n",
    "> <details><summary><strong>Click to display help 2</strong></summary>The genesis block can contain anything, as long as it's always the same from one blockchain to another.</details>"
   ]
  },
  {
   "cell_type": "code",
   "execution_count": 146,
   "id": "34d1c9f3",
   "metadata": {
    "ExecuteTime": {
     "end_time": "2025-01-14T08:23:47.276147Z",
     "start_time": "2025-01-14T08:23:47.254189Z"
    }
   },
   "outputs": [
    {
     "data": {
      "text/plain": [
       "'Success!'"
      ]
     },
     "execution_count": 146,
     "metadata": {},
     "output_type": "execute_result"
    }
   ],
   "source": [
    "from blockchain import Blockchain\n",
    "\n",
    "dummyBlockchain = Blockchain()\n",
    "\n",
    "assert len(dummyBlockchain.blockList) == 1    # I expected 1 block here, which we have seen in class\n",
    "\n",
    "\"Success!\""
   ]
  },
  {
   "cell_type": "markdown",
   "id": "d1388991",
   "metadata": {},
   "source": [
    "<font color=\"8888CC\">Implement a small function `get_latest_block()` that returns the last block of the blockchain. This function is a luxury that will make the code easier to understand for the reader.</font>\n",
    "\n",
    "> <details><summary><strong>Click to display help</strong></summary>Do you really need help for a function that is just 1 line long? ;)</details>"
   ]
  },
  {
   "cell_type": "code",
   "execution_count": 147,
   "id": "1e3adc93",
   "metadata": {
    "ExecuteTime": {
     "end_time": "2025-01-14T08:23:48.628825Z",
     "start_time": "2025-01-14T08:23:48.610987Z"
    }
   },
   "outputs": [
    {
     "data": {
      "text/plain": [
       "{'issuerPublicKey': '000000000000000000000000000000000000000000000000000000000000000000000000000000000000000000000000000000000000000000000000000000000000000000000000000000000000000000000000000000000000000000000000000000000000000000000000000000000000000000000000000000000000000000000000000000000000000000000000000000000000000000000000000000000000000000000000000000000000000000000000000000000000000000000000000000000000000000000000000000000000000000000000000000000000000000000000000000000000000000000000000000000000000000000000000000000000000000000000000000000000000000000000000000000000000000000000000000000000',\n",
       " 'timestamp': 1736945827169,\n",
       " 'indexInBlockchain': 0,\n",
       " 'parentBlockHash': '0000000000000000000000000000000000000000000000000000000000000000',\n",
       " 'certificateList': []}"
      ]
     },
     "execution_count": 147,
     "metadata": {},
     "output_type": "execute_result"
    }
   ],
   "source": [
    "dummyBlockchain.get_latest_block().build_payload()"
   ]
  },
  {
   "cell_type": "code",
   "execution_count": 151,
   "id": "6436c0fb",
   "metadata": {},
   "outputs": [
    {
     "data": {
      "text/plain": [
       "True"
      ]
     },
     "execution_count": 151,
     "metadata": {},
     "output_type": "execute_result"
    }
   ],
   "source": [
    "dummyBlockchain.get_latest_block().is_legit()"
   ]
  },
  {
   "cell_type": "markdown",
   "id": "83aa0247",
   "metadata": {},
   "source": [
    "### Blockchain Corruption\n",
    "\n",
    "Continuing with the goal of helping you realize the **inherent security of the blockchain**, the `blockList` field of the `Blockchain` class has been **intentionally made public** so that you can **completely modify it**. Therefore, I will not ask you to implement functions for adding or removing blocks (removal being forbidden anyway).\n",
    "\n",
    "Following this logic, it is still necessary to be able to **verify that a blockchain has not been corrupted**, whether by the addition of bad blocks or the alteration of data in older blocks.\n",
    "\n",
    "***\n",
    "\n",
    "<font color=\"8888CC\">In the `Certificate`, `Block`, and `Blockchain` classes, implement the function `is_legit()` that returns `True` if the object in question is legal and `False` if it is corrupted. **I expect these functions to test all possibilities of data corruption.**\n",
    "\n",
    "Some examples of data corruption:\n",
    "* The signature is not valid\n",
    "* The blocks are poorly indexed\n",
    "* etc...\n",
    "\n",
    "Find the others!</font>\n",
    "\n",
    "> The following validation cell shows you the classic process of using the blockchain.\n",
    "\n",
    "> <details><summary><strong>Click to display help for </strong><code>Certificate</code></summary>With your implementation of the `Certificate` class, you don't have many things to test. Just ensure that the signature is valid.</details>\n",
    "\n",
    "> <details><summary><strong>Click to display help for </strong><code>Block</code></summary>Remember that a block is a certificate that contains a list of certificates, nothing more.</details>\n",
    "\n",
    "> <details><summary><strong>Click to display help for </strong><code>Blockchain</code></summary>This is the biggest part, as you need to ensure the validity of all the blocks as well as that the blocks are properly chained and indexed. Don't forget to treat the genesis block differently.</details>"
   ]
  },
  {
   "cell_type": "code",
   "execution_count": 152,
   "id": "ab1019ba",
   "metadata": {
    "ExecuteTime": {
     "end_time": "2025-01-14T08:24:14.385169Z",
     "start_time": "2025-01-14T08:24:14.089621Z"
    }
   },
   "outputs": [
    {
     "data": {
      "text/plain": [
       "'Assignment completed! Congratz!'"
      ]
     },
     "execution_count": 152,
     "metadata": {},
     "output_type": "execute_result"
    }
   ],
   "source": [
    "walletAlice = Wallet()\n",
    "publicKeyAlice = walletAlice.publicKey\n",
    "\n",
    "certificateAlice1 = Certificate(publicKeyAlice)\n",
    "walletAlice.sign(certificateAlice1)\n",
    "\n",
    "certificateAlice2 = Certificate(publicKeyAlice)\n",
    "walletAlice.sign(certificateAlice2)\n",
    "\n",
    "blockchain = Blockchain()\n",
    "\n",
    "latestBlock = blockchain.get_latest_block()\n",
    "block1 = Block(publicKeyAlice, latestBlock.indexInBlockchain + 1, latestBlock.hash(), [certificateAlice1])\n",
    "walletAlice.sign(block1)\n",
    "blockchain.blockList.append(block1)\n",
    "\n",
    "latestBlock = blockchain.get_latest_block()\n",
    "block2 = Block(publicKeyAlice, latestBlock.indexInBlockchain + 1, latestBlock.hash(), [certificateAlice2])\n",
    "walletAlice.sign(block2)\n",
    "blockchain.blockList.append(block2)\n",
    "\n",
    "assert blockchain.is_legit()\n",
    "\n",
    "certificateAlice1.timestamp -= 1\n",
    "\n",
    "assert not blockchain.is_legit()\n",
    "\n",
    "\"Assignment completed! Congratz!\""
   ]
  },
  {
   "cell_type": "markdown",
   "id": "66267e06",
   "metadata": {},
   "source": [
    "***\n",
    "***\n",
    "\n",
    "# Bonus\n",
    "\n",
    "The following two exercises are only bonus points for this assignment. If you choose not to do them, it will have no impact on your future work.\n",
    "\n",
    "If you attempt them but everything is incorrect, I will not take it into consideration at all, so feel free to give them a try (if anything, it might be worth it)."
   ]
  },
  {
   "cell_type": "markdown",
   "id": "263634a5",
   "metadata": {},
   "source": [
    "### Bonus 1: Readable Blockchain Display\n",
    "\n",
    "For the 3rd assignment, you will likely need to regularly check or debug the data in your blockchain. To make your life easier, we will write some functions to display the entire blockchain in a readable way.\n",
    "\n",
    "<font color=\"8888CC\">For each of the classes `Wallet`, `Certificate`, `Block`, and `Blockchain`, implement the `display()` function. It should provide you with a visual representation of all the important information of the respective object. I won't impose any specific format; you can do it your way.</font>\n",
    "\n",
    "> Don't hesitate to have them call each other when possible to save time.\n",
    "\n",
    "> You can use the `dumps` function from the `json` package, or simply return something that is not a `string` because Jupyter Notebook formats dictionaries very nicely..."
   ]
  },
  {
   "cell_type": "code",
   "execution_count": 154,
   "id": "dc2459db",
   "metadata": {
    "ExecuteTime": {
     "end_time": "2025-01-14T08:24:24.566077Z",
     "start_time": "2025-01-14T08:24:24.544341Z"
    }
   },
   "outputs": [
    {
     "name": "stdout",
     "output_type": "stream",
     "text": [
      "Public key: 30820122300d06092a864886f70d01010105000382010f003082010a0282010100c4b8960db6a88207d04c08989cb0613ce7f72f5b354e59ca39fc2f750ec494dac285c2c411b4277ea5f362b7ad526d018091eedc89794d90883a655b668642c8a45f9786bc5daae76face252c8ada6902e620fdecd1a6eb3fe9848d924856f628e5894f33bafe282ff8c7943984fc0af639068555bfa6ff6b0238d9c4689f1250b2792c3b78f132a53e9374c83d4b0b76e846b0e5dc7a538db5bbcf4795d452122fc62149efc7afb3a71be9b71736f1786653bcbfa41b3ed7b517f6795508d6413924a90b3c7c4a44c30f6913edb07b8dffef96fe229f619c16f25fb340ea5b43dab94529e0211ba96d1621a7df2cd404c9025d4e3782c202230c7040b55bad90203010001\n",
      "Private key: 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\n",
      "\n"
     ]
    }
   ],
   "source": [
    "walletAlice.display()"
   ]
  },
  {
   "cell_type": "code",
   "execution_count": 156,
   "id": "64b78386",
   "metadata": {
    "ExecuteTime": {
     "end_time": "2025-01-14T08:24:24.779216Z",
     "start_time": "2025-01-14T08:24:24.757540Z"
    }
   },
   "outputs": [
    {
     "name": "stdout",
     "output_type": "stream",
     "text": [
      "Issuer public key: 000000000000000000000000000000000000000000000000000000000000000000000000000000000000000000000000000000000000000000000000000000000000000000000000000000000000000000000000000000000000000000000000000000000000000000000000000000000000000000000000000000000000000000000000000000000000000000000000000000000000000000000000000000000000000000000000000000000000000000000000000000000000000000000000000000000000000000000000000000000000000000000000000000000000000000000000000000000000000000000000000000000000000000000000000000000000000000000000000000000000000000000000000000000000000000000000000000000000\n",
      "Signature: None\n",
      "Timestamp: 1736946169389\n",
      "Hash: cdd0955c2fba3893f1ac7380a8ba59d45eae207f51d6f6b2677bcf31007e0588\n",
      "Is legit: True\n",
      "\n",
      "\n",
      "Issuer public key: 30820122300d06092a864886f70d01010105000382010f003082010a0282010100c4b8960db6a88207d04c08989cb0613ce7f72f5b354e59ca39fc2f750ec494dac285c2c411b4277ea5f362b7ad526d018091eedc89794d90883a655b668642c8a45f9786bc5daae76face252c8ada6902e620fdecd1a6eb3fe9848d924856f628e5894f33bafe282ff8c7943984fc0af639068555bfa6ff6b0238d9c4689f1250b2792c3b78f132a53e9374c83d4b0b76e846b0e5dc7a538db5bbcf4795d452122fc62149efc7afb3a71be9b71736f1786653bcbfa41b3ed7b517f6795508d6413924a90b3c7c4a44c30f6913edb07b8dffef96fe229f619c16f25fb340ea5b43dab94529e0211ba96d1621a7df2cd404c9025d4e3782c202230c7040b55bad90203010001\n",
      "Signature: 82e897fcdfc7029917253ad3ad2f2d9f26bcce0b84652b9f187f406e2c671846773757fcb82d345bf276158f0168468b5ea15a4e91b7c44903712d19cbf3bfec72bec1af15ffc1c6bafb5dc94347cc945f8031fd8993dbf0680917a9382dbf48fcf4c26fc7db07ea59875938150ce38efb57b99ddb10c8dbad66b7a8b1c2582feefcc51071630b6bf9dc7fc03bd6ffa8fd54ae467571cae43d4dc1bcd61db37f5b1c7a13843b0750db5a905900e927028f1e0ce191c3693dcb44e2774e9bee68b2f97f9908544d004f5785fb80ecd55e9420c8d84208514d21e21b230e6cfcab01d2ee9c3155db7cf102e4f992857a7ea0b1a1158a9298a3b093b40006d63f3c\n",
      "Timestamp: 1736946169389\n",
      "Hash: 5f5f500277b24f4e5c7dd071a40b39f5634cde45b8445a1673bb7a5eacdc2eb5\n",
      "Is legit: False\n",
      "\n",
      "\n",
      "Issuer public key: 30820122300d06092a864886f70d01010105000382010f003082010a0282010100c4b8960db6a88207d04c08989cb0613ce7f72f5b354e59ca39fc2f750ec494dac285c2c411b4277ea5f362b7ad526d018091eedc89794d90883a655b668642c8a45f9786bc5daae76face252c8ada6902e620fdecd1a6eb3fe9848d924856f628e5894f33bafe282ff8c7943984fc0af639068555bfa6ff6b0238d9c4689f1250b2792c3b78f132a53e9374c83d4b0b76e846b0e5dc7a538db5bbcf4795d452122fc62149efc7afb3a71be9b71736f1786653bcbfa41b3ed7b517f6795508d6413924a90b3c7c4a44c30f6913edb07b8dffef96fe229f619c16f25fb340ea5b43dab94529e0211ba96d1621a7df2cd404c9025d4e3782c202230c7040b55bad90203010001\n",
      "Signature: 183b1c2b2ecc9191d38aa608aa7081d2176bb229cb9db38b806bef1a19663cc11b3c071a36f84b803f01d52c0ee4fa014bf9bed74c1c86338c55f722c8873f620f69a49a2d792cd0d191b388a96dc95cba1a2893083b111c83f2eea43b9807ccad62e8b78780e1ecd153508ee3cf1e9fd02a0e21c173f319a0448bd926abef8242498956d66a65342223ddd297f85b89aff2048296882abe27c905ae6f022f43cda665fab3c69d1ffb6aef506c06af8b5173d52c0764dc4c9cce6092ca6657d901f8740bdda75916093f58aec4a9cf75128dcd89ef23bf479cbea1947a4f0534cdba57a2834b045a10c01985890e7b7927858c416daa5ce5db300783c942a85e\n",
      "Timestamp: 1736946169411\n",
      "Hash: d20b78c3c621f265a6e60a3b21cbff6c8e11051cffd06084a0b5832bf8932f57\n",
      "Is legit: True\n",
      "\n",
      "\n"
     ]
    },
    {
     "name": "stderr",
     "output_type": "stream",
     "text": [
      "[autoreload of block failed: Traceback (most recent call last):\n",
      "  File \"/home/bafbi/school/blockchain/Assignments_2/venv/lib/python3.13/site-packages/IPython/extensions/autoreload.py\", line 276, in check\n",
      "    superreload(m, reload, self.old_objects)\n",
      "    ~~~~~~~~~~~^^^^^^^^^^^^^^^^^^^^^^^^^^^^^\n",
      "  File \"/home/bafbi/school/blockchain/Assignments_2/venv/lib/python3.13/site-packages/IPython/extensions/autoreload.py\", line 500, in superreload\n",
      "    update_generic(old_obj, new_obj)\n",
      "    ~~~~~~~~~~~~~~^^^^^^^^^^^^^^^^^^\n",
      "  File \"/home/bafbi/school/blockchain/Assignments_2/venv/lib/python3.13/site-packages/IPython/extensions/autoreload.py\", line 397, in update_generic\n",
      "    update(a, b)\n",
      "    ~~~~~~^^^^^^\n",
      "  File \"/home/bafbi/school/blockchain/Assignments_2/venv/lib/python3.13/site-packages/IPython/extensions/autoreload.py\", line 349, in update_class\n",
      "    if update_generic(old_obj, new_obj):\n",
      "       ~~~~~~~~~~~~~~^^^^^^^^^^^^^^^^^^\n",
      "  File \"/home/bafbi/school/blockchain/Assignments_2/venv/lib/python3.13/site-packages/IPython/extensions/autoreload.py\", line 397, in update_generic\n",
      "    update(a, b)\n",
      "    ~~~~~~^^^^^^\n",
      "  File \"/home/bafbi/school/blockchain/Assignments_2/venv/lib/python3.13/site-packages/IPython/extensions/autoreload.py\", line 309, in update_function\n",
      "    setattr(old, name, getattr(new, name))\n",
      "    ~~~~~~~^^^^^^^^^^^^^^^^^^^^^^^^^^^^^^^\n",
      "ValueError: build_payload() requires a code object with 0 free vars, not 1\n",
      "]\n"
     ]
    }
   ],
   "source": [
    "blockchain.display()"
   ]
  },
  {
   "cell_type": "markdown",
   "id": "9851fde9",
   "metadata": {},
   "source": [
    "### Bonus 2: TD 2 Report\n",
    "\n",
    "To properly conclude this 2nd assignment and to help you understand why such a data structure is impossible to modify without causing complete corruption of the blockchain, I invite you to \"mistreat\" your implementation. Create situations of corruption that you find interesting and test how your blockchain reacts in these situations.\n",
    "\n",
    "**Imagine having to sell such technology to a major client. You must convince them, through a written report in the form of a Notebook, and with concrete examples, that your technology is unbreakable.**\n",
    "\n",
    "<font color=\"8888CC\">Create a new Notebook for this report. To do this, in the main tab of Jupyter Notebook, in the upper right corner, there is a ```New``` button. Click on it and select the ```Python 3``` kernel.</font>\n",
    "\n",
    "> I recommend generating 2 wallets to get interesting situations. Also, draw inspiration from what we have seen in class.\n",
    "\n",
    "> If you want to format the text you include in this Notebook, I suggest you take inspiration from the texts in this Notebook by double-clicking on one of the texts to see the source code. At the top of the Notebook, you can change the type of a cell by replacing ```Code``` with ```Markdown```."
   ]
  },
  {
   "cell_type": "code",
   "execution_count": 1,
   "id": "b5443719",
   "metadata": {},
   "outputs": [
    {
     "ename": "NameError",
     "evalue": "name 'Wallet' is not defined",
     "output_type": "error",
     "traceback": [
      "\u001b[0;31m---------------------------------------------------------------------------\u001b[0m",
      "\u001b[0;31mNameError\u001b[0m                                 Traceback (most recent call last)",
      "Cell \u001b[0;32mIn[1], line 2\u001b[0m\n\u001b[1;32m      1\u001b[0m \u001b[38;5;66;03m# Scenario 1: Tampering with a Certificate's Data\u001b[39;00m\n\u001b[0;32m----> 2\u001b[0m walletBob \u001b[38;5;241m=\u001b[39m \u001b[43mWallet\u001b[49m()\n\u001b[1;32m      3\u001b[0m publicKeyBob \u001b[38;5;241m=\u001b[39m walletBob\u001b[38;5;241m.\u001b[39mpublicKey\n\u001b[1;32m      5\u001b[0m certificateBob \u001b[38;5;241m=\u001b[39m Certificate(publicKeyBob)\n",
      "\u001b[0;31mNameError\u001b[0m: name 'Wallet' is not defined"
     ]
    }
   ],
   "source": [
    "# Scenario 1: Tampering with a Certificate's Data\n",
    "walletBob = Wallet()\n",
    "publicKeyBob = walletBob.publicKey\n",
    "\n",
    "certificateBob = Certificate(publicKeyBob)\n",
    "walletBob.sign(certificateBob)\n",
    "\n",
    "blockchain = Blockchain()\n",
    "\n",
    "latestBlock = blockchain.get_latest_block()\n",
    "block = Block(publicKeyBob, latestBlock.indexInBlockchain + 1, latestBlock.hash(), [certificateBob])\n",
    "walletBob.sign(block)\n",
    "blockchain.blockList.append(block)\n",
    "\n",
    "# Tamper with the certificate's data\n",
    "certificateBob.timestamp -= 1\n",
    "\n",
    "print(\"Scenario 1: Tampering with a Certificate's Data\")\n",
    "print(\"Is the blockchain legit?\", blockchain.is_legit())\n",
    "\n",
    "# Scenario 2: Tampering with a Block's Data\n",
    "certificateBob2 = Certificate(publicKeyBob)\n",
    "walletBob.sign(certificateBob2)\n",
    "\n",
    "latestBlock = blockchain.get_latest_block()\n",
    "block2 = Block(publicKeyBob, latestBlock.indexInBlockchain + 1, latestBlock.hash(), [certificateBob2])\n",
    "walletBob.sign(block2)\n",
    "blockchain.blockList.append(block2)\n",
    "\n",
    "# Tamper with the block's data\n",
    "block2.indexInBlockchain += 1\n",
    "\n",
    "print(\"\\nScenario 2: Tampering with a Block's Data\")\n",
    "print(\"Is the blockchain legit?\", blockchain.is_legit())\n",
    "\n",
    "# Scenario 3: Tampering with the Blockchain's Structure\n",
    "blockchain.blockList.pop()  # Remove the last block\n",
    "\n",
    "print(\"\\nScenario 3: Tampering with the Blockchain's Structure\")\n",
    "print(\"Is the blockchain legit?\", blockchain.is_legit())"
   ]
  }
 ],
 "metadata": {
  "kernelspec": {
   "display_name": "venv",
   "language": "python",
   "name": "python3"
  },
  "language_info": {
   "codemirror_mode": {
    "name": "ipython",
    "version": 3
   },
   "file_extension": ".py",
   "mimetype": "text/x-python",
   "name": "python",
   "nbconvert_exporter": "python",
   "pygments_lexer": "ipython3",
   "version": "3.13.1"
  }
 },
 "nbformat": 4,
 "nbformat_minor": 5
}
