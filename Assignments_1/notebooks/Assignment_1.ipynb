{
 "cells": [
  {
   "cell_type": "markdown",
   "id": "b3e4bba2",
   "metadata": {},
   "source": [
    "# Assignment 1\n",
    "\n",
    "***\n",
    "\n",
    "*Notebook manipulation tutorial and base Python exercises*\n",
    "\n",
    "***\n",
    "\n",
    "#### Using a notebook\n",
    "\n",
    "Jupyter Notebook allows us to manipulate files called \"*Notebooks*\". Those are documents which can be described as a **mix between code and markdown text**. But its main interest, other than being very useful for learning, is that you can write down code **in cells in a more readable and straightforward manner**.\n",
    "\n",
    "You can picture yourself the use of Notebooks as both a **draft** where you can write \"spaghetti\" code, and as a **report** allowing the execution of code between written text statements.\n",
    "***\n",
    "\n",
    "We will now see how to execute Python code. The **cell** right below this text can be selected by **clicking** on it. Select it, then press **Shift+Enter** to execute its Python code."
   ]
  },
  {
   "cell_type": "code",
   "execution_count": 1,
   "id": "f319585a",
   "metadata": {
    "ExecuteTime": {
     "end_time": "2022-12-29T10:23:25.399780Z",
     "start_time": "2022-12-29T10:23:25.392492Z"
    }
   },
   "outputs": [
    {
     "data": {
      "text/plain": [
       "'3.13.1 (main, Dec  4 2024, 18:05:56) [GCC 14.2.1 20240910]'"
      ]
     },
     "execution_count": 1,
     "metadata": {},
     "output_type": "execute_result"
    }
   ],
   "source": [
    "import sys\n",
    "\n",
    "sys.version"
   ]
  },
  {
   "cell_type": "markdown",
   "id": "42931117",
   "metadata": {},
   "source": [
    "You may have noticed several things:\n",
    "* A new line appeared, as well as a number between brackets. The number tells the amount of cells that have been executed since the notebook started, and the output text displays the result of **the last line of code that was executed** (the ```return``` or ```print``` keywords are not needed). In the above cell, we thus display the current Python version, in a unformatted manner.\n",
    "* The next cell (this one, with text) has automatically been selected. To avoid selection change when executing a cell (for example, if you want to execute a cell manually multiple times), use **Ctrl+Enter** instead of Shift+Enter.\n",
    "***\n",
    "You absolutely can use ```print``` in your code at any time to display more than one line. If your cell's last line does not \"return\" anything, no output line will be created."
   ]
  },
  {
   "cell_type": "code",
   "execution_count": 2,
   "id": "30fc5cec",
   "metadata": {
    "ExecuteTime": {
     "end_time": "2022-12-29T10:44:56.791244Z",
     "start_time": "2022-12-29T10:44:56.787893Z"
    }
   },
   "outputs": [
    {
     "name": "stdout",
     "output_type": "stream",
     "text": [
      "3.13.1 (main, Dec  4 2024, 18:05:56) [GCC 14.2.1 20240910]\n",
      "———————\n",
      "This last line does not return anything\n"
     ]
    }
   ],
   "source": [
    "print(sys.version)\n",
    "print('———————')\n",
    "print('This last line does not return anything')"
   ]
  },
  {
   "cell_type": "markdown",
   "id": "c7ea40d6-af7c-4150-a1bb-e64be901694f",
   "metadata": {},
   "source": [
    "For each of the assignments in this Blockchain module, you will get a notebook like this one, explaining every step. But you will also have to create and code separate Python code in dedicated ```.py``` files. The ```scripts``` folder that you downloaded serves that purpose: you will create every ```.py``` file there.\n",
    "\n",
    "For your notebooks to find your scripts (in the ```scripts``` folder), you need to tell it where it is, using the next cell (which will be available at the start of each assignment)."
   ]
  },
  {
   "cell_type": "code",
   "execution_count": 3,
   "id": "50868cdf-4ce1-4de1-9a0c-a9f488da48c8",
   "metadata": {},
   "outputs": [],
   "source": [
    "from sys import path\n",
    "\n",
    "path.append('../scripts')"
   ]
  },
  {
   "cell_type": "markdown",
   "id": "3246dc57",
   "metadata": {},
   "source": [
    "You will import your scripts (modules) into the Notebook using the import keyword. Since imported modules are not automatically reloaded when you make changes to them, the following cell enables automatic re-importation of modules so that you don't have to restart the entire Notebook after every modification."
   ]
  },
  {
   "cell_type": "code",
   "execution_count": 4,
   "id": "3e72e302",
   "metadata": {
    "ExecuteTime": {
     "end_time": "2022-12-29T13:09:27.065375Z",
     "start_time": "2022-12-29T13:09:27.036751Z"
    }
   },
   "outputs": [],
   "source": [
    "%load_ext autoreload\n",
    "%autoreload 2"
   ]
  },
  {
   "cell_type": "markdown",
   "id": "cd480d52",
   "metadata": {},
   "source": [
    "> **For the curious** : The % symbol at the beginning of a cell invokes Jupyter Notebook \"magic commands.\" There are many different ones. Another example of a useful magic command is the ```%time``` command, which displays the total execution time of a line of code.\n",
    "\n",
    "If, despite everything, you need to restart your Notebook for any reason, just click the <font size=\"5\">↻</font> button at the top of the page.\n",
    "***\n",
    "You are now ready to begin! To brush up on your Python skills, here are five exercises for you to solve. For each exercise, fill in the associated ```.py``` file and validate your code by running the cells in this Notebook.\n",
    "\n",
    "**If at any point you’re unsure about the syntax to use for a particular Python feature, feel free to either ask me or consult the internet. The purpose of these exercises is to refresh your memory.**"
   ]
  },
  {
   "cell_type": "markdown",
   "id": "587fa631",
   "metadata": {},
   "source": [
    "## Exercise 1 – Hashing\n",
    "\n",
    "One of the foundations of modern cryptography is **hashing**. We will explore hashing in more detail in the second course, *Blockchain and Applications*.\n",
    "\n",
    "In the meantime, the essential thing to know is that a hashing function can, for example, transform a character string (a ```string``` or ```str``` in Python) into any integer value.\n",
    "\n",
    "For this exercise, we will implement a very basic form of hashing.\n",
    "***\n",
    "<font color=\"222277\">In the ```scripts``` folder you downloaded, create a file named ```hash.py```. Open it (with Jupyter Notebook, Sublime Text, or the IDE of your choice) and write a function called ```simple_hash(string)``` that transforms a string into an integer as follows:\n",
    "\n",
    "* Initialize the integer to 0.\n",
    "* For each character in the string:\n",
    "  * Add the ASCII value (```ord()```) of the character to the integer.\n",
    "  * Scramble the bits of the integer by using the XOR operator (```^```) between the integer and itself multiplied by 31.\n",
    "  * Take the integer modulo 2 to the power of 32 to avoid having too many bits (in Python, there is *almost* no limit).\n",
    "* Return the integer obtained after processing all the characters of the string.</font>"
   ]
  },
  {
   "cell_type": "code",
   "execution_count": 5,
   "id": "a531a593",
   "metadata": {
    "ExecuteTime": {
     "end_time": "2022-12-29T13:46:38.972457Z",
     "start_time": "2022-12-29T13:46:38.951897Z"
    }
   },
   "outputs": [
    {
     "data": {
      "text/plain": [
       "1163252254"
      ]
     },
     "execution_count": 5,
     "metadata": {},
     "output_type": "execute_result"
    }
   ],
   "source": [
    "from hash import simple_hash\n",
    "\n",
    "simple_hash('Hello World!')"
   ]
  },
  {
   "cell_type": "markdown",
   "id": "9efc82c9",
   "metadata": {},
   "source": [
    "##### Validate your implementation using the following cell. If it displays \"**Complete!**\" it means you properly implemented the exercise."
   ]
  },
  {
   "cell_type": "code",
   "execution_count": 6,
   "id": "06fad532",
   "metadata": {
    "ExecuteTime": {
     "end_time": "2022-12-29T13:48:05.073870Z",
     "start_time": "2022-12-29T13:48:05.050814Z"
    }
   },
   "outputs": [
    {
     "data": {
      "text/plain": [
       "'Complete!'"
      ]
     },
     "execution_count": 6,
     "metadata": {},
     "output_type": "execute_result"
    }
   ],
   "source": [
    "assert simple_hash('JUNIA') == 2268132318\n",
    "assert simple_hash('Bitcoin') == 2028574072\n",
    "assert simple_hash('⍺βƔΔε') == 3299468638\n",
    "\n",
    "'Complete!'"
   ]
  },
  {
   "cell_type": "markdown",
   "id": "ce5e812a",
   "metadata": {},
   "source": [
    "## Exercise 2 – SUSHI\n",
    "\n",
    "You’re a fan of the SUSHI cryptocurrency, and no other cryptocurrency interests you. You don’t understand why people care about Bitcoin or Ethereum when the future of humanity clearly revolves around SUSHI. Well, each to their own.\n",
    "\n",
    "You only want to receive news about the SUSHI cryptocurrency, so to sort through the constant flow of news about all cryptocurrencies, you decide to code a filter that will only deliver news about SUSHI.\n",
    "***\n",
    "<font color=\"222277\">In a new file called ```news.py```, write a class ```News``` whose constructor takes a piece of text representing the news title (a ```str```). It should have a public field named ```header``` that holds this title.</font>\n",
    "\n",
    "<font color=\"222277\">Add a function ```is_about_token(tokenName)``` that takes as a parameter the name of a cryptocurrency (token) and returns ```true``` if the cryptocurrency’s name is present in the news title.</font>\n",
    "\n",
    "###### Validate your implementation using the following cell."
   ]
  },
  {
   "cell_type": "code",
   "execution_count": 15,
   "id": "597b3cf8",
   "metadata": {
    "ExecuteTime": {
     "end_time": "2022-12-29T14:05:08.936415Z",
     "start_time": "2022-12-29T14:05:08.910270Z"
    }
   },
   "outputs": [
    {
     "data": {
      "text/plain": [
       "'Complete!'"
      ]
     },
     "execution_count": 15,
     "metadata": {},
     "output_type": "execute_result"
    }
   ],
   "source": [
    "from news import News\n",
    "\n",
    "newsSushi = News('Hard blow for SUSHI: has the cryptocurrency expired?')\n",
    "\n",
    "assert newsSushi.header == 'Hard blow for SUSHI: has the cryptocurrency expired?'\n",
    "assert newsSushi.is_about_token('sushi')\n",
    "\n",
    "'Complete!'"
   ]
  },
  {
   "cell_type": "markdown",
   "id": "0dcd069d",
   "metadata": {
    "ExecuteTime": {
     "end_time": "2022-12-29T14:07:01.701821Z",
     "start_time": "2022-12-29T14:07:01.681335Z"
    }
   },
   "source": [
    "<font color=\"222277\">In the same file `news.py`, write a class `NewsBox` whose constructor takes as a parameter the name of the cryptocurrency to monitor (a `str`), and which has two public functions:\n",
    "\n",
    "* `deliver_news(news)`, which takes a piece of news as input and stores it **if** it is about the cryptocurrency being monitored.\n",
    "* `consult()`, which displays all the news collected about the cryptocurrency being monitored.</font>\n",
    "\n",
    "##### Validate your implementation with the following cell. The way you display the news doesn’t matter, but you should only see news that mention SUSHI."
   ]
  },
  {
   "cell_type": "code",
   "execution_count": 40,
   "id": "ccf06f38",
   "metadata": {
    "ExecuteTime": {
     "end_time": "2022-12-29T14:19:57.531172Z",
     "start_time": "2022-12-29T14:19:57.496636Z"
    }
   },
   "outputs": [
    {
     "name": "stdout",
     "output_type": "stream",
     "text": [
      "All news about SUSHI :\n",
      "Maki no mistake, SUSHI is about to go to the moon!\n",
      "Forget diamonds — SUSHI is forever raw (and apparently unstoppable)!\n",
      "He tries to buy sushi with SUSHI — what happens next is incredible\n",
      "DOGE: The war with SUSHI is far from over\n"
     ]
    }
   ],
   "source": [
    "from news import NewsBox\n",
    "\n",
    "newsBox = NewsBox('SUSHI')\n",
    "\n",
    "news1 = News(\"Bitcoin, the favorite currency of the black market?\")\n",
    "news2 = News(\"Maki no mistake, SUSHI is about to go to the moon!\")\n",
    "news3 = News(\"Forget diamonds — SUSHI is forever raw (and apparently unstoppable)!\")\n",
    "news4 = News(\"NFTs are exploding in the art market\")\n",
    "news5 = News(\"He tries to buy sushi with SUSHI — what happens next is incredible\")\n",
    "news6 = News(\"DOGE: The war with SUSHI is far from over\")\n",
    "\n",
    "newsBox.deliver_news(news1)\n",
    "newsBox.deliver_news(news2)\n",
    "newsBox.deliver_news(news3)\n",
    "newsBox.deliver_news(news4)\n",
    "newsBox.deliver_news(news5)\n",
    "newsBox.deliver_news(news6)\n",
    "\n",
    "newsBox.consult()"
   ]
  },
  {
   "cell_type": "markdown",
   "id": "1f801a7c",
   "metadata": {},
   "source": [
    "## Exercise 3 – The Monte Carlo Method\n",
    "\n",
    "This exercise is a bit more complex. However, you have access to hints (and even the full solution) if you get stuck. The goal is to sharpen your problem-solving skills. Feel free to grab a pen and paper to sketch out your ideas.\n",
    "\n",
    "***\n",
    "\n",
    "We learned in class that sometimes a probabilistic solution can closely approximate an exact solution. This is precisely what enabled Satoshi Nakamoto to create Bitcoin by solving the Byzantine Generals Problem probabilistically. This exercise demonstrates an interesting probabilistic approach for computing numerical values.\n",
    "\n",
    "There are many ways to calculate as precise a value of <font size=\"4\">**π**</font> as possible. One interesting method is the Monte Carlo method.\n",
    "\n",
    "Picture this: it’s a rainy Sunday afternoon, you’re on vacation in a forest, the power is out, so there’s not much to do. You wonder what the 20th decimal of <font size=\"4\">**π**</font> is. You take a sheet of paper, scissors, and a perfectly rounded rock, but it's not to play rock-paper-scissors. Instead you cut the sheet into a perfect square (yes, you’re that good) and use the rock to draw a perfect circle that just touches the edges of the square. Then you head outside into the rain and observe carefully, counting how many raindrops fall inside the circle and how many fall outside the circle but still within the square.\n",
    "\n",
    "***\n",
    "\n",
    "<font color=\"222277\">In a new script called `monte_carlo.py`, write a function `rain_drop()` that returns two random numbers between 0 and 1, representing the 2D position of a raindrop falling within the unit square (0 to 1).</font>\n",
    "\n",
    "> **Hint**: The `random` package has a `random()` function that might be particularly interesting for you…"
   ]
  },
  {
   "cell_type": "code",
   "execution_count": 36,
   "id": "5979b48a",
   "metadata": {
    "ExecuteTime": {
     "end_time": "2022-12-29T14:36:59.068671Z",
     "start_time": "2022-12-29T14:36:59.046872Z"
    }
   },
   "outputs": [
    {
     "data": {
      "text/plain": [
       "(0.4062026518808256, 0.3298329140579028)"
      ]
     },
     "execution_count": 36,
     "metadata": {},
     "output_type": "execute_result"
    }
   ],
   "source": [
    "from monte_carlo import rain_drop\n",
    "\n",
    "rain_drop()"
   ]
  },
  {
   "cell_type": "markdown",
   "id": "669bacbc",
   "metadata": {},
   "source": [
    "<font color=\"222277\">Still in `monte_carlo.py`, write a function `calculate_pi(iterations)` that takes an integer parameter representing a precision criterion (the larger the number, the more precise the calculation) and calculates the value of <font size=\"4\">**π**</font> based on this precision factor.</font>\n",
    "\n",
    "I’ll let you figure out how to do this ;) If you don’t have the time or desire, there are several hints hidden just below (click on ***INDICE X*** to reveal them):\n",
    "\n",
    "***\n",
    "> <details><summary>INDICE 1</summary><p>If raindrops fall randomly on a 1×1 square, what is the probability that a drop lands on the circle of diameter 1 centered at (0.5, 0.5)?</p></details>\n",
    "***\n",
    "> <details><summary>INDICE 2</summary><p>You calculate such a probability by dividing the area of the circle by the area of the square. Therefore, by simulating enough raindrops, you should be able to find <font size=\"4\">π</font>.</p></details>\n",
    "***\n",
    "> <details><summary>SOLUTION</summary><p>Create a number of raindrops equal to the parameter passed to the function, for example 100,000. For each drop, calculate whether it falls on the circle or not. By dividing the number of drops that land on the circle by the total number of drops (100,000), you get an estimate of the probability \\( P \\) that a drop falls on the circle (thanks to the law of large numbers). Since the area of the circle is \\(\\pi \\times r^2 = {\\pi \\over 4}\\) and the area of the square is \\(1\\), you get the formula \\(\\pi = 4P\\). The larger the number of drops, the longer the calculation takes, but the closer the value of <font size=\"4\">π</font> gets to the exact result.</p></details>\n",
    "***\n",
    "\n",
    "##### The following cell displays your result as well as the execution time for calculating <font size=\"4\">**π**</font>."
   ]
  },
  {
   "cell_type": "code",
   "execution_count": 50,
   "id": "f1f2b51d",
   "metadata": {
    "ExecuteTime": {
     "end_time": "2022-12-29T15:05:41.602532Z",
     "start_time": "2022-12-29T15:05:36.155307Z"
    }
   },
   "outputs": [
    {
     "name": "stdout",
     "output_type": "stream",
     "text": [
      "7852966\n",
      "CPU times: user 2.98 s, sys: 3.24 ms, total: 2.99 s\n",
      "Wall time: 2.99 s\n"
     ]
    },
    {
     "data": {
      "text/plain": [
       "3.1411864"
      ]
     },
     "execution_count": 50,
     "metadata": {},
     "output_type": "execute_result"
    }
   ],
   "source": [
    "from monte_carlo import calculate_pi\n",
    "\n",
    "%time calculate_pi(10000000)"
   ]
  },
  {
   "cell_type": "markdown",
   "id": "e134165e-5558-4c49-ab03-8a07ba75cebc",
   "metadata": {},
   "source": [
    "## Exercise 4 – Scam\n",
    "\n",
    "For this fourth exercise, your algorithmic approach will be put to the test. No hints or help, just you and your algorithmic know-how.\n",
    "\n",
    "***\n",
    "\n",
    "You’re setting up a Ponzi scheme in the cryptocurrency market (please don’t do this in real life) and want to scam poor, clueless souls into entrusting you with their assets.\n",
    "\n",
    "Everyone knows some people became millionaires by investing in the right cryptocurrency, and you want to ride that wave.\n",
    "\n",
    "You have, in the variable `history`, the price of DOGE over the last 100 days.\n",
    "\n",
    "**Simply run the following cell to store the price of DOGE for the last 100 days in `history`.**"
   ]
  },
  {
   "cell_type": "code",
   "execution_count": 51,
   "id": "2008cd6e-3e1b-44d6-b7de-5f4c4e14cac4",
   "metadata": {
    "ExecuteTime": {
     "end_time": "2024-01-08T16:19:38.842027Z",
     "start_time": "2024-01-08T16:19:38.403845Z"
    }
   },
   "outputs": [
    {
     "data": {
      "text/plain": [
       "[<matplotlib.lines.Line2D at 0x755327f76e90>]"
      ]
     },
     "execution_count": 51,
     "metadata": {},
     "output_type": "execute_result"
    },
    {
     "data": {
      "image/png": "[encoded data removed]",
      "text/plain": [
       "<Figure size 640x480 with 1 Axes>"
      ]
     },
     "metadata": {},
     "output_type": "display_data"
    }
   ],
   "source": [
    "from matplotlib.pyplot import plot\n",
    "from math import sin\n",
    "%matplotlib inline\n",
    "\n",
    "history = []\n",
    "\n",
    "for i in range(100):\n",
    "    price = 0.05 + 0.03 * sin(i / 20) + 0.01 * sin(sin(i / 5)) + 0.01 * sin(i) * sin(i / 2) # Very convincing isn't it?\n",
    "    history.append(price)\n",
    "\n",
    "plot(history)"
   ]
  },
  {
   "cell_type": "markdown",
   "id": "3764fa26-33c7-4107-8fd7-6667399605f4",
   "metadata": {},
   "source": [
    "Your goal is to calculate the maximum possible profit over this time period so you can tell your victims how much they can expect to earn from your expertise.\n",
    "\n",
    "The best strategy is to buy at the lows and sell at the highs.\n",
    "\n",
    "We consider the total multiplier between your initial investment and your capital at the end of the time period as the profit result. For example, a result of `100` means your investment has increased 100-fold (×100) over the 100 days.\n",
    "\n",
    "***\n",
    "\n",
    "<font color=\"222277\">In a new file called `ponzi.py`, write a function `best_profit(history)` that takes a list of prices as a parameter and calculates the best profit you can achieve.</font>"
   ]
  },
  {
   "cell_type": "code",
   "execution_count": 59,
   "id": "dca2661b-8701-41a6-ba84-b361a989d2a5",
   "metadata": {},
   "outputs": [
    {
     "name": "stdout",
     "output_type": "stream",
     "text": [
      "I promise your investment will go x325 in 100 days! TO THE MOON!\n"
     ]
    },
    {
     "data": {
      "text/plain": [
       "'Complete!'"
      ]
     },
     "execution_count": 59,
     "metadata": {},
     "output_type": "execute_result"
    }
   ],
   "source": [
    "from ponzi import best_profit\n",
    "\n",
    "totalProfit = best_profit(history)\n",
    "totalProfit = round(totalProfit)\n",
    "\n",
    "print(f'I promise your investment will go x{totalProfit} in 100 days! TO THE MOON!')\n",
    "\n",
    "assert totalProfit == 325\n",
    "\n",
    "'Complete!'"
   ]
  },
  {
   "cell_type": "markdown",
   "id": "3975ff25-0aeb-427b-a462-d7eb3055126a",
   "metadata": {},
   "source": [
    "## Exercise 5 – Message Survival\n",
    "\n",
    "One of the strong suits of blockchain technology is its **resilience**: blocks are continuously transmitted between network nodes, so if one node fails, all other nodes still have a good chance of having retrieved its content over time.\n",
    "\n",
    "We’re going to simulate that resilience here.\n",
    "\n",
    "We have a network of \\(N\\) nodes, which need to store a message so large that it must be split into five parts (`taking`, `the`, `hobbits`, `to`, and `isengard`). These nodes are not all connected to each other: when a node \\(A\\) starts up, for every other node \\(B\\), there is an \\(X\\%\\) chance that \\(A\\) will connect to \\(B\\).\n",
    "\n",
    "Each day, a node can do one of two possible actions:\n",
    "1. **Restart (Y\\% chance):** The node dies and restarts but loses all its data, and must reconnect to the other nodes (with an \\(X\\%\\) chance for each).\n",
    "2. **Communicate ((1 - Y)% chance):** The node sends a random piece of the message that it owns to all the nodes it is connected to.\n",
    "\n",
    "By experimenting with certain parameters (\\(N\\), \\(X\\), and \\(Y\\)), it’s interesting to see whether the full message can survive over time.\n",
    "\n",
    "---\n",
    "\n",
    "<font color=\"222277\">In a new file named `survival.py`, write a class `Node` that takes a string parameter `name` (so you can identify it).</font>"
   ]
  },
  {
   "cell_type": "code",
   "execution_count": 75,
   "id": "a419a1ec-58ca-4224-bad3-b251a09c865f",
   "metadata": {},
   "outputs": [
    {
     "data": {
      "text/plain": [
       "'Complete!'"
      ]
     },
     "execution_count": 75,
     "metadata": {},
     "output_type": "execute_result"
    }
   ],
   "source": [
    "from survival import Node\n",
    "\n",
    "nodes = [Node(f'Node {i+1}') for i in range(10)]\n",
    "\n",
    "assert nodes[5].name == 'Node 6'\n",
    "\n",
    "'Complete!'"
   ]
  },
  {
   "cell_type": "markdown",
   "id": "c6564225-b93e-4fe5-9e34-cff99e4485e2",
   "metadata": {},
   "source": [
    "<font color=\"222277\">Add to this class a function `reboot(connectedNodes)` that takes as a parameter a list of nodes to connect to and stores this list in a variable called `neighbors`. This function should also initialize a variable `message` containing a list of 5 empty strings.</font>"
   ]
  },
  {
   "cell_type": "code",
   "execution_count": 76,
   "id": "9b3b9d03-76ae-4eec-9b69-206414fe4a5f",
   "metadata": {},
   "outputs": [
    {
     "data": {
      "text/plain": [
       "'Complete!'"
      ]
     },
     "execution_count": 76,
     "metadata": {},
     "output_type": "execute_result"
    }
   ],
   "source": [
    "for node in nodes:\n",
    "    node.reboot(list(filter(lambda otherNode: node != otherNode, nodes)))\n",
    "\n",
    "assert len(nodes[0].neighbors) == 9\n",
    "assert not any(messageBit for messageBit in nodes[0].message)\n",
    "\n",
    "'Complete!'"
   ]
  },
  {
   "cell_type": "markdown",
   "id": "fa1a786f-74b8-42ce-b741-da841e757e7f",
   "metadata": {},
   "source": [
    "<font color=\"222277\">Write a new function `tell_message()` that returns the most complete message possible, preceded by the node’s name in square brackets `[]`. If a piece of the message is missing, replace it with `???`. For example, a node called `Node 4` that has message parts 1, 2, and 4 would display `[Node 4] taking the ??? to ???`.</font>"
   ]
  },
  {
   "cell_type": "code",
   "execution_count": 77,
   "id": "a24dbfb2-1cb5-4ff4-a048-32a73b29c1ec",
   "metadata": {},
   "outputs": [
    {
     "data": {
      "text/plain": [
       "'Complete!'"
      ]
     },
     "execution_count": 77,
     "metadata": {},
     "output_type": "execute_result"
    }
   ],
   "source": [
    "nodes[0].message[4] = 'isengard'\n",
    "\n",
    "assert nodes[0].tell_message() == '[Node 1] ??? ??? ??? ??? isengard'\n",
    "\n",
    "'Complete!'"
   ]
  },
  {
   "cell_type": "markdown",
   "id": "1750e0b6-c9cf-43b4-9565-31ee384d09f5",
   "metadata": {},
   "source": [
    "<font color=\"222277\">Implement the function `deliver_message_bit(index, messageBit)` which takes the index of a piece of the message (between 1 and 5 inclusive) and the corresponding message fragment, then adds this piece to its own message if it doesn't already have it.</font>"
   ]
  },
  {
   "cell_type": "code",
   "execution_count": 78,
   "id": "452bd75a-4736-4241-b917-b9b407deb1ae",
   "metadata": {},
   "outputs": [
    {
     "data": {
      "text/plain": [
       "'Complete!'"
      ]
     },
     "execution_count": 78,
     "metadata": {},
     "output_type": "execute_result"
    }
   ],
   "source": [
    "nodes[0].deliver_message_bit(2, 'the')\n",
    "\n",
    "assert nodes[0].tell_message() == '[Node 1] ??? the ??? ??? isengard'\n",
    "\n",
    "'Complete!'"
   ]
  },
  {
   "cell_type": "markdown",
   "id": "b6993496-0068-4bbd-a555-48fb76ee71ac",
   "metadata": {},
   "source": [
    "<font color=\"222277\">Finally, add the function `send_random_message_bit_to_neighbors()` that randomly selects one of the message fragments the node possesses and sends it to all of its connected neighbors.</font>\n",
    "\n",
    "***\n",
    "> <details><summary>HINT 1</summary>\n",
    "> <p>Make use of the <code>deliver_message_bit</code> function.</p>\n",
    "> </details>\n",
    "***\n",
    "> <details><summary>HINT 2</summary>\n",
    "> <p><code>int(random() * n)</code> gives you a random integer between <code>0</code> (inclusive) and <code>n</code> (exclusive).</p>\n",
    "> </details>\n",
    "***"
   ]
  },
  {
   "cell_type": "code",
   "execution_count": 80,
   "id": "9fd75856-6cb6-486e-a9df-e98866642a4a",
   "metadata": {},
   "outputs": [
    {
     "data": {
      "text/plain": [
       "'Complete!'"
      ]
     },
     "execution_count": 80,
     "metadata": {},
     "output_type": "execute_result"
    }
   ],
   "source": [
    "nodes[0].send_random_message_bit_to_neighbors()\n",
    "\n",
    "assert (nodes[4].tell_message() == '[Node 5] ??? the ??? ??? ???') or (nodes[4].tell_message() == '[Node 5] ??? ??? ??? ??? isengard')\n",
    "\n",
    "'Complete!'"
   ]
  },
  {
   "cell_type": "markdown",
   "id": "3bc430ff-1049-4345-8d3c-1ad2a9017334",
   "metadata": {},
   "source": [
    "Now we will create the simulation. This simulation will assign an initial message to all the nodes, then simulate the nodes’ behavior day by day over the course of a year (365 days). At the end, we’ll see how many nodes have the complete message.\n",
    "\n",
    "---\n",
    "\n",
    "<font color=\"\">Still in `survival.py`, add a class called `Simulation` whose constructor takes three parameters: an integer `nodeCount` (the number of nodes) and two decimal values between 0 and 1: `connectProbability` (the probability of connecting to another node) and `crashProbability` (the probability that a node will reboot on a new day). These three values should be stored internally.</font>"
   ]
  },
  {
   "cell_type": "code",
   "execution_count": 124,
   "id": "bdd95a47-1097-430e-8061-af6bfa75f179",
   "metadata": {},
   "outputs": [
    {
     "data": {
      "text/plain": [
       "'Complete!'"
      ]
     },
     "execution_count": 124,
     "metadata": {},
     "output_type": "execute_result"
    }
   ],
   "source": [
    "from survival import Simulation\n",
    "\n",
    "simulation = Simulation(10, 0.5, 0.1)\n",
    "\n",
    "assert simulation.nodeCount == 10\n",
    "assert simulation.connectProbability == 0.5\n",
    "assert simulation.crashProbability == 0.1\n",
    "\n",
    "'Complete!'"
   ]
  },
  {
   "cell_type": "markdown",
   "id": "025f1d3b-a23a-4cd1-89c9-9f664cb3ea38",
   "metadata": {},
   "source": [
    "<font color=\"\">Within the `Simulation` class, implement a function `reboot_node_with_random_neighbors(self, nodeToReboot, potentialNeighbors)` that reboots the `nodeToReboot` by connecting it randomly to a subset of all possible nodes, with each connection having a probability of `connectProbability`. Be careful not to connect `nodeToReboot` to itself.</font>\n",
    "\n",
    "***\n",
    "> <details><summary>HINT</summary><p><code>random() < connectProbability</code> is probably the formula you’re looking for...</p></details>\n",
    "***"
   ]
  },
  {
   "cell_type": "code",
   "execution_count": 125,
   "id": "1c4d6663-a7d1-4978-8406-2f9901c6a929",
   "metadata": {},
   "outputs": [
    {
     "data": {
      "text/plain": [
       "'Complete!'"
      ]
     },
     "execution_count": 125,
     "metadata": {},
     "output_type": "execute_result"
    }
   ],
   "source": [
    "neighborCounts = []\n",
    "\n",
    "for _ in range(100000):\n",
    "# for _ in range(1000):\n",
    "    simulation.reboot_node_with_random_neighbors(nodes[0], nodes)\n",
    "    neighborCounts.append(len(nodes[0].neighbors))\n",
    "# print(neighborCounts)\n",
    "# print(round(sum(neighborCounts) / len(neighborCounts), 1))\n",
    "#### Errreur du prof ici, ca asseter avec 4,5\n",
    "assert round(sum(neighborCounts) / len(neighborCounts), 1) == 5\n",
    "\n",
    "'Complete!'"
   ]
  },
  {
   "cell_type": "markdown",
   "id": "959e7178-624d-49e7-b6ec-f1479ee87631",
   "metadata": {},
   "source": [
    "<font color=\"\">Finally, write a function `run(days)` that takes an integer number of days to simulate. It should perform the daily simulation over the specified number of days, and then, at the end, display the message each node possesses. Make use of the functions you've created up to this point.</font>"
   ]
  },
  {
   "cell_type": "code",
   "execution_count": 126,
   "id": "adbfbf29-a003-47ae-98c7-f3a7dd067387",
   "metadata": {},
   "outputs": [
    {
     "name": "stdout",
     "output_type": "stream",
     "text": [
      "[Node 1] ??? ??? ??? ??? ???\n",
      "[Node 2] ??? ??? ??? ??? ???\n",
      "[Node 3] ??? ??? ??? ??? ???\n",
      "[Node 4] ??? ??? ??? ??? ???\n",
      "[Node 5] ??? ??? ??? ??? ???\n",
      "[Node 6] ??? ??? ??? ??? ???\n",
      "[Node 7] ??? ??? ??? ??? ???\n",
      "[Node 8] ??? ??? ??? ??? ???\n",
      "[Node 9] ??? ??? ??? ??? ???\n",
      "[Node 10] ??? ??? ??? ??? ???\n"
     ]
    }
   ],
   "source": [
    "simulation.run(365)"
   ]
  },
  {
   "cell_type": "markdown",
   "id": "5655edf6-549b-4496-9097-7ab787604de9",
   "metadata": {},
   "source": [
    "***\n",
    "You can use the cell below to experiment with the parameters and observe the point at which the message is permanently destroyed."
   ]
  },
  {
   "cell_type": "code",
   "execution_count": 239,
   "id": "34de1a35-78f3-4511-96ad-474449d6bed6",
   "metadata": {},
   "outputs": [
    {
     "name": "stdout",
     "output_type": "stream",
     "text": [
      "[Node 1] taking the hobbit to isengard\n",
      "[Node 2] taking the hobbit to isengard\n",
      "[Node 3] taking the hobbit to isengard\n",
      "[Node 4] taking the hobbit to isengard\n",
      "[Node 5] taking the hobbit to isengard\n",
      "[Node 6] taking the hobbit to isengard\n",
      "[Node 7] taking the hobbit ??? ???\n",
      "[Node 8] ??? the hobbit to isengard\n",
      "[Node 9] taking the hobbit to isengard\n",
      "[Node 10] taking the hobbit to isengard\n",
      "[Node 11] taking the hobbit to isengard\n",
      "[Node 12] taking the hobbit to isengard\n",
      "[Node 13] ??? the hobbit to isengard\n",
      "[Node 14] taking the hobbit to isengard\n",
      "[Node 15] ??? the hobbit to isengard\n",
      "[Node 16] taking the hobbit to isengard\n",
      "[Node 17] taking the hobbit to isengard\n",
      "[Node 18] taking the hobbit to isengard\n",
      "[Node 19] taking the hobbit to isengard\n",
      "[Node 20] taking the hobbit to isengard\n",
      "[Node 21] taking the hobbit to isengard\n",
      "[Node 22] ??? the ??? to isengard\n",
      "[Node 23] taking the hobbit to isengard\n",
      "[Node 24] taking the hobbit to isengard\n",
      "[Node 25] taking the hobbit to isengard\n",
      "[Node 26] taking the ??? to isengard\n",
      "[Node 27] taking the hobbit to isengard\n",
      "[Node 28] ??? the hobbit to isengard\n",
      "[Node 29] ??? the hobbit to isengard\n",
      "[Node 30] ??? the ??? to isengard\n",
      "[Node 31] ??? the hobbit to isengard\n",
      "[Node 32] ??? the hobbit to isengard\n",
      "[Node 33] ??? ??? hobbit to ???\n",
      "[Node 34] ??? ??? ??? to isengard\n",
      "[Node 35] ??? the hobbit ??? isengard\n",
      "[Node 36] taking the hobbit to isengard\n",
      "[Node 37] ??? the hobbit to isengard\n",
      "[Node 38] taking the hobbit to isengard\n",
      "[Node 39] ??? the ??? to ???\n",
      "[Node 40] taking the hobbit to isengard\n",
      "[Node 41] taking the hobbit to isengard\n",
      "[Node 42] taking the hobbit to isengard\n",
      "[Node 43] taking the hobbit to isengard\n",
      "[Node 44] ??? ??? hobbit to ???\n",
      "[Node 45] taking ??? hobbit ??? isengard\n",
      "[Node 46] taking the hobbit to isengard\n",
      "[Node 47] taking the ??? to isengard\n",
      "[Node 48] taking the hobbit to isengard\n",
      "[Node 49] ??? the hobbit to isengard\n",
      "[Node 50] taking the ??? to isengard\n",
      "[Node 51] ??? the hobbit to isengard\n",
      "[Node 52] taking the hobbit to isengard\n",
      "[Node 53] ??? the hobbit to isengard\n",
      "[Node 54] taking the hobbit to isengard\n",
      "[Node 55] ??? ??? hobbit to isengard\n",
      "[Node 56] taking the hobbit to isengard\n",
      "[Node 57] ??? the hobbit to isengard\n",
      "[Node 58] taking the hobbit to isengard\n",
      "[Node 59] taking the hobbit to isengard\n",
      "[Node 60] taking ??? hobbit ??? ???\n",
      "[Node 61] taking the hobbit to isengard\n",
      "[Node 62] taking the hobbit to isengard\n",
      "[Node 63] taking the ??? to isengard\n",
      "[Node 64] taking the hobbit to isengard\n",
      "[Node 65] taking the hobbit to isengard\n",
      "[Node 66] ??? ??? hobbit to isengard\n",
      "[Node 67] taking the ??? to ???\n",
      "[Node 68] taking the hobbit to isengard\n",
      "[Node 69] taking the hobbit to isengard\n",
      "[Node 70] ??? ??? ??? to isengard\n",
      "[Node 71] ??? the hobbit to isengard\n",
      "[Node 72] ??? the hobbit to isengard\n",
      "[Node 73] taking the hobbit to ???\n",
      "[Node 74] taking ??? hobbit to ???\n",
      "[Node 75] taking the hobbit to isengard\n",
      "[Node 76] ??? the ??? to ???\n",
      "[Node 77] taking the ??? to ???\n",
      "[Node 78] taking the ??? to ???\n",
      "[Node 79] taking the hobbit to isengard\n",
      "[Node 80] taking the hobbit to isengard\n",
      "[Node 81] taking the hobbit to isengard\n",
      "[Node 82] taking the hobbit to isengard\n",
      "[Node 83] taking the hobbit to isengard\n",
      "[Node 84] taking ??? ??? to ???\n",
      "[Node 85] taking the hobbit to isengard\n",
      "[Node 86] taking ??? ??? ??? isengard\n",
      "[Node 87] taking the hobbit to isengard\n",
      "[Node 88] taking ??? ??? to ???\n",
      "[Node 89] ??? the ??? ??? ???\n",
      "[Node 90] taking the hobbit to isengard\n",
      "[Node 91] ??? the hobbit to isengard\n",
      "[Node 92] ??? the hobbit to isengard\n",
      "[Node 93] ??? ??? ??? ??? ???\n",
      "[Node 94] ??? ??? ??? ??? ???\n",
      "[Node 95] ??? ??? ??? ??? ???\n",
      "[Node 96] ??? ??? ??? ??? ???\n",
      "[Node 97] taking the ??? to ???\n",
      "[Node 98] taking the hobbit to isengard\n",
      "[Node 99] ??? the hobbit to isengard\n",
      "[Node 100] ??? the hobbit to isengard\n"
     ]
    }
   ],
   "source": [
    "nodeCount = 100\n",
    "connectProbability = 0.2\n",
    "crashProbability = 0.5\n",
    "daysToSimulate = 365\n",
    "\n",
    "simulation = Simulation(nodeCount, connectProbability, crashProbability)\n",
    "simulation.run(daysToSimulate)"
   ]
  }
 ],
 "metadata": {
  "kernelspec": {
   "display_name": "venv",
   "language": "python",
   "name": "python3"
  },
  "language_info": {
   "codemirror_mode": {
    "name": "ipython",
    "version": 3
   },
   "file_extension": ".py",
   "mimetype": "text/x-python",
   "name": "python",
   "nbconvert_exporter": "python",
   "pygments_lexer": "ipython3",
   "version": "3.13.1"
  }
 },
 "nbformat": 4,
 "nbformat_minor": 5
}
